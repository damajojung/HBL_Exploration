{
 "cells": [
  {
   "cell_type": "markdown",
   "metadata": {},
   "source": [
    "# Confidence Intervals"
   ]
  },
  {
   "cell_type": "code",
   "execution_count": 61,
   "metadata": {},
   "outputs": [],
   "source": [
    "import numpy as np\n",
    "import scipy.stats\n",
    "\n",
    "\n",
    "def mean_confidence_interval(data, confidence=0.95):\n",
    "    a = 1.0 * np.array(data)\n",
    "    n = len(a)\n",
    "    m, se = np.mean(a), scipy.stats.sem(a)\n",
    "    h = se * scipy.stats.t.ppf((1 + confidence) / 2., n-1)\n",
    "    print(h)\n",
    "    return m, m-h, m+h"
   ]
  },
  {
   "cell_type": "markdown",
   "metadata": {},
   "source": [
    "# Softmax"
   ]
  },
  {
   "cell_type": "markdown",
   "metadata": {},
   "source": [
    "## 10C"
   ]
  },
  {
   "cell_type": "code",
   "execution_count": 9,
   "metadata": {},
   "outputs": [
    {
     "name": "stdout",
     "output_type": "stream",
     "text": [
      "0.8611188246280983\n"
     ]
    },
    {
     "data": {
      "text/plain": [
       "(90.638, 89.77688117537191, 91.4991188246281)"
      ]
     },
     "execution_count": 9,
     "metadata": {},
     "output_type": "execute_result"
    }
   ],
   "source": [
    "data = np.array([91.65, 90.9, 89.95, 90.65, 90.04])\n",
    "\n",
    "mean_confidence_interval(data)"
   ]
  },
  {
   "cell_type": "markdown",
   "metadata": {},
   "source": [
    "# 100C"
   ]
  },
  {
   "cell_type": "code",
   "execution_count": 13,
   "metadata": {},
   "outputs": [
    {
     "name": "stdout",
     "output_type": "stream",
     "text": [
      "1.0758634841100905\n"
     ]
    },
    {
     "data": {
      "text/plain": [
       "(84.35, 83.27413651588991, 85.42586348411008)"
      ]
     },
     "execution_count": 13,
     "metadata": {},
     "output_type": "execute_result"
    }
   ],
   "source": [
    "data = np.array([84.7, 85.0, 84.5, 85.6, 83.5, 82.8])\n",
    "\n",
    "mean_confidence_interval(data)"
   ]
  },
  {
   "cell_type": "markdown",
   "metadata": {},
   "source": [
    "# 1000C"
   ]
  },
  {
   "cell_type": "code",
   "execution_count": 14,
   "metadata": {},
   "outputs": [
    {
     "name": "stdout",
     "output_type": "stream",
     "text": [
      "0.4808943986628504\n"
     ]
    },
    {
     "data": {
      "text/plain": [
       "(98.5, 98.01910560133715, 98.98089439866285)"
      ]
     },
     "execution_count": 14,
     "metadata": {},
     "output_type": "execute_result"
    }
   ],
   "source": [
    "data = np.array([98.1, 98.8, 99, 98.2, 98.4])\n",
    "\n",
    "mean_confidence_interval(data)"
   ]
  },
  {
   "cell_type": "markdown",
   "metadata": {},
   "source": [
    "# 10 - 10 noclip "
   ]
  },
  {
   "cell_type": "code",
   "execution_count": 15,
   "metadata": {},
   "outputs": [
    {
     "name": "stdout",
     "output_type": "stream",
     "text": [
      "1.1568151073053523\n"
     ]
    },
    {
     "data": {
      "text/plain": [
       "(90.53999999999999, 89.38318489269464, 91.69681510730534)"
      ]
     },
     "execution_count": 15,
     "metadata": {},
     "output_type": "execute_result"
    }
   ],
   "source": [
    "data = np.array([91.2, 90.8, 90.4, 89, 91.3])\n",
    "\n",
    "mean_confidence_interval(data)"
   ]
  },
  {
   "cell_type": "markdown",
   "metadata": {},
   "source": [
    "# 10-100 noclip"
   ]
  },
  {
   "cell_type": "code",
   "execution_count": 17,
   "metadata": {},
   "outputs": [
    {
     "name": "stdout",
     "output_type": "stream",
     "text": [
      "0.93907894508238\n"
     ]
    },
    {
     "data": {
      "text/plain": [
       "(90.52000000000001, 89.58092105491762, 91.4590789450824)"
      ]
     },
     "execution_count": 17,
     "metadata": {},
     "output_type": "execute_result"
    }
   ],
   "source": [
    "data = np.array([90.3, 89.3, 90.9, 91.2, 90.9])\n",
    "\n",
    "mean_confidence_interval(data)"
   ]
  },
  {
   "cell_type": "markdown",
   "metadata": {},
   "source": [
    "# 10-1000 noclip"
   ]
  },
  {
   "cell_type": "code",
   "execution_count": 18,
   "metadata": {},
   "outputs": [
    {
     "name": "stdout",
     "output_type": "stream",
     "text": [
      "4.433975009573211\n"
     ]
    },
    {
     "data": {
      "text/plain": [
       "(58.379999999999995, 53.946024990426785, 62.813975009573205)"
      ]
     },
     "execution_count": 18,
     "metadata": {},
     "output_type": "execute_result"
    }
   ],
   "source": [
    "data = np.array([62.1, 52.9, 57.5, 60.9, 58.5])\n",
    "\n",
    "mean_confidence_interval(data)"
   ]
  },
  {
   "cell_type": "markdown",
   "metadata": {},
   "source": [
    "# 10d-100c noclip"
   ]
  },
  {
   "cell_type": "code",
   "execution_count": 19,
   "metadata": {},
   "outputs": [
    {
     "name": "stdout",
     "output_type": "stream",
     "text": [
      "0.7573132563278961\n"
     ]
    },
    {
     "data": {
      "text/plain": [
       "(82.62, 81.86268674367211, 83.3773132563279)"
      ]
     },
     "execution_count": 19,
     "metadata": {},
     "output_type": "execute_result"
    }
   ],
   "source": [
    "data = np.array([83.2, 81.6, 82.8, 82.6, 82.9])\n",
    "\n",
    "mean_confidence_interval(data)"
   ]
  },
  {
   "cell_type": "markdown",
   "metadata": {},
   "source": [
    "# 100d-100c"
   ]
  },
  {
   "cell_type": "code",
   "execution_count": 20,
   "metadata": {},
   "outputs": [
    {
     "name": "stdout",
     "output_type": "stream",
     "text": [
      "3.0295074881643265\n"
     ]
    },
    {
     "data": {
      "text/plain": [
       "(56.660000000000004, 53.630492511835676, 59.68950748816433)"
      ]
     },
     "execution_count": 20,
     "metadata": {},
     "output_type": "execute_result"
    }
   ],
   "source": [
    "data = np.array([59.6, 53.4, 58.5, 55.9, 55.9])\n",
    "\n",
    "mean_confidence_interval(data)"
   ]
  },
  {
   "cell_type": "markdown",
   "metadata": {},
   "source": [
    "# 1000d-100c no clip"
   ]
  },
  {
   "cell_type": "code",
   "execution_count": 21,
   "metadata": {},
   "outputs": [
    {
     "name": "stdout",
     "output_type": "stream",
     "text": [
      "1.627006307540176\n"
     ]
    },
    {
     "data": {
      "text/plain": [
       "(45.38, 43.752993692459825, 47.00700630754018)"
      ]
     },
     "execution_count": 21,
     "metadata": {},
     "output_type": "execute_result"
    }
   ],
   "source": [
    "data = np.array([44.8, 47.3, 45.1, 43.8, 45.9])\n",
    "\n",
    "mean_confidence_interval(data)"
   ]
  },
  {
   "cell_type": "markdown",
   "metadata": {},
   "source": [
    "# 1000d-1000c no clip"
   ]
  },
  {
   "cell_type": "code",
   "execution_count": 3,
   "metadata": {},
   "outputs": [
    {
     "name": "stdout",
     "output_type": "stream",
     "text": [
      "0.7398067091981213\n"
     ]
    },
    {
     "data": {
      "text/plain": [
       "(14.6, 13.860193290801877, 15.339806709198122)"
      ]
     },
     "execution_count": 3,
     "metadata": {},
     "output_type": "execute_result"
    }
   ],
   "source": [
    "data = np.array([15.0, 13.9, 15.0, 14.0, 15.1])\n",
    "\n",
    "mean_confidence_interval(data)"
   ]
  },
  {
   "cell_type": "markdown",
   "metadata": {},
   "source": [
    "# 10d-1000c no clip"
   ]
  },
  {
   "cell_type": "code",
   "execution_count": 4,
   "metadata": {},
   "outputs": [
    {
     "name": "stdout",
     "output_type": "stream",
     "text": [
      "1.1057085878102062\n"
     ]
    },
    {
     "data": {
      "text/plain": [
       "(38.160000000000004, 37.0542914121898, 39.26570858781021)"
      ]
     },
     "execution_count": 4,
     "metadata": {},
     "output_type": "execute_result"
    }
   ],
   "source": [
    "data = np.array([37.2, 37.6, 38.5, 39.5, 38.0])\n",
    "\n",
    "mean_confidence_interval(data)"
   ]
  },
  {
   "cell_type": "markdown",
   "metadata": {},
   "source": [
    "# 100d-1000c no clip"
   ]
  },
  {
   "cell_type": "code",
   "execution_count": 5,
   "metadata": {},
   "outputs": [
    {
     "name": "stdout",
     "output_type": "stream",
     "text": [
      "0.6946663433823957\n"
     ]
    },
    {
     "data": {
      "text/plain": [
       "(10.860000000000001, 10.165333656617605, 11.554666343382397)"
      ]
     },
     "execution_count": 5,
     "metadata": {},
     "output_type": "execute_result"
    }
   ],
   "source": [
    "data = np.array([10.5, 11.2, 11.5, 11.0, 10.1])\n",
    "\n",
    "mean_confidence_interval(data)"
   ]
  },
  {
   "cell_type": "markdown",
   "metadata": {},
   "source": [
    "# CLIPPING"
   ]
  },
  {
   "cell_type": "markdown",
   "metadata": {},
   "source": [
    "# 10d-10c r 0.01"
   ]
  },
  {
   "cell_type": "code",
   "execution_count": 6,
   "metadata": {},
   "outputs": [
    {
     "name": "stdout",
     "output_type": "stream",
     "text": [
      "0.6281469704093364\n"
     ]
    },
    {
     "data": {
      "text/plain": [
       "(89.675, 89.04685302959066, 90.30314697040933)"
      ]
     },
     "execution_count": 6,
     "metadata": {},
     "output_type": "execute_result"
    }
   ],
   "source": [
    "data = np.array([89.5, 90.0, 90.0, 89.2, ])\n",
    "\n",
    "mean_confidence_interval(data)"
   ]
  },
  {
   "cell_type": "markdown",
   "metadata": {},
   "source": [
    "# 10d-10c r 0.3"
   ]
  },
  {
   "cell_type": "code",
   "execution_count": 7,
   "metadata": {},
   "outputs": [
    {
     "name": "stdout",
     "output_type": "stream",
     "text": [
      "0.5031889427942935\n"
     ]
    },
    {
     "data": {
      "text/plain": [
       "(90.5, 89.9968110572057, 91.0031889427943)"
      ]
     },
     "execution_count": 7,
     "metadata": {},
     "output_type": "execute_result"
    }
   ],
   "source": [
    "data = np.array([90.9, 90.2, 90.3, 90.6])\n",
    "\n",
    "mean_confidence_interval(data)"
   ]
  },
  {
   "cell_type": "markdown",
   "metadata": {},
   "source": [
    "# 10d-10c r 0.5"
   ]
  },
  {
   "cell_type": "code",
   "execution_count": 8,
   "metadata": {},
   "outputs": [
    {
     "name": "stdout",
     "output_type": "stream",
     "text": [
      "0.8152592651389415\n"
     ]
    },
    {
     "data": {
      "text/plain": [
       "(90.525, 89.70974073486106, 91.34025926513895)"
      ]
     },
     "execution_count": 8,
     "metadata": {},
     "output_type": "execute_result"
    }
   ],
   "source": [
    "data = np.array([90.0, 91.1, 90.2, 90.8])\n",
    "\n",
    "mean_confidence_interval(data)"
   ]
  },
  {
   "cell_type": "markdown",
   "metadata": {},
   "source": [
    "# 10d-10c r 0.7"
   ]
  },
  {
   "cell_type": "code",
   "execution_count": 9,
   "metadata": {},
   "outputs": [
    {
     "name": "stdout",
     "output_type": "stream",
     "text": [
      "0.6281469704093416\n"
     ]
    },
    {
     "data": {
      "text/plain": [
       "(90.675, 90.04685302959065, 91.30314697040934)"
      ]
     },
     "execution_count": 9,
     "metadata": {},
     "output_type": "execute_result"
    }
   ],
   "source": [
    "data = np.array([90.8, 91.0, 90.1, 90.8])\n",
    "\n",
    "mean_confidence_interval(data)"
   ]
  },
  {
   "cell_type": "markdown",
   "metadata": {},
   "source": [
    "# 10d-10c r 1.0"
   ]
  },
  {
   "cell_type": "code",
   "execution_count": 10,
   "metadata": {},
   "outputs": [
    {
     "name": "stdout",
     "output_type": "stream",
     "text": [
      "0.6006735676008842\n"
     ]
    },
    {
     "data": {
      "text/plain": [
       "(90.475, 89.87432643239912, 91.07567356760087)"
      ]
     },
     "execution_count": 10,
     "metadata": {},
     "output_type": "execute_result"
    }
   ],
   "source": [
    "data = np.array([90.0, 90.4, 90.6, 90.9])\n",
    "\n",
    "mean_confidence_interval(data)"
   ]
  },
  {
   "cell_type": "markdown",
   "metadata": {},
   "source": [
    "# 100d-10c r 0.01"
   ]
  },
  {
   "cell_type": "code",
   "execution_count": 11,
   "metadata": {},
   "outputs": [
    {
     "name": "stdout",
     "output_type": "stream",
     "text": [
      "0.4080524283949508\n"
     ]
    },
    {
     "data": {
      "text/plain": [
       "(89.64, 89.23194757160505, 90.04805242839495)"
      ]
     },
     "execution_count": 11,
     "metadata": {},
     "output_type": "execute_result"
    }
   ],
   "source": [
    "data = np.array([89.7, 90.1, 89.5, 89.7, 89.2])\n",
    "\n",
    "mean_confidence_interval(data)"
   ]
  },
  {
   "cell_type": "markdown",
   "metadata": {},
   "source": [
    "# 100d-10c r 0.3"
   ]
  },
  {
   "cell_type": "code",
   "execution_count": 12,
   "metadata": {},
   "outputs": [
    {
     "name": "stdout",
     "output_type": "stream",
     "text": [
      "0.17559780661701316\n"
     ]
    },
    {
     "data": {
      "text/plain": [
       "(89.89999999999999, 89.72440219338297, 90.07559780661701)"
      ]
     },
     "execution_count": 12,
     "metadata": {},
     "output_type": "execute_result"
    }
   ],
   "source": [
    "data = np.array([89.9, 90.1, 89.9, 89.9, 89.7])\n",
    "\n",
    "mean_confidence_interval(data)"
   ]
  },
  {
   "cell_type": "markdown",
   "metadata": {},
   "source": [
    "# 100d-10c r 0.5"
   ]
  },
  {
   "cell_type": "code",
   "execution_count": 13,
   "metadata": {},
   "outputs": [
    {
     "name": "stdout",
     "output_type": "stream",
     "text": [
      "0.18416853329920227\n"
     ]
    },
    {
     "data": {
      "text/plain": [
       "(90.17999999999999, 89.99583146670079, 90.36416853329919)"
      ]
     },
     "execution_count": 13,
     "metadata": {},
     "output_type": "execute_result"
    }
   ],
   "source": [
    "data = np.array([90.2, 90.4, 90.2, 90.0, 90.1])\n",
    "\n",
    "mean_confidence_interval(data)"
   ]
  },
  {
   "cell_type": "markdown",
   "metadata": {},
   "source": [
    "# 100d-10c r 0.7"
   ]
  },
  {
   "cell_type": "code",
   "execution_count": 14,
   "metadata": {},
   "outputs": [
    {
     "name": "stdout",
     "output_type": "stream",
     "text": [
      "0.4442312168316479\n"
     ]
    },
    {
     "data": {
      "text/plain": [
       "(89.96, 89.51576878316834, 90.40423121683165)"
      ]
     },
     "execution_count": 14,
     "metadata": {},
     "output_type": "execute_result"
    }
   ],
   "source": [
    "data = np.array([90.5, 89.7, 90.1, 89.9, 89.6])\n",
    "\n",
    "mean_confidence_interval(data)"
   ]
  },
  {
   "cell_type": "markdown",
   "metadata": {},
   "source": [
    "# 100d-10c r 1.0"
   ]
  },
  {
   "cell_type": "code",
   "execution_count": 15,
   "metadata": {},
   "outputs": [
    {
     "name": "stdout",
     "output_type": "stream",
     "text": [
      "0.5340598792462679\n"
     ]
    },
    {
     "data": {
      "text/plain": [
       "(90.1, 89.56594012075372, 90.63405987924627)"
      ]
     },
     "execution_count": 15,
     "metadata": {},
     "output_type": "execute_result"
    }
   ],
   "source": [
    "data = np.array([90.0, 90.5, 89.4, 90.3, 90.3])\n",
    "\n",
    "mean_confidence_interval(data)"
   ]
  },
  {
   "cell_type": "markdown",
   "metadata": {},
   "source": [
    "# 1000d-10c r 0.01"
   ]
  },
  {
   "cell_type": "code",
   "execution_count": 16,
   "metadata": {},
   "outputs": [
    {
     "name": "stdout",
     "output_type": "stream",
     "text": [
      "0.5183829663500104\n"
     ]
    },
    {
     "data": {
      "text/plain": [
       "(90.10000000000001, 89.58161703365, 90.61838296635001)"
      ]
     },
     "execution_count": 16,
     "metadata": {},
     "output_type": "execute_result"
    }
   ],
   "source": [
    "data = np.array([90.7, 89.7, 89.8, 90.7, 90.1, 89.6])\n",
    "\n",
    "mean_confidence_interval(data)"
   ]
  },
  {
   "cell_type": "markdown",
   "metadata": {},
   "source": [
    "# 1000d-10c r 0.3"
   ]
  },
  {
   "cell_type": "code",
   "execution_count": 17,
   "metadata": {},
   "outputs": [
    {
     "name": "stdout",
     "output_type": "stream",
     "text": [
      "0.3615098883255837\n"
     ]
    },
    {
     "data": {
      "text/plain": [
       "(90.06666666666666, 89.70515677834108, 90.42817655499225)"
      ]
     },
     "execution_count": 17,
     "metadata": {},
     "output_type": "execute_result"
    }
   ],
   "source": [
    "data = np.array([90.6, 89.6, 90.1, 90.2, 89.8, 90.1])\n",
    "\n",
    "mean_confidence_interval(data)"
   ]
  },
  {
   "cell_type": "markdown",
   "metadata": {},
   "source": [
    "# 1000d-10c r 0.5"
   ]
  },
  {
   "cell_type": "code",
   "execution_count": 18,
   "metadata": {},
   "outputs": [
    {
     "name": "stdout",
     "output_type": "stream",
     "text": [
      "0.47746438481452325\n"
     ]
    },
    {
     "data": {
      "text/plain": [
       "(90.14999999999999, 89.67253561518547, 90.62746438481452)"
      ]
     },
     "execution_count": 18,
     "metadata": {},
     "output_type": "execute_result"
    }
   ],
   "source": [
    "data = np.array([89.9, 89.8, 90.8, 90.4, 90.4, 89.6])\n",
    "\n",
    "mean_confidence_interval(data)"
   ]
  },
  {
   "cell_type": "markdown",
   "metadata": {},
   "source": [
    "# 1000d-10c r 0.7"
   ]
  },
  {
   "cell_type": "code",
   "execution_count": 19,
   "metadata": {},
   "outputs": [
    {
     "name": "stdout",
     "output_type": "stream",
     "text": [
      "0.7998860769138765\n"
     ]
    },
    {
     "data": {
      "text/plain": [
       "(89.7, 88.90011392308612, 90.49988607691388)"
      ]
     },
     "execution_count": 19,
     "metadata": {},
     "output_type": "execute_result"
    }
   ],
   "source": [
    "data = np.array([90.2, 89.4, 88.9, 90.5, 89.5])\n",
    "\n",
    "mean_confidence_interval(data)"
   ]
  },
  {
   "cell_type": "markdown",
   "metadata": {},
   "source": [
    "# 1000d-10c r 1.0"
   ]
  },
  {
   "cell_type": "code",
   "execution_count": 20,
   "metadata": {},
   "outputs": [
    {
     "name": "stdout",
     "output_type": "stream",
     "text": [
      "0.37934836405953193\n"
     ]
    },
    {
     "data": {
      "text/plain": [
       "(90.26666666666667, 89.88731830260713, 90.6460150307262)"
      ]
     },
     "execution_count": 20,
     "metadata": {},
     "output_type": "execute_result"
    }
   ],
   "source": [
    "data = np.array([90.5, 90.0, 89.7, 90.4, 90.3,90.7])\n",
    "\n",
    "mean_confidence_interval(data)"
   ]
  },
  {
   "cell_type": "markdown",
   "metadata": {},
   "source": [
    "# !!!!!! 100 c !!!!!!!"
   ]
  },
  {
   "cell_type": "markdown",
   "metadata": {},
   "source": [
    "# 10d-100c r 0.01"
   ]
  },
  {
   "cell_type": "code",
   "execution_count": 2,
   "metadata": {},
   "outputs": [
    {
     "name": "stdout",
     "output_type": "stream",
     "text": [
      "0.5311652244374369\n"
     ]
    },
    {
     "data": {
      "text/plain": [
       "(83.94000000000001, 83.40883477556258, 84.47116522443744)"
      ]
     },
     "execution_count": 2,
     "metadata": {},
     "output_type": "execute_result"
    }
   ],
   "source": [
    "data = np.array([84.2, 83.7, 84.2, 84.3, 83.3])\n",
    "\n",
    "mean_confidence_interval(data)"
   ]
  },
  {
   "cell_type": "markdown",
   "metadata": {},
   "source": [
    "# 10d-100c r 0.3"
   ]
  },
  {
   "cell_type": "code",
   "execution_count": 3,
   "metadata": {},
   "outputs": [
    {
     "name": "stdout",
     "output_type": "stream",
     "text": [
      "0.3978057881605381\n"
     ]
    },
    {
     "data": {
      "text/plain": [
       "(83.07499999999999, 82.67719421183945, 83.47280578816053)"
      ]
     },
     "execution_count": 3,
     "metadata": {},
     "output_type": "execute_result"
    }
   ],
   "source": [
    "data = np.array([82.8, 83.1, 83.0, 83.4])\n",
    "\n",
    "mean_confidence_interval(data)"
   ]
  },
  {
   "cell_type": "markdown",
   "metadata": {},
   "source": [
    "# 10d-100c r 0.5"
   ]
  },
  {
   "cell_type": "code",
   "execution_count": 4,
   "metadata": {},
   "outputs": [
    {
     "name": "stdout",
     "output_type": "stream",
     "text": [
      "0.3724991994611293\n"
     ]
    },
    {
     "data": {
      "text/plain": [
       "(83.0, 82.62750080053887, 83.37249919946113)"
      ]
     },
     "execution_count": 4,
     "metadata": {},
     "output_type": "execute_result"
    }
   ],
   "source": [
    "data = np.array([82.7, 83.4, 83.1, 82.7, 83.1])\n",
    "\n",
    "mean_confidence_interval(data)"
   ]
  },
  {
   "cell_type": "markdown",
   "metadata": {},
   "source": [
    "# 10d-100c r 0.7"
   ]
  },
  {
   "cell_type": "code",
   "execution_count": 5,
   "metadata": {},
   "outputs": [
    {
     "name": "stdout",
     "output_type": "stream",
     "text": [
      "0.23883883881000006\n"
     ]
    },
    {
     "data": {
      "text/plain": [
       "(83.32000000000001, 83.08116116119001, 83.55883883881)"
      ]
     },
     "execution_count": 5,
     "metadata": {},
     "output_type": "execute_result"
    }
   ],
   "source": [
    "data = np.array([83.3, 83.0, 83.5, 83.4,83.4])\n",
    "\n",
    "mean_confidence_interval(data)"
   ]
  },
  {
   "cell_type": "markdown",
   "metadata": {},
   "source": [
    "# 10d-100c r 1.0"
   ]
  },
  {
   "cell_type": "code",
   "execution_count": 6,
   "metadata": {},
   "outputs": [
    {
     "name": "stdout",
     "output_type": "stream",
     "text": [
      "0.7314233596892198\n"
     ]
    },
    {
     "data": {
      "text/plain": [
       "(82.47999999999999, 81.74857664031077, 83.2114233596892)"
      ]
     },
     "execution_count": 6,
     "metadata": {},
     "output_type": "execute_result"
    }
   ],
   "source": [
    "data = np.array([83.3, 82.2, 82.6, 81.7, 82.6])\n",
    "\n",
    "mean_confidence_interval(data)"
   ]
  },
  {
   "cell_type": "markdown",
   "metadata": {},
   "source": [
    "# 100d-100c r 0.01"
   ]
  },
  {
   "cell_type": "code",
   "execution_count": 7,
   "metadata": {},
   "outputs": [
    {
     "name": "stdout",
     "output_type": "stream",
     "text": [
      "0.49198732611354273\n"
     ]
    },
    {
     "data": {
      "text/plain": [
       "(84.78, 84.28801267388646, 85.27198732611355)"
      ]
     },
     "execution_count": 7,
     "metadata": {},
     "output_type": "execute_result"
    }
   ],
   "source": [
    "data = np.array([84.4, 84.7, 84.5, 84.9, 85.4])\n",
    "\n",
    "mean_confidence_interval(data)"
   ]
  },
  {
   "cell_type": "markdown",
   "metadata": {},
   "source": [
    "# 100d-100c r 0.3"
   ]
  },
  {
   "cell_type": "code",
   "execution_count": 8,
   "metadata": {},
   "outputs": [
    {
     "name": "stdout",
     "output_type": "stream",
     "text": [
      "0.29644321650666067\n"
     ]
    },
    {
     "data": {
      "text/plain": [
       "(83.62, 83.32355678349334, 83.91644321650666)"
      ]
     },
     "execution_count": 8,
     "metadata": {},
     "output_type": "execute_result"
    }
   ],
   "source": [
    "data = np.array([83.5, 83.4, 83.7, 84.0, 83.5])\n",
    "\n",
    "mean_confidence_interval(data)"
   ]
  },
  {
   "cell_type": "markdown",
   "metadata": {},
   "source": [
    "# 100d-100c r 0.5"
   ]
  },
  {
   "cell_type": "code",
   "execution_count": 9,
   "metadata": {},
   "outputs": [
    {
     "name": "stdout",
     "output_type": "stream",
     "text": [
      "0.9878839828884729\n"
     ]
    },
    {
     "data": {
      "text/plain": [
       "(82.66, 81.67211601711152, 83.64788398288847)"
      ]
     },
     "execution_count": 9,
     "metadata": {},
     "output_type": "execute_result"
    }
   ],
   "source": [
    "data = np.array([83.4, 82.9, 82.8, 82.9, 81.3])\n",
    "\n",
    "mean_confidence_interval(data)"
   ]
  },
  {
   "cell_type": "markdown",
   "metadata": {},
   "source": [
    "# 100d-100c r 0.7"
   ]
  },
  {
   "cell_type": "code",
   "execution_count": 10,
   "metadata": {},
   "outputs": [
    {
     "name": "stdout",
     "output_type": "stream",
     "text": [
      "2.9409356347398035\n"
     ]
    },
    {
     "data": {
      "text/plain": [
       "(75.4, 72.4590643652602, 78.34093563473981)"
      ]
     },
     "execution_count": 10,
     "metadata": {},
     "output_type": "execute_result"
    }
   ],
   "source": [
    "data = np.array([73.3, 79.4, 75.5, 74.5, 74.3])\n",
    "\n",
    "mean_confidence_interval(data)"
   ]
  },
  {
   "cell_type": "markdown",
   "metadata": {},
   "source": [
    "# 100d-100c r 1.0"
   ]
  },
  {
   "cell_type": "code",
   "execution_count": 11,
   "metadata": {},
   "outputs": [
    {
     "name": "stdout",
     "output_type": "stream",
     "text": [
      "0.9316617947179723\n"
     ]
    },
    {
     "data": {
      "text/plain": [
       "(57.56, 56.62833820528203, 58.49166179471798)"
      ]
     },
     "execution_count": 11,
     "metadata": {},
     "output_type": "execute_result"
    }
   ],
   "source": [
    "data = np.array([56.8, 57.8, 57.5, 58.7, 57.0])\n",
    "\n",
    "mean_confidence_interval(data)"
   ]
  },
  {
   "cell_type": "markdown",
   "metadata": {},
   "source": [
    "# 1000d-100c r 0.01"
   ]
  },
  {
   "cell_type": "code",
   "execution_count": 12,
   "metadata": {},
   "outputs": [
    {
     "name": "stdout",
     "output_type": "stream",
     "text": [
      "0.4424925361215627\n"
     ]
    },
    {
     "data": {
      "text/plain": [
       "(84.68, 84.23750746387844, 85.12249253612157)"
      ]
     },
     "execution_count": 12,
     "metadata": {},
     "output_type": "execute_result"
    }
   ],
   "source": [
    "data = np.array([85.0, 84.8, 84.3, 84.3, 85.0])\n",
    "\n",
    "mean_confidence_interval(data)"
   ]
  },
  {
   "cell_type": "markdown",
   "metadata": {},
   "source": [
    "# 1000d-100c r 0.3"
   ]
  },
  {
   "cell_type": "code",
   "execution_count": 13,
   "metadata": {},
   "outputs": [
    {
     "name": "stdout",
     "output_type": "stream",
     "text": [
      "0.9308340186374124\n"
     ]
    },
    {
     "data": {
      "text/plain": [
       "(83.17999999999999, 82.24916598136258, 84.1108340186374)"
      ]
     },
     "execution_count": 13,
     "metadata": {},
     "output_type": "execute_result"
    }
   ],
   "source": [
    "data = np.array([82.0, 83.0, 83.4, 83.5, 84.0])\n",
    "\n",
    "mean_confidence_interval(data)"
   ]
  },
  {
   "cell_type": "markdown",
   "metadata": {},
   "source": [
    "# 1000d-100c r 0.5"
   ]
  },
  {
   "cell_type": "code",
   "execution_count": 14,
   "metadata": {},
   "outputs": [
    {
     "name": "stdout",
     "output_type": "stream",
     "text": [
      "1.6902144049376449\n"
     ]
    },
    {
     "data": {
      "text/plain": [
       "(78.64000000000001, 76.94978559506237, 80.33021440493766)"
      ]
     },
     "execution_count": 14,
     "metadata": {},
     "output_type": "execute_result"
    }
   ],
   "source": [
    "data = np.array([77.5, 80.5, 79.6, 78.2, 77.4])\n",
    "\n",
    "mean_confidence_interval(data)"
   ]
  },
  {
   "cell_type": "markdown",
   "metadata": {},
   "source": [
    "# 1000d-100c r 0.7"
   ]
  },
  {
   "cell_type": "code",
   "execution_count": 15,
   "metadata": {},
   "outputs": [
    {
     "name": "stdout",
     "output_type": "stream",
     "text": [
      "1.9659897806141962\n"
     ]
    },
    {
     "data": {
      "text/plain": [
       "(65.58, 63.614010219385804, 67.54598978061419)"
      ]
     },
     "execution_count": 15,
     "metadata": {},
     "output_type": "execute_result"
    }
   ],
   "source": [
    "data = np.array([66.7, 66.5, 66.6, 63.0, 65.1])\n",
    "\n",
    "mean_confidence_interval(data)"
   ]
  },
  {
   "cell_type": "markdown",
   "metadata": {},
   "source": [
    "# 1000d-100c r 1.0"
   ]
  },
  {
   "cell_type": "code",
   "execution_count": 16,
   "metadata": {},
   "outputs": [
    {
     "name": "stdout",
     "output_type": "stream",
     "text": [
      "3.03052512591159\n"
     ]
    },
    {
     "data": {
      "text/plain": [
       "(48.52, 45.489474874088415, 51.55052512591159)"
      ]
     },
     "execution_count": 16,
     "metadata": {},
     "output_type": "execute_result"
    }
   ],
   "source": [
    "data = np.array([48.6, 46.9, 51.4, 45.4, 50.3])\n",
    "\n",
    "mean_confidence_interval(data)"
   ]
  },
  {
   "cell_type": "markdown",
   "metadata": {},
   "source": [
    "# 10d-1000c r 0.01"
   ]
  },
  {
   "cell_type": "code",
   "execution_count": 17,
   "metadata": {},
   "outputs": [
    {
     "name": "stdout",
     "output_type": "stream",
     "text": [
      "0.8555055936995113\n"
     ]
    },
    {
     "data": {
      "text/plain": [
       "(44.012, 43.15649440630049, 44.86750559369951)"
      ]
     },
     "execution_count": 17,
     "metadata": {},
     "output_type": "execute_result"
    }
   ],
   "source": [
    "data = np.array([43.7, 44.36, 45.0, 43.8, 43.2])\n",
    "\n",
    "mean_confidence_interval(data)"
   ]
  },
  {
   "cell_type": "markdown",
   "metadata": {},
   "source": [
    "# 10d-1000c r 0.3"
   ]
  },
  {
   "cell_type": "code",
   "execution_count": 18,
   "metadata": {},
   "outputs": [
    {
     "name": "stdout",
     "output_type": "stream",
     "text": [
      "0.8494288661893654\n"
     ]
    },
    {
     "data": {
      "text/plain": [
       "(68.84, 67.99057113381063, 69.68942886618937)"
      ]
     },
     "execution_count": 18,
     "metadata": {},
     "output_type": "execute_result"
    }
   ],
   "source": [
    "data = np.array([70.0, 68.6, 68.2, 68.6, 68.8])\n",
    "\n",
    "mean_confidence_interval(data)"
   ]
  },
  {
   "cell_type": "markdown",
   "metadata": {},
   "source": [
    "# 10d-1000c r 0.5"
   ]
  },
  {
   "cell_type": "code",
   "execution_count": 19,
   "metadata": {},
   "outputs": [
    {
     "name": "stdout",
     "output_type": "stream",
     "text": [
      "0.2964432165066644\n"
     ]
    },
    {
     "data": {
      "text/plain": [
       "(70.08, 69.78355678349334, 70.37644321650666)"
      ]
     },
     "execution_count": 19,
     "metadata": {},
     "output_type": "execute_result"
    }
   ],
   "source": [
    "data = np.array([70.1, 70.2, 69.9, 69.8, 70.4])\n",
    "\n",
    "mean_confidence_interval(data)"
   ]
  },
  {
   "cell_type": "markdown",
   "metadata": {},
   "source": [
    "# 10d-1000c r 0.7"
   ]
  },
  {
   "cell_type": "code",
   "execution_count": 20,
   "metadata": {},
   "outputs": [
    {
     "name": "stdout",
     "output_type": "stream",
     "text": [
      "0.8512419501438027\n"
     ]
    },
    {
     "data": {
      "text/plain": [
       "(60.4, 59.5487580498562, 61.2512419501438)"
      ]
     },
     "execution_count": 20,
     "metadata": {},
     "output_type": "execute_result"
    }
   ],
   "source": [
    "data = np.array([61.2, 59.5, 60.7, 60.7, 59.9])\n",
    "\n",
    "mean_confidence_interval(data)"
   ]
  },
  {
   "cell_type": "markdown",
   "metadata": {},
   "source": [
    "# 10d-1000c r 1.0"
   ]
  },
  {
   "cell_type": "code",
   "execution_count": 21,
   "metadata": {},
   "outputs": [
    {
     "name": "stdout",
     "output_type": "stream",
     "text": [
      "0.4776776776199972\n"
     ]
    },
    {
     "data": {
      "text/plain": [
       "(39.339999999999996, 38.86232232238, 39.81767767761999)"
      ]
     },
     "execution_count": 21,
     "metadata": {},
     "output_type": "execute_result"
    }
   ],
   "source": [
    "data = np.array([39.2, 39.3, 38.8, 39.6, 39.8])\n",
    "\n",
    "mean_confidence_interval(data)"
   ]
  },
  {
   "cell_type": "markdown",
   "metadata": {},
   "source": [
    "# 100d-1000c r 0.01"
   ]
  },
  {
   "cell_type": "code",
   "execution_count": 22,
   "metadata": {},
   "outputs": [
    {
     "name": "stdout",
     "output_type": "stream",
     "text": [
      "0.20777012673671513\n"
     ]
    },
    {
     "data": {
      "text/plain": [
       "(32.06, 31.852229873263287, 32.267770126736714)"
      ]
     },
     "execution_count": 22,
     "metadata": {},
     "output_type": "execute_result"
    }
   ],
   "source": [
    "data = np.array([32.1, 32.2, 32.2, 31.8, 32.0])\n",
    "\n",
    "mean_confidence_interval(data)"
   ]
  },
  {
   "cell_type": "markdown",
   "metadata": {},
   "source": [
    "# 100d-1000c r 0.3"
   ]
  },
  {
   "cell_type": "code",
   "execution_count": 23,
   "metadata": {},
   "outputs": [
    {
     "name": "stdout",
     "output_type": "stream",
     "text": [
      "0.1618931784708685\n"
     ]
    },
    {
     "data": {
      "text/plain": [
       "(61.78000000000001, 61.61810682152914, 61.94189317847088)"
      ]
     },
     "execution_count": 23,
     "metadata": {},
     "output_type": "execute_result"
    }
   ],
   "source": [
    "data = np.array([61.7, 61.6, 61.9, 61.9, 61.8])\n",
    "\n",
    "mean_confidence_interval(data)"
   ]
  },
  {
   "cell_type": "markdown",
   "metadata": {},
   "source": [
    "# 100d-1000c r 0.5"
   ]
  },
  {
   "cell_type": "code",
   "execution_count": 24,
   "metadata": {},
   "outputs": [
    {
     "name": "stdout",
     "output_type": "stream",
     "text": [
      "0.5980645787780815\n"
     ]
    },
    {
     "data": {
      "text/plain": [
       "(48.42, 47.82193542122192, 49.01806457877808)"
      ]
     },
     "execution_count": 24,
     "metadata": {},
     "output_type": "execute_result"
    }
   ],
   "source": [
    "data = np.array([48.0, 47.9, 49.0, 48.4, 48.8])\n",
    "\n",
    "mean_confidence_interval(data)"
   ]
  },
  {
   "cell_type": "markdown",
   "metadata": {},
   "source": [
    "# 100d-1000c r 0.7"
   ]
  },
  {
   "cell_type": "code",
   "execution_count": 25,
   "metadata": {},
   "outputs": [
    {
     "name": "stdout",
     "output_type": "stream",
     "text": [
      "1.3239888306942045\n"
     ]
    },
    {
     "data": {
      "text/plain": [
       "(34.379999999999995, 33.05601116930579, 35.7039888306942)"
      ]
     },
     "execution_count": 25,
     "metadata": {},
     "output_type": "execute_result"
    }
   ],
   "source": [
    "data = np.array([33.9, 34.1, 33.0, 35.6, 35.3])\n",
    "\n",
    "mean_confidence_interval(data)"
   ]
  },
  {
   "cell_type": "markdown",
   "metadata": {},
   "source": [
    "# 100d-1000c r 1.0"
   ]
  },
  {
   "cell_type": "code",
   "execution_count": 26,
   "metadata": {},
   "outputs": [
    {
     "name": "stdout",
     "output_type": "stream",
     "text": [
      "0.7165165164299959\n"
     ]
    },
    {
     "data": {
      "text/plain": [
       "(21.740000000000002, 21.023483483570008, 22.456516516429996)"
      ]
     },
     "execution_count": 26,
     "metadata": {},
     "output_type": "execute_result"
    }
   ],
   "source": [
    "data = np.array([22.1, 21.5, 21.8, 20.9, 22.4])\n",
    "\n",
    "mean_confidence_interval(data)"
   ]
  },
  {
   "cell_type": "markdown",
   "metadata": {},
   "source": [
    "# 1000d-1000c r 0.01"
   ]
  },
  {
   "cell_type": "code",
   "execution_count": 27,
   "metadata": {},
   "outputs": [
    {
     "name": "stdout",
     "output_type": "stream",
     "text": [
      "0.31165519010507037\n"
     ]
    },
    {
     "data": {
      "text/plain": [
       "(29.359999999999996, 29.048344809894925, 29.671655190105067)"
      ]
     },
     "execution_count": 27,
     "metadata": {},
     "output_type": "execute_result"
    }
   ],
   "source": [
    "data = np.array([29.7, 29.4, 29.0, 29.3, 29.4])\n",
    "\n",
    "mean_confidence_interval(data)"
   ]
  },
  {
   "cell_type": "markdown",
   "metadata": {},
   "source": [
    "# 1000d-1000c r 0.3"
   ]
  },
  {
   "cell_type": "code",
   "execution_count": 28,
   "metadata": {},
   "outputs": [
    {
     "name": "stdout",
     "output_type": "stream",
     "text": [
      "0.18830766883484482\n"
     ]
    },
    {
     "data": {
      "text/plain": [
       "(29.440000000000005, 29.25169233116516, 29.62830766883485)"
      ]
     },
     "execution_count": 28,
     "metadata": {},
     "output_type": "execute_result"
    }
   ],
   "source": [
    "data = np.array([29.6, 29.3, 29.3, 29.6, 29.4])\n",
    "\n",
    "mean_confidence_interval(data)"
   ]
  },
  {
   "cell_type": "markdown",
   "metadata": {},
   "source": [
    "# 1000d-1000c r 0.5"
   ]
  },
  {
   "cell_type": "code",
   "execution_count": 29,
   "metadata": {},
   "outputs": [
    {
     "name": "stdout",
     "output_type": "stream",
     "text": [
      "0.9191668822746931\n"
     ]
    },
    {
     "data": {
      "text/plain": [
       "(22.360000000000003, 21.440833117725308, 23.279166882274698)"
      ]
     },
     "execution_count": 29,
     "metadata": {},
     "output_type": "execute_result"
    }
   ],
   "source": [
    "data = np.array([21.8, 23.6, 22.4, 21.8, 22.2])\n",
    "\n",
    "mean_confidence_interval(data)"
   ]
  },
  {
   "cell_type": "markdown",
   "metadata": {},
   "source": [
    "# 1000d-1000c r 0.7"
   ]
  },
  {
   "cell_type": "code",
   "execution_count": 30,
   "metadata": {},
   "outputs": [
    {
     "name": "stdout",
     "output_type": "stream",
     "text": [
      "1.5247714787890445\n"
     ]
    },
    {
     "data": {
      "text/plain": [
       "(14.939999999999998, 13.415228521210953, 16.464771478789043)"
      ]
     },
     "execution_count": 30,
     "metadata": {},
     "output_type": "execute_result"
    }
   ],
   "source": [
    "data = np.array([14.1, 15.2, 16.8, 15.0, 13.6])\n",
    "\n",
    "mean_confidence_interval(data)"
   ]
  },
  {
   "cell_type": "markdown",
   "metadata": {},
   "source": [
    "# 1000d-1000c r 1.0"
   ]
  },
  {
   "cell_type": "code",
   "execution_count": 32,
   "metadata": {},
   "outputs": [
    {
     "name": "stdout",
     "output_type": "stream",
     "text": [
      "3.367863390488244\n"
     ]
    },
    {
     "data": {
      "text/plain": [
       "(5.62, 2.2521366095117563, 8.987863390488243)"
      ]
     },
     "execution_count": 32,
     "metadata": {},
     "output_type": "execute_result"
    }
   ],
   "source": [
    "data = np.array([2.8, 9.9, 6.3, 5.0, 4.1])\n",
    "\n",
    "mean_confidence_interval(data)"
   ]
  },
  {
   "cell_type": "markdown",
   "metadata": {},
   "source": [
    "# 2d-10c r 0.01"
   ]
  },
  {
   "cell_type": "code",
   "execution_count": 33,
   "metadata": {},
   "outputs": [
    {
     "name": "stdout",
     "output_type": "stream",
     "text": [
      "1.766918845329808\n"
     ]
    },
    {
     "data": {
      "text/plain": [
       "(82.2, 80.43308115467019, 83.96691884532981)"
      ]
     },
     "execution_count": 33,
     "metadata": {},
     "output_type": "execute_result"
    }
   ],
   "source": [
    "data = np.array([84.2, 83.0, 80.6, 81.9, 81.3])\n",
    "\n",
    "mean_confidence_interval(data)"
   ]
  },
  {
   "cell_type": "markdown",
   "metadata": {},
   "source": [
    "# 2d-10c r 0.3"
   ]
  },
  {
   "cell_type": "code",
   "execution_count": 34,
   "metadata": {},
   "outputs": [
    {
     "name": "stdout",
     "output_type": "stream",
     "text": [
      "0.7045827800820782\n"
     ]
    },
    {
     "data": {
      "text/plain": [
       "(85.08000000000001, 84.37541721991794, 85.78458278008209)"
      ]
     },
     "execution_count": 34,
     "metadata": {},
     "output_type": "execute_result"
    }
   ],
   "source": [
    "data = np.array([85.4, 85.9, 84.5, 84.9, 84.7])\n",
    "\n",
    "mean_confidence_interval(data)"
   ]
  },
  {
   "cell_type": "markdown",
   "metadata": {},
   "source": [
    "# 2d-10c r 0.5"
   ]
  },
  {
   "cell_type": "code",
   "execution_count": 35,
   "metadata": {},
   "outputs": [
    {
     "name": "stdout",
     "output_type": "stream",
     "text": [
      "0.6367690746310677\n"
     ]
    },
    {
     "data": {
      "text/plain": [
       "(86.36, 85.72323092536894, 86.99676907463106)"
      ]
     },
     "execution_count": 35,
     "metadata": {},
     "output_type": "execute_result"
    }
   ],
   "source": [
    "data = np.array([86.9, 86.9, 86.2, 85.8, 86.0])\n",
    "\n",
    "mean_confidence_interval(data)"
   ]
  },
  {
   "cell_type": "markdown",
   "metadata": {},
   "source": [
    "# 2d-10c r 0.7"
   ]
  },
  {
   "cell_type": "code",
   "execution_count": 36,
   "metadata": {},
   "outputs": [
    {
     "name": "stdout",
     "output_type": "stream",
     "text": [
      "0.858006893222829\n"
     ]
    },
    {
     "data": {
      "text/plain": [
       "(86.95, 86.09199310677717, 87.80800689322284)"
      ]
     },
     "execution_count": 36,
     "metadata": {},
     "output_type": "execute_result"
    }
   ],
   "source": [
    "data = np.array([86.7, 86.7, 87.35, 87.9, 86.1])\n",
    "\n",
    "mean_confidence_interval(data)"
   ]
  },
  {
   "cell_type": "markdown",
   "metadata": {},
   "source": [
    "# 2d-10c r 1.0"
   ]
  },
  {
   "cell_type": "code",
   "execution_count": 37,
   "metadata": {},
   "outputs": [
    {
     "name": "stdout",
     "output_type": "stream",
     "text": [
      "0.7208070728389903\n"
     ]
    },
    {
     "data": {
      "text/plain": [
       "(87.58, 86.859192927161, 88.30080707283899)"
      ]
     },
     "execution_count": 37,
     "metadata": {},
     "output_type": "execute_result"
    }
   ],
   "source": [
    "data = np.array([86.7, 88.0, 88.1, 87.3, 87.8])\n",
    "\n",
    "mean_confidence_interval(data)"
   ]
  },
  {
   "cell_type": "markdown",
   "metadata": {},
   "source": [
    "# 2d-100c r 0.01"
   ]
  },
  {
   "cell_type": "code",
   "execution_count": 38,
   "metadata": {},
   "outputs": [
    {
     "name": "stdout",
     "output_type": "stream",
     "text": [
      "0.5511086176370007\n"
     ]
    },
    {
     "data": {
      "text/plain": [
       "(16.479999999999997, 15.928891382362997, 17.031108617637)"
      ]
     },
     "execution_count": 38,
     "metadata": {},
     "output_type": "execute_result"
    }
   ],
   "source": [
    "data = np.array([16.3, 15.8, 16.6, 16.9, 16.8])\n",
    "\n",
    "mean_confidence_interval(data)"
   ]
  },
  {
   "cell_type": "markdown",
   "metadata": {},
   "source": [
    "# 2d-100c r 0.3"
   ]
  },
  {
   "cell_type": "code",
   "execution_count": 39,
   "metadata": {},
   "outputs": [
    {
     "name": "stdout",
     "output_type": "stream",
     "text": [
      "0.49355167768004454\n"
     ]
    },
    {
     "data": {
      "text/plain": [
       "(15.559999999999999, 15.066448322319955, 16.053551677680044)"
      ]
     },
     "execution_count": 39,
     "metadata": {},
     "output_type": "execute_result"
    }
   ],
   "source": [
    "data = np.array([15.3, 16.2, 15.3, 15.3, 15.7])\n",
    "\n",
    "mean_confidence_interval(data)"
   ]
  },
  {
   "cell_type": "markdown",
   "metadata": {},
   "source": [
    "# 2d-100c r 0.5"
   ]
  },
  {
   "cell_type": "code",
   "execution_count": 40,
   "metadata": {},
   "outputs": [
    {
     "name": "stdout",
     "output_type": "stream",
     "text": [
      "0.950303547997457\n"
     ]
    },
    {
     "data": {
      "text/plain": [
       "(24.15, 23.19969645200254, 25.100303547997456)"
      ]
     },
     "execution_count": 40,
     "metadata": {},
     "output_type": "execute_result"
    }
   ],
   "source": [
    "data = np.array([23.3, 24.3, 24.7, 24.3])\n",
    "\n",
    "mean_confidence_interval(data)"
   ]
  },
  {
   "cell_type": "markdown",
   "metadata": {},
   "source": [
    "# 2d-100c r 0.7"
   ]
  },
  {
   "cell_type": "code",
   "execution_count": 41,
   "metadata": {},
   "outputs": [
    {
     "name": "stdout",
     "output_type": "stream",
     "text": [
      "1.3505058237886396\n"
     ]
    },
    {
     "data": {
      "text/plain": [
       "(36.260000000000005, 34.90949417621137, 37.61050582378864)"
      ]
     },
     "execution_count": 41,
     "metadata": {},
     "output_type": "execute_result"
    }
   ],
   "source": [
    "data = np.array([36.0, 34.5, 36.7, 36.8, 37.3])\n",
    "\n",
    "mean_confidence_interval(data)"
   ]
  },
  {
   "cell_type": "markdown",
   "metadata": {},
   "source": [
    "# 2d-100c r 1.0"
   ]
  },
  {
   "cell_type": "code",
   "execution_count": 42,
   "metadata": {},
   "outputs": [
    {
     "name": "stdout",
     "output_type": "stream",
     "text": [
      "3.753852352948794\n"
     ]
    },
    {
     "data": {
      "text/plain": [
       "(51.7, 47.946147647051205, 55.4538523529488)"
      ]
     },
     "execution_count": 42,
     "metadata": {},
     "output_type": "execute_result"
    }
   ],
   "source": [
    "data = np.array([47.2, 53.8, 54.3, 50.0, 53.2])\n",
    "\n",
    "mean_confidence_interval(data)"
   ]
  },
  {
   "cell_type": "markdown",
   "metadata": {},
   "source": [
    "# 2d-1000c r 0.01"
   ]
  },
  {
   "cell_type": "code",
   "execution_count": 43,
   "metadata": {},
   "outputs": [
    {
     "name": "stdout",
     "output_type": "stream",
     "text": [
      "0.07956115763210664\n"
     ]
    },
    {
     "data": {
      "text/plain": [
       "(0.7750000000000001, 0.6954388423678934, 0.8545611576321068)"
      ]
     },
     "execution_count": 43,
     "metadata": {},
     "output_type": "execute_result"
    }
   ],
   "source": [
    "data = np.array([0.8, 0.8, 0.8, 0.7])\n",
    "\n",
    "mean_confidence_interval(data)"
   ]
  },
  {
   "cell_type": "markdown",
   "metadata": {},
   "source": [
    "# 2d-1000c r 0.3"
   ]
  },
  {
   "cell_type": "code",
   "execution_count": 44,
   "metadata": {},
   "outputs": [
    {
     "name": "stdout",
     "output_type": "stream",
     "text": [
      "0.0\n"
     ]
    },
    {
     "data": {
      "text/plain": [
       "(1.6, 1.6, 1.6)"
      ]
     },
     "execution_count": 44,
     "metadata": {},
     "output_type": "execute_result"
    }
   ],
   "source": [
    "data = np.array([1.6, 1.6, 1.6, 1.6])\n",
    "\n",
    "mean_confidence_interval(data)"
   ]
  },
  {
   "cell_type": "markdown",
   "metadata": {},
   "source": [
    "# 2d-1000c r 0.5"
   ]
  },
  {
   "cell_type": "code",
   "execution_count": 45,
   "metadata": {},
   "outputs": [
    {
     "name": "stdout",
     "output_type": "stream",
     "text": [
      "0.08779890330850852\n"
     ]
    },
    {
     "data": {
      "text/plain": [
       "(2.1, 2.0122010966914914, 2.187798903308509)"
      ]
     },
     "execution_count": 45,
     "metadata": {},
     "output_type": "execute_result"
    }
   ],
   "source": [
    "data = np.array([2.1, 2.2, 2.1, 2.0, 2.1])\n",
    "\n",
    "mean_confidence_interval(data)"
   ]
  },
  {
   "cell_type": "markdown",
   "metadata": {},
   "source": [
    "# 2d-1000c r 0.7"
   ]
  },
  {
   "cell_type": "code",
   "execution_count": 46,
   "metadata": {},
   "outputs": [
    {
     "name": "stdout",
     "output_type": "stream",
     "text": [
      "0.09186931155187004\n"
     ]
    },
    {
     "data": {
      "text/plain": [
       "(2.65, 2.55813068844813, 2.74186931155187)"
      ]
     },
     "execution_count": 46,
     "metadata": {},
     "output_type": "execute_result"
    }
   ],
   "source": [
    "data = np.array([2.7, 2.7, 2.6, 2.6])\n",
    "\n",
    "mean_confidence_interval(data)"
   ]
  },
  {
   "cell_type": "markdown",
   "metadata": {},
   "source": [
    "# 2d-1000c r 1.0"
   ]
  },
  {
   "cell_type": "code",
   "execution_count": 47,
   "metadata": {},
   "outputs": [
    {
     "name": "stdout",
     "output_type": "stream",
     "text": [
      "0.3182446305284259\n"
     ]
    },
    {
     "data": {
      "text/plain": [
       "(3.8, 3.481755369471574, 4.118244630528426)"
      ]
     },
     "execution_count": 47,
     "metadata": {},
     "output_type": "execute_result"
    }
   ],
   "source": [
    "data = np.array([4.1, 3.7, 3.7, 3.7])\n",
    "\n",
    "mean_confidence_interval(data)"
   ]
  },
  {
   "cell_type": "markdown",
   "metadata": {},
   "source": [
    "# 1e-4   10d-10c  r 0.3"
   ]
  },
  {
   "cell_type": "code",
   "execution_count": 48,
   "metadata": {},
   "outputs": [
    {
     "name": "stdout",
     "output_type": "stream",
     "text": [
      "0.6367690746310639\n"
     ]
    },
    {
     "data": {
      "text/plain": [
       "(91.54, 90.90323092536894, 92.17676907463107)"
      ]
     },
     "execution_count": 48,
     "metadata": {},
     "output_type": "execute_result"
    }
   ],
   "source": [
    "data = np.array([91.6, 91.9, 92.1, 90.8, 91.3])\n",
    "\n",
    "mean_confidence_interval(data)"
   ]
  },
  {
   "cell_type": "markdown",
   "metadata": {},
   "source": [
    "# 1e-4   100d-10c  r 0.3"
   ]
  },
  {
   "cell_type": "code",
   "execution_count": 49,
   "metadata": {},
   "outputs": [
    {
     "name": "stdout",
     "output_type": "stream",
     "text": [
      "0.9266840469278073\n"
     ]
    },
    {
     "data": {
      "text/plain": [
       "(91.58, 90.6533159530722, 92.5066840469278)"
      ]
     },
     "execution_count": 49,
     "metadata": {},
     "output_type": "execute_result"
    }
   ],
   "source": [
    "data = np.array([91.2, 91.5, 92.1, 90.6, 92.5])\n",
    "\n",
    "mean_confidence_interval(data)"
   ]
  },
  {
   "cell_type": "markdown",
   "metadata": {},
   "source": [
    "# 1e-4   1000d-10c  r 0.3"
   ]
  },
  {
   "cell_type": "code",
   "execution_count": 50,
   "metadata": {},
   "outputs": [
    {
     "name": "stdout",
     "output_type": "stream",
     "text": [
      "0.5621872857947328\n"
     ]
    },
    {
     "data": {
      "text/plain": [
       "(91.8, 91.23781271420526, 92.36218728579473)"
      ]
     },
     "execution_count": 50,
     "metadata": {},
     "output_type": "execute_result"
    }
   ],
   "source": [
    "data = np.array([92.3, 92.2, 91.4, 91.3, 91.8])\n",
    "\n",
    "mean_confidence_interval(data)"
   ]
  },
  {
   "cell_type": "markdown",
   "metadata": {},
   "source": [
    "# 1e-4   10d-100c  r 0.3"
   ]
  },
  {
   "cell_type": "code",
   "execution_count": 51,
   "metadata": {},
   "outputs": [
    {
     "name": "stdout",
     "output_type": "stream",
     "text": [
      "0.20777012673671316\n"
     ]
    },
    {
     "data": {
      "text/plain": [
       "(62.84000000000001, 62.6322298732633, 63.04777012673672)"
      ]
     },
     "execution_count": 51,
     "metadata": {},
     "output_type": "execute_result"
    }
   ],
   "source": [
    "data = np.array([62.7, 63.1, 62.9, 62.7, 62.8])\n",
    "\n",
    "mean_confidence_interval(data)"
   ]
  },
  {
   "cell_type": "markdown",
   "metadata": {},
   "source": [
    "# 1e-4   100d-100c  r 0.3"
   ]
  },
  {
   "cell_type": "code",
   "execution_count": 52,
   "metadata": {},
   "outputs": [
    {
     "name": "stdout",
     "output_type": "stream",
     "text": [
      "0.3354791384926661\n"
     ]
    },
    {
     "data": {
      "text/plain": [
       "(85.34, 85.00452086150733, 85.67547913849268)"
      ]
     },
     "execution_count": 52,
     "metadata": {},
     "output_type": "execute_result"
    }
   ],
   "source": [
    "data = np.array([85.5, 85.0, 85.6, 85.5, 85.1])\n",
    "\n",
    "mean_confidence_interval(data)"
   ]
  },
  {
   "cell_type": "markdown",
   "metadata": {},
   "source": [
    "# 1e-4   1000d-100c  r 0.3"
   ]
  },
  {
   "cell_type": "code",
   "execution_count": 53,
   "metadata": {},
   "outputs": [
    {
     "name": "stdout",
     "output_type": "stream",
     "text": [
      "0.5980645787780839\n"
     ]
    },
    {
     "data": {
      "text/plain": [
       "(85.67999999999999, 85.08193542122191, 86.27806457877807)"
      ]
     },
     "execution_count": 53,
     "metadata": {},
     "output_type": "execute_result"
    }
   ],
   "source": [
    "data = np.array([86.1, 85.7, 86.2, 85.3, 85.1])\n",
    "\n",
    "mean_confidence_interval(data)"
   ]
  },
  {
   "cell_type": "markdown",
   "metadata": {},
   "source": [
    "# 1e-4   10d-1000c  r 0.3"
   ]
  },
  {
   "cell_type": "code",
   "execution_count": 54,
   "metadata": {},
   "outputs": [
    {
     "name": "stdout",
     "output_type": "stream",
     "text": [
      "0.3354791384926661\n"
     ]
    },
    {
     "data": {
      "text/plain": [
       "(54.54, 54.20452086150733, 54.875479138492665)"
      ]
     },
     "execution_count": 54,
     "metadata": {},
     "output_type": "execute_result"
    }
   ],
   "source": [
    "data = np.array([54.8, 54.2, 54.7, 54.7, 54.3])\n",
    "\n",
    "mean_confidence_interval(data)"
   ]
  },
  {
   "cell_type": "markdown",
   "metadata": {},
   "source": [
    "# 1e-4   100d-1000c  r 0.3"
   ]
  },
  {
   "cell_type": "code",
   "execution_count": 55,
   "metadata": {},
   "outputs": [
    {
     "name": "stdout",
     "output_type": "stream",
     "text": [
      "0.7852972645910249\n"
     ]
    },
    {
     "data": {
      "text/plain": [
       "(69.3, 68.51470273540897, 70.08529726459102)"
      ]
     },
     "execution_count": 55,
     "metadata": {},
     "output_type": "execute_result"
    }
   ],
   "source": [
    "data = np.array([68.6, 70.3, 69.2, 69.0, 69.4])\n",
    "\n",
    "mean_confidence_interval(data)"
   ]
  },
  {
   "cell_type": "markdown",
   "metadata": {},
   "source": [
    "# 1e-4   1000d-1000c  r 0.3"
   ]
  },
  {
   "cell_type": "code",
   "execution_count": 58,
   "metadata": {},
   "outputs": [
    {
     "name": "stdout",
     "output_type": "stream",
     "text": [
      "1.1601421636644669\n"
     ]
    },
    {
     "data": {
      "text/plain": [
       "(38.54, 37.37985783633553, 39.70014216366447)"
      ]
     },
     "execution_count": 58,
     "metadata": {},
     "output_type": "execute_result"
    }
   ],
   "source": [
    "data = np.array([37.5, 39.9, 38.3, 39.0, 38.0])\n",
    "\n",
    "mean_confidence_interval(data)"
   ]
  },
  {
   "cell_type": "markdown",
   "metadata": {},
   "source": [
    "# 2d 10c r 5.0"
   ]
  },
  {
   "cell_type": "code",
   "execution_count": 56,
   "metadata": {},
   "outputs": [
    {
     "name": "stdout",
     "output_type": "stream",
     "text": [
      "0.8357053646167517\n"
     ]
    },
    {
     "data": {
      "text/plain": [
       "(85.46000000000001, 84.62429463538325, 86.29570536461677)"
      ]
     },
     "execution_count": 56,
     "metadata": {},
     "output_type": "execute_result"
    }
   ],
   "source": [
    "data = np.array([86.2, 85.7, 85.7, 84.4, 85.3])\n",
    "\n",
    "mean_confidence_interval(data)"
   ]
  },
  {
   "cell_type": "markdown",
   "metadata": {},
   "source": [
    "# 2d 100c r5.0"
   ]
  },
  {
   "cell_type": "code",
   "execution_count": 57,
   "metadata": {},
   "outputs": [
    {
     "name": "stdout",
     "output_type": "stream",
     "text": [
      "1.4362569582684412\n"
     ]
    },
    {
     "data": {
      "text/plain": [
       "(66.66, 65.22374304173155, 68.09625695826844)"
      ]
     },
     "execution_count": 57,
     "metadata": {},
     "output_type": "execute_result"
    }
   ],
   "source": [
    "data = np.array([68.0, 65.7, 66.2, 65.6, 67.8])\n",
    "\n",
    "mean_confidence_interval(data)"
   ]
  },
  {
   "cell_type": "markdown",
   "metadata": {},
   "source": [
    "# 2d 1000c r5.0"
   ]
  },
  {
   "cell_type": "code",
   "execution_count": 68,
   "metadata": {},
   "outputs": [
    {
     "name": "stdout",
     "output_type": "stream",
     "text": [
      "0.8282931972277311\n"
     ]
    },
    {
     "data": {
      "text/plain": [
       "(16.6, 15.77170680277227, 17.42829319722773)"
      ]
     },
     "execution_count": 68,
     "metadata": {},
     "output_type": "execute_result"
    }
   ],
   "source": [
    "data = np.array([17.6, 16.8, 16.6, 15.9, 16.1])\n",
    "\n",
    "mean_confidence_interval(data)"
   ]
  },
  {
   "cell_type": "markdown",
   "metadata": {},
   "source": [
    "# 1e-5   10d-10c  r 0.3"
   ]
  },
  {
   "cell_type": "code",
   "execution_count": 59,
   "metadata": {},
   "outputs": [
    {
     "name": "stdout",
     "output_type": "stream",
     "text": [
      "2.348353969448665\n"
     ]
    },
    {
     "data": {
      "text/plain": [
       "(62.779999999999994, 60.43164603055133, 65.12835396944865)"
      ]
     },
     "execution_count": 59,
     "metadata": {},
     "output_type": "execute_result"
    }
   ],
   "source": [
    "data = np.array([60.6, 61.9, 62.5, 65.7, 63.2])\n",
    "\n",
    "mean_confidence_interval(data)"
   ]
  },
  {
   "cell_type": "markdown",
   "metadata": {},
   "source": [
    "# 1e-5   100d-10c  r 0.3"
   ]
  },
  {
   "cell_type": "code",
   "execution_count": 60,
   "metadata": {},
   "outputs": [
    {
     "name": "stdout",
     "output_type": "stream",
     "text": [
      "1.6340977532088001\n"
     ]
    },
    {
     "data": {
      "text/plain": [
       "(71.47999999999999, 69.84590224679118, 73.1140977532088)"
      ]
     },
     "execution_count": 60,
     "metadata": {},
     "output_type": "execute_result"
    }
   ],
   "source": [
    "data = np.array([70.8, 70.2, 73.0, 72.8, 70.6])\n",
    "\n",
    "mean_confidence_interval(data)"
   ]
  },
  {
   "cell_type": "markdown",
   "metadata": {},
   "source": [
    "# 1e-5   1000d-10c  r 0.3"
   ]
  },
  {
   "cell_type": "code",
   "execution_count": 62,
   "metadata": {},
   "outputs": [
    {
     "name": "stdout",
     "output_type": "stream",
     "text": [
      "2.122448191387758\n"
     ]
    },
    {
     "data": {
      "text/plain": [
       "(71.10000000000001, 68.97755180861225, 73.22244819138777)"
      ]
     },
     "execution_count": 62,
     "metadata": {},
     "output_type": "execute_result"
    }
   ],
   "source": [
    "data = np.array([71.9, 70.2, 71.2])\n",
    "\n",
    "mean_confidence_interval(data)"
   ]
  },
  {
   "cell_type": "markdown",
   "metadata": {},
   "source": [
    "# 1e-5   10d-100c  r 0.3"
   ]
  },
  {
   "cell_type": "code",
   "execution_count": 69,
   "metadata": {},
   "outputs": [
    {
     "name": "stdout",
     "output_type": "stream",
     "text": [
      "0.161893178470871\n"
     ]
    },
    {
     "data": {
      "text/plain": [
       "(9.68, 9.518106821529129, 9.84189317847087)"
      ]
     },
     "execution_count": 69,
     "metadata": {},
     "output_type": "execute_result"
    }
   ],
   "source": [
    "data = np.array([9.6, 9.7, 9.6, 9.6, 9.9])\n",
    "\n",
    "mean_confidence_interval(data)"
   ]
  },
  {
   "cell_type": "markdown",
   "metadata": {},
   "source": [
    "# 1e-5   100d-100c  r 0.3"
   ]
  },
  {
   "cell_type": "code",
   "execution_count": 63,
   "metadata": {},
   "outputs": [
    {
     "name": "stdout",
     "output_type": "stream",
     "text": [
      "0.8419961484598514\n"
     ]
    },
    {
     "data": {
      "text/plain": [
       "(38.3, 37.45800385154015, 39.141996148459846)"
      ]
     },
     "execution_count": 63,
     "metadata": {},
     "output_type": "execute_result"
    }
   ],
   "source": [
    "data = np.array([37.8, 38.0, 38.4, 39.0])\n",
    "\n",
    "mean_confidence_interval(data)"
   ]
  },
  {
   "cell_type": "markdown",
   "metadata": {},
   "source": [
    "# 1e-5   1000d-100c  r 0.3"
   ]
  },
  {
   "cell_type": "code",
   "execution_count": 64,
   "metadata": {},
   "outputs": [
    {
     "name": "stdout",
     "output_type": "stream",
     "text": [
      "0.7852972645910257\n"
     ]
    },
    {
     "data": {
      "text/plain": [
       "(46.3, 45.514702735408974, 47.08529726459102)"
      ]
     },
     "execution_count": 64,
     "metadata": {},
     "output_type": "execute_result"
    }
   ],
   "source": [
    "data = np.array([46.4, 47.2, 46.5, 45.6, 45.8])\n",
    "\n",
    "mean_confidence_interval(data)"
   ]
  },
  {
   "cell_type": "markdown",
   "metadata": {},
   "source": [
    "# 1e-5   10d-1000c  r 0.3"
   ]
  },
  {
   "cell_type": "code",
   "execution_count": 65,
   "metadata": {},
   "outputs": [
    {
     "name": "stdout",
     "output_type": "stream",
     "text": [
      "0.06800873806582546\n"
     ]
    },
    {
     "data": {
      "text/plain": [
       "(5.74, 5.671991261934175, 5.808008738065825)"
      ]
     },
     "execution_count": 65,
     "metadata": {},
     "output_type": "execute_result"
    }
   ],
   "source": [
    "data = np.array([5.8, 5.7, 5.8, 5.7, 5.7])\n",
    "\n",
    "mean_confidence_interval(data)"
   ]
  },
  {
   "cell_type": "markdown",
   "metadata": {},
   "source": [
    "# 1e-5   100d-1000c  r 0.3"
   ]
  },
  {
   "cell_type": "code",
   "execution_count": 66,
   "metadata": {},
   "outputs": [
    {
     "name": "stdout",
     "output_type": "stream",
     "text": [
      "0.3400436903291293\n"
     ]
    },
    {
     "data": {
      "text/plain": [
       "(39.2, 38.85995630967087, 39.540043690329135)"
      ]
     },
     "execution_count": 66,
     "metadata": {},
     "output_type": "execute_result"
    }
   ],
   "source": [
    "data = np.array([38.9, 39.6, 39.0, 39.2, 39.3])\n",
    "\n",
    "mean_confidence_interval(data)"
   ]
  },
  {
   "cell_type": "markdown",
   "metadata": {},
   "source": [
    "# 1e-5   1000d-1000c  r 0.3"
   ]
  },
  {
   "cell_type": "code",
   "execution_count": 67,
   "metadata": {},
   "outputs": [
    {
     "name": "stdout",
     "output_type": "stream",
     "text": [
      "0.6534975647916307\n"
     ]
    },
    {
     "data": {
      "text/plain": [
       "(69.18, 68.52650243520837, 69.83349756479164)"
      ]
     },
     "execution_count": 67,
     "metadata": {},
     "output_type": "execute_result"
    }
   ],
   "source": [
    "data = np.array([70.1, 69.0, 69.1, 68.9, 68.8])\n",
    "\n",
    "mean_confidence_interval(data)"
   ]
  },
  {
   "cell_type": "markdown",
   "metadata": {},
   "source": [
    "# 1e-5 1000d-1000c r 0.01"
   ]
  },
  {
   "cell_type": "code",
   "execution_count": 71,
   "metadata": {},
   "outputs": [
    {
     "name": "stdout",
     "output_type": "stream",
     "text": [
      "1.3484329179884578\n"
     ]
    },
    {
     "data": {
      "text/plain": [
       "(77.15, 75.80156708201154, 78.49843291798847)"
      ]
     },
     "execution_count": 71,
     "metadata": {},
     "output_type": "execute_result"
    }
   ],
   "source": [
    "data = np.array([76.9, 78.0, 77.2, 74.8, 78.5, 77.5])\n",
    "\n",
    "mean_confidence_interval(data)"
   ]
  },
  {
   "cell_type": "code",
   "execution_count": null,
   "metadata": {},
   "outputs": [],
   "source": [
    "data = np.array([])\n",
    "\n",
    "mean_confidence_interval(data)"
   ]
  },
  {
   "cell_type": "code",
   "execution_count": null,
   "metadata": {},
   "outputs": [],
   "source": [
    "data = np.array([])\n",
    "\n",
    "mean_confidence_interval(data)"
   ]
  },
  {
   "cell_type": "code",
   "execution_count": null,
   "metadata": {},
   "outputs": [],
   "source": [
    "data = np.array([])\n",
    "\n",
    "mean_confidence_interval(data)"
   ]
  },
  {
   "cell_type": "code",
   "execution_count": null,
   "metadata": {},
   "outputs": [],
   "source": []
  },
  {
   "cell_type": "code",
   "execution_count": null,
   "metadata": {},
   "outputs": [],
   "source": []
  },
  {
   "cell_type": "code",
   "execution_count": null,
   "metadata": {},
   "outputs": [],
   "source": []
  },
  {
   "cell_type": "code",
   "execution_count": null,
   "metadata": {},
   "outputs": [],
   "source": []
  },
  {
   "cell_type": "code",
   "execution_count": null,
   "metadata": {},
   "outputs": [],
   "source": []
  },
  {
   "cell_type": "code",
   "execution_count": null,
   "metadata": {},
   "outputs": [],
   "source": []
  },
  {
   "cell_type": "code",
   "execution_count": null,
   "metadata": {},
   "outputs": [],
   "source": []
  }
 ],
 "metadata": {
  "interpreter": {
   "hash": "06b0d7cc3ff6be5802ae025fed16569565f330a28b5df50b09d05391387a3b66"
  },
  "kernelspec": {
   "display_name": "Python 3.7.13 ('MasterThesis')",
   "language": "python",
   "name": "python3"
  },
  "language_info": {
   "codemirror_mode": {
    "name": "ipython",
    "version": 3
   },
   "file_extension": ".py",
   "mimetype": "text/x-python",
   "name": "python",
   "nbconvert_exporter": "python",
   "pygments_lexer": "ipython3",
   "version": "3.7.13"
  },
  "orig_nbformat": 4
 },
 "nbformat": 4,
 "nbformat_minor": 2
}
