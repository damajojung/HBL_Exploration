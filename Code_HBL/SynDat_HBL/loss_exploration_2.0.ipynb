{
 "cells": [
  {
   "cell_type": "markdown",
   "metadata": {},
   "source": [
    "# Loss Exploration 2.0"
   ]
  },
  {
   "cell_type": "code",
   "execution_count": 2,
   "metadata": {},
   "outputs": [],
   "source": [
    "import argparse\n",
    "import math\n",
    "import os\n",
    "import time\n",
    "import random\n",
    "from pylab import *\n",
    "style.use('default')\n",
    "\n",
    "import matplotlib.pyplot as plt\n",
    "from matplotlib.lines import Line2D   \n",
    "\n",
    "import numpy as np\n",
    "import torch\n",
    "import torch.nn as nn\n",
    "from torch.utils.tensorboard import SummaryWriter\n",
    "import torch.utils\n",
    "\n",
    "from helper import pmath\n",
    "from helper.helper import get_optimizer, load_dataset \n",
    "from helper.hyperbolicLoss import PeBusePenalty"
   ]
  },
  {
   "cell_type": "code",
   "execution_count": 58,
   "metadata": {},
   "outputs": [
    {
     "name": "stdout",
     "output_type": "stream",
     "text": [
      "-9.536742027194123e-07\n",
      "0.0023816123139113188\n",
      "0.0037399025168269873\n",
      "0.00459508690983057\n",
      "0.005247931461781263\n",
      "0.005806673783808947\n",
      "0.006329618860036135\n",
      "0.006864896509796381\n",
      "0.007480279076844454\n",
      "0.008354977704584599\n",
      "0.010801923461258411\n"
     ]
    }
   ],
   "source": [
    "import warnings\n",
    "warnings.filterwarnings('ignore')\n",
    "\n",
    "dims = 1000\n",
    "proto_of_interest = 0\n",
    "\n",
    "proto_path = '/Users/dj/Documents/GitHub/Master_Thesis/Code/SynDat_HBL/prototypes/prototypes-1000d-10c.npy'\n",
    "f_loss = PeBusePenalty(dims, penalty_option= 'dim', mult= 0.0)\n",
    "protos = np.load(proto_path)\n",
    "\n",
    "r = torch.arange(0.0, -1.1 ,-0.1)\n",
    "r = torch.arange(0.0, 1.1 ,0.1)\n",
    "x = []; y = []\n",
    "\n",
    "for i in np.arange(0, len(r), 1):\n",
    "    t = torch.zeros(dims).view(dims, 1) # torch.Size([2, 1])\n",
    "    t[0] = r[i]\n",
    "    if i == 10 and r[i] > 0:\n",
    "        t[0] = t[0] - 0.01\n",
    "    elif i == 10 and r[i] < 0:\n",
    "        t[0] = t[0] + 0.01\n",
    "        \n",
    "    x.append(t[0]);y.append(t[1])\n",
    "\n",
    "    # Prototype from prototypes_learning.py\n",
    "    target = torch.tensor(protos[proto_of_interest]) # torch.Size([2])\n",
    "\n",
    "    # Loss\n",
    "    print(f_loss(t, target).item())\n",
    "\n",
    "###\n",
    "if dims == 2:\n",
    "\n",
    "    # Plot\n",
    "    fig1 = plt.figure(figsize=(15,8))\n",
    "    ax = plt.axes()\n",
    "\n",
    "    ax.set_aspect(1)\n",
    "    theta = np.linspace(-np.pi, np.pi, 200)\n",
    "    plt.plot(np.sin(theta), np.cos(theta), c = 'black')\n",
    "    for i in np.arange(0,10,1):\n",
    "        plt.plot(np.sin(theta)*i/10, np.cos(theta)*i/10,color = 'whitesmoke')\n",
    "\n",
    "    plt.scatter(x, y, s= 20, color = 'black')\n",
    "    plt.scatter(0,0, color = 'black', marker = 'x')\n",
    "    plt.scatter(target[0] , target[1], color = 'red', marker = 'x')\n",
    "###\n",
    "\n",
    "# +\n",
    "# OK: 1, 2, 3, 4, 5, 6, 7 \n",
    "# Not OK: 0, 8, 9\n",
    "\n",
    "# -\n",
    "# OK: 0, 1, 8, 9, 6\n",
    "# Not OK: 4, 5, \n"
   ]
  },
  {
   "cell_type": "code",
   "execution_count": 42,
   "metadata": {},
   "outputs": [
    {
     "data": {
      "text/plain": [
       "tensor([ 0.0000, -0.1000, -0.2000, -0.3000, -0.4000, -0.5000, -0.6000, -0.7000,\n",
       "        -0.8000, -0.9000, -1.0000])"
      ]
     },
     "execution_count": 42,
     "metadata": {},
     "output_type": "execute_result"
    }
   ],
   "source": [
    "torch.arange(0.0, -1.1 ,-0.1)"
   ]
  },
  {
   "cell_type": "code",
   "execution_count": null,
   "metadata": {},
   "outputs": [],
   "source": []
  },
  {
   "cell_type": "code",
   "execution_count": null,
   "metadata": {},
   "outputs": [],
   "source": []
  },
  {
   "cell_type": "code",
   "execution_count": null,
   "metadata": {},
   "outputs": [],
   "source": []
  }
 ],
 "metadata": {
  "interpreter": {
   "hash": "06b0d7cc3ff6be5802ae025fed16569565f330a28b5df50b09d05391387a3b66"
  },
  "kernelspec": {
   "display_name": "Python 3.7.13 ('MasterThesis')",
   "language": "python",
   "name": "python3"
  },
  "language_info": {
   "codemirror_mode": {
    "name": "ipython",
    "version": 3
   },
   "file_extension": ".py",
   "mimetype": "text/x-python",
   "name": "python",
   "nbconvert_exporter": "python",
   "pygments_lexer": "ipython3",
   "version": "3.7.13"
  },
  "orig_nbformat": 4
 },
 "nbformat": 4,
 "nbformat_minor": 2
}
