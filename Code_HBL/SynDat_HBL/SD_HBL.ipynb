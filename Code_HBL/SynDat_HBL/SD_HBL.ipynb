{
 "cells": [
  {
   "cell_type": "markdown",
   "metadata": {},
   "source": [
    "# Sentdex NN with Plots"
   ]
  },
  {
   "cell_type": "code",
   "execution_count": 1,
   "metadata": {},
   "outputs": [],
   "source": [
    "import numpy as np\n",
    "import pandas as pd\n",
    "import matplotlib.pyplot as plt\n",
    "import seaborn as sns\n",
    "from scipy import stats\n",
    "from tqdm import tqdm\n",
    "\n",
    "import pathlib\n",
    "\n",
    "sns.set_style('darkgrid')\n",
    "\n",
    "\n",
    "import numpy as np\n",
    "import argparse\n",
    "import math\n",
    "import os\n",
    "import torch\n",
    "import torch.optim as optim\n",
    "import torch.utils.data as data\n",
    "import torch.nn as nn\n",
    "import torch.nn.functional as F\n",
    "from torchvision import datasets, transforms\n",
    "import torch.optim as optim\n",
    "\n",
    "import torch\n",
    "from torchmetrics import Accuracy\n",
    "from torchmetrics import ConfusionMatrix\n",
    "from torchmetrics import F1Score\n",
    "\n",
    "# HBL\n",
    "from helper import pmath\n",
    "from helper.helper import get_optimizer, load_dataset \n",
    "from helper.hyperbolicLoss import PeBusePenalty"
   ]
  },
  {
   "cell_type": "code",
   "execution_count": 3,
   "metadata": {},
   "outputs": [],
   "source": [
    "n_c = 10 # Number of classes\n",
    "dims = 300 # Dimension\n",
    "samp_size = 1000 # Sample Size\n",
    "test_prop = 0.2 # Test Proportion\n",
    "curvature = 1\n",
    "hpnfile = os.path.join(os.getcwd() + '/prototypes/prototypes-10d-1000c.npy')\n",
    "\n",
    "path = str(pathlib.Path().resolve())\n",
    "path_train = path + '/data/syndat/' + str(n_c) + 'c' + str(dims) + 'd' + str(samp_size) + 's' + '_train' + '.csv'\n",
    "path_test = path + '/data/syndat/' + str(n_c) + 'c' + str(dims) + 'd' + str(samp_size)+ 's' + '_test' + '.csv'\n",
    "train = pd.read_csv(path_train, index_col=0)\n",
    "test = pd.read_csv(path_test, index_col=0)"
   ]
  },
  {
   "cell_type": "code",
   "execution_count": 4,
   "metadata": {},
   "outputs": [],
   "source": [
    "def csv_torch(df):\n",
    "\n",
    "    # Creating Tuples\n",
    "    cols = (df.columns)\n",
    "    rows = np.unique(df.index)\n",
    "\n",
    "    samps = []\n",
    "\n",
    "    for i in rows:\n",
    "        s  = df.loc[int(i),:]\n",
    "        for j in cols:\n",
    "            t = torch.Tensor(np.array(s[str(j)]))\n",
    "            tup = (t, int(i))\n",
    "            samps.append(tup)\n",
    "    return samps"
   ]
  },
  {
   "cell_type": "code",
   "execution_count": 5,
   "metadata": {},
   "outputs": [],
   "source": [
    "dat_train = csv_torch(train)\n",
    "dat_test = csv_torch(test)\n",
    "\n",
    "trainset = torch.utils.data.DataLoader(dat_train, batch_size = 10, shuffle = True)\n",
    "testset = torch.utils.data.DataLoader(dat_test, batch_size = 10, shuffle = True)\n",
    "\n",
    "# Load the polars and update the trainy labels.\n",
    "polars = torch.from_numpy(np.load(hpnfile)).float()\n",
    "# calculate radius of ball\n",
    "# This part is useful when curvature is not 1.\n",
    "radius = 1.0 / math.sqrt(curvature)\n",
    "classpolars = polars * radius"
   ]
  },
  {
   "cell_type": "code",
   "execution_count": 6,
   "metadata": {},
   "outputs": [],
   "source": [
    "def predict(x):\n",
    "    x = F.normalize(x, p=2, dim=1)\n",
    "    x = torch.mm(x, polars.t()) # .cuda())\n",
    "    return x"
   ]
  },
  {
   "cell_type": "code",
   "execution_count": 7,
   "metadata": {},
   "outputs": [
    {
     "name": "stdout",
     "output_type": "stream",
     "text": [
      "10\n",
      "Net(\n",
      "  (fc1): Linear(in_features=300, out_features=300, bias=True)\n",
      "  (fc1_bn): BatchNorm1d(300, eps=1e-05, momentum=0.1, affine=True, track_running_stats=True)\n",
      "  (relu): ReLU(inplace=True)\n",
      "  (fc2): Linear(in_features=300, out_features=300, bias=True)\n",
      "  (fc2_bn): BatchNorm1d(300, eps=1e-05, momentum=0.1, affine=True, track_running_stats=True)\n",
      "  (relu1): ReLU(inplace=True)\n",
      "  (fc3): Linear(in_features=300, out_features=300, bias=True)\n",
      "  (fc3_bn): BatchNorm1d(300, eps=1e-05, momentum=0.1, affine=True, track_running_stats=True)\n",
      "  (relu2): ReLU(inplace=True)\n",
      "  (fc4): Linear(in_features=300, out_features=10, bias=True)\n",
      "  (dropout): Dropout(p=0.2, inplace=False)\n",
      ")\n"
     ]
    }
   ],
   "source": [
    "hpnfile = 'prototypes/prototypes-10d-1000c.npy'\n",
    "out_dims = int(hpnfile.split(\"/\")[-1].split(\"-\")[1][:-1]) # if -10d-1-c --> 10 from the d\n",
    "print(out_dims)\n",
    "planes = 300\n",
    "\n",
    "# class Net(nn.Module):\n",
    "#     def __init__(self):\n",
    "#         super().__init__()\n",
    "#         self.fc1 = nn.Linear(dims, planes) # Input Layer\n",
    "#         self.fc2 = nn.Linear(planes, planes) # Hidden Layer 1\n",
    "#         self.fc3 = nn.Linear(planes, planes) # Hidden Layer 2\n",
    "#         self.fc4 = nn.Linear(planes, out_dims) # Output Layer\n",
    "#         self.dropout = nn.Dropout(0.2)\n",
    "\n",
    "#     def forward(self, x):\n",
    "#         x = F.relu(self.fc1(x))\n",
    "#         x = self.dropout(x)\n",
    "#         x = F.relu(self.fc2(x))\n",
    "#         x = self.dropout(x)\n",
    "#         x = F.relu(self.fc3(x))\n",
    "#         x = self.fc4(x)\n",
    "#         return x # F.log_softmax(x, dim=1)  We want to sum the classes - across columns\n",
    "\n",
    "\n",
    "class Net(nn.Module):\n",
    "    def __init__(self):\n",
    "        super().__init__()\n",
    "        self.fc1 = nn.Linear(dims, planes) # Input Layer\n",
    "        self.fc1_bn = nn.BatchNorm1d(planes)\n",
    "        self.relu = nn.ReLU(inplace=True)\n",
    "        self.fc2 = nn.Linear(planes, planes) # Hidden Layer 1\n",
    "        self.fc2_bn = nn.BatchNorm1d(planes)\n",
    "        self.relu1 = nn.ReLU(inplace=True)\n",
    "        self.fc3 = nn.Linear(planes, planes) # Hidden Layer 2\n",
    "        self.fc3_bn = nn.BatchNorm1d(planes)\n",
    "        self.relu2 = nn.ReLU(inplace=True)\n",
    "        self.fc4 = nn.Linear(planes, n_c) # Output Layer\n",
    "        self.dropout = nn.Dropout(0.2)\n",
    "\n",
    "    def forward(self, x):\n",
    "        x = self.fc1(x)\n",
    "        x = (self.fc1_bn(x))\n",
    "        x = self.relu(x)\n",
    "        x = self.dropout(x)\n",
    "        x = self.fc2(x)\n",
    "        x = self.fc2_bn(x)\n",
    "        x = self.relu1(x)\n",
    "        x = self.dropout(x)\n",
    "        x = self.fc3(x)\n",
    "        x = self.fc3_bn(x)\n",
    "        x = self.relu2(x)\n",
    "        x = self.fc4(x)\n",
    "        return x #  F.log_softmax(x, dim=1) # We want to sum the classes - across columns\n",
    "\n",
    "\n",
    "net = Net()\n",
    "print(net)"
   ]
  },
  {
   "cell_type": "code",
   "execution_count": 6,
   "metadata": {},
   "outputs": [
    {
     "name": "stdout",
     "output_type": "stream",
     "text": [
      "1000\n",
      "Net(\n",
      "  (fc1): Linear(in_features=300, out_features=300, bias=True)\n",
      "  (fc1_bn): BatchNorm1d(300, eps=1e-05, momentum=0.1, affine=True, track_running_stats=True)\n",
      "  (relu): LeakyReLU(negative_slope=0.01, inplace=True)\n",
      "  (fc2): Linear(in_features=300, out_features=300, bias=True)\n",
      "  (fc2_bn): BatchNorm1d(300, eps=1e-05, momentum=0.1, affine=True, track_running_stats=True)\n",
      "  (relu1): LeakyReLU(negative_slope=0.01, inplace=True)\n",
      "  (fc3): Linear(in_features=300, out_features=300, bias=True)\n",
      "  (fc3_bn): BatchNorm1d(300, eps=1e-05, momentum=0.1, affine=True, track_running_stats=True)\n",
      "  (relu2): LeakyReLU(negative_slope=0.01, inplace=True)\n",
      "  (fc4): Linear(in_features=300, out_features=1000, bias=True)\n",
      "  (dropout): Dropout(p=0.2, inplace=False)\n",
      ")\n"
     ]
    }
   ],
   "source": [
    "hpnfile = 'prototypes/prototypes-1000d-1000c.npy'\n",
    "out_dims = int(hpnfile.split(\"/\")[-1].split(\"-\")[1][:-1]) # if -10d-1-c --> 10 from the d\n",
    "print(out_dims)\n",
    "planes = 300\n",
    "\n",
    "class Net(nn.Module):\n",
    "    def __init__(self):\n",
    "        super().__init__()\n",
    "        self.fc1 = nn.Linear(dims, planes) # Input Layer\n",
    "        self.fc1_bn = nn.BatchNorm1d(planes)\n",
    "        self.relu = nn.LeakyReLU(inplace=True)\n",
    "        self.fc2 = nn.Linear(planes, planes) # Hidden Layer 1\n",
    "        self.fc2_bn = nn.BatchNorm1d(planes)\n",
    "        self.relu1 = nn.LeakyReLU(inplace=True)\n",
    "        self.fc3 = nn.Linear(planes, planes) # Hidden Layer 2\n",
    "        self.fc3_bn = nn.BatchNorm1d(planes)\n",
    "        self.relu2 = nn.LeakyReLU(inplace=True)\n",
    "        self.fc4 = nn.Linear(planes, n_c) # Output Layer\n",
    "        self.dropout = nn.Dropout(0.2)\n",
    "\n",
    "    def forward(self, x):\n",
    "        x = F.normalize(x, p=2, dim=1)\n",
    "        x = self.fc1(x)\n",
    "        x = (self.fc1_bn(x))\n",
    "        x = self.relu(x)\n",
    "        x = self.dropout(x)\n",
    "        x = self.fc2(x)\n",
    "        x = self.fc2_bn(x)\n",
    "        x = self.relu1(x)\n",
    "        x = self.dropout(x)\n",
    "        x = self.fc3(x)\n",
    "        x = self.fc3_bn(x)\n",
    "        x = self.relu2(x)\n",
    "        x = self.fc4(x)\n",
    "        return x # F.log_softmax(x, dim=1) # We want to sum the classes - across columns\n",
    "\n",
    "\n",
    "net = Net()\n",
    "print(net)"
   ]
  },
  {
   "cell_type": "code",
   "execution_count": 13,
   "metadata": {},
   "outputs": [],
   "source": [
    "x = trainset.dataset[0][0]\n",
    "x = x.view(-1, dims) # -1 = Any size: Be prepared for any size\n",
    "max_val = torch.max(x)"
   ]
  },
  {
   "cell_type": "code",
   "execution_count": 14,
   "metadata": {},
   "outputs": [
    {
     "data": {
      "text/plain": [
       "torch.Size([1, 300])"
      ]
     },
     "execution_count": 14,
     "metadata": {},
     "output_type": "execute_result"
    }
   ],
   "source": [
    "x.shape"
   ]
  },
  {
   "cell_type": "code",
   "execution_count": 15,
   "metadata": {},
   "outputs": [
    {
     "ename": "ValueError",
     "evalue": "Expected more than 1 value per channel when training, got input size torch.Size([1, 300])",
     "output_type": "error",
     "traceback": [
      "\u001b[0;31m---------------------------------------------------------------------------\u001b[0m",
      "\u001b[0;31mValueError\u001b[0m                                Traceback (most recent call last)",
      "\u001b[0;32m/var/folders/9r/pl8035cn4cjb59msrdwcrvhr0000gn/T/ipykernel_1697/37285191.py\u001b[0m in \u001b[0;36m<module>\u001b[0;34m\u001b[0m\n\u001b[0;32m----> 1\u001b[0;31m \u001b[0moutput\u001b[0m \u001b[0;34m=\u001b[0m \u001b[0mnet\u001b[0m\u001b[0;34m(\u001b[0m\u001b[0mx\u001b[0m\u001b[0;34m)\u001b[0m\u001b[0;34m\u001b[0m\u001b[0;34m\u001b[0m\u001b[0m\n\u001b[0m\u001b[1;32m      2\u001b[0m \u001b[0moutput\u001b[0m\u001b[0;34m\u001b[0m\u001b[0;34m\u001b[0m\u001b[0m\n",
      "\u001b[0;32m/opt/anaconda3/envs/MasterThesis/lib/python3.7/site-packages/torch/nn/modules/module.py\u001b[0m in \u001b[0;36m_call_impl\u001b[0;34m(self, *input, **kwargs)\u001b[0m\n\u001b[1;32m   1108\u001b[0m         if not (self._backward_hooks or self._forward_hooks or self._forward_pre_hooks or _global_backward_hooks\n\u001b[1;32m   1109\u001b[0m                 or _global_forward_hooks or _global_forward_pre_hooks):\n\u001b[0;32m-> 1110\u001b[0;31m             \u001b[0;32mreturn\u001b[0m \u001b[0mforward_call\u001b[0m\u001b[0;34m(\u001b[0m\u001b[0;34m*\u001b[0m\u001b[0minput\u001b[0m\u001b[0;34m,\u001b[0m \u001b[0;34m**\u001b[0m\u001b[0mkwargs\u001b[0m\u001b[0;34m)\u001b[0m\u001b[0;34m\u001b[0m\u001b[0;34m\u001b[0m\u001b[0m\n\u001b[0m\u001b[1;32m   1111\u001b[0m         \u001b[0;31m# Do not call functions when jit is used\u001b[0m\u001b[0;34m\u001b[0m\u001b[0;34m\u001b[0m\u001b[0;34m\u001b[0m\u001b[0m\n\u001b[1;32m   1112\u001b[0m         \u001b[0mfull_backward_hooks\u001b[0m\u001b[0;34m,\u001b[0m \u001b[0mnon_full_backward_hooks\u001b[0m \u001b[0;34m=\u001b[0m \u001b[0;34m[\u001b[0m\u001b[0;34m]\u001b[0m\u001b[0;34m,\u001b[0m \u001b[0;34m[\u001b[0m\u001b[0;34m]\u001b[0m\u001b[0;34m\u001b[0m\u001b[0;34m\u001b[0m\u001b[0m\n",
      "\u001b[0;32m/var/folders/9r/pl8035cn4cjb59msrdwcrvhr0000gn/T/ipykernel_1697/1457543423.py\u001b[0m in \u001b[0;36mforward\u001b[0;34m(self, x)\u001b[0m\n\u001b[1;32m     40\u001b[0m     \u001b[0;32mdef\u001b[0m \u001b[0mforward\u001b[0m\u001b[0;34m(\u001b[0m\u001b[0mself\u001b[0m\u001b[0;34m,\u001b[0m \u001b[0mx\u001b[0m\u001b[0;34m)\u001b[0m\u001b[0;34m:\u001b[0m\u001b[0;34m\u001b[0m\u001b[0;34m\u001b[0m\u001b[0m\n\u001b[1;32m     41\u001b[0m         \u001b[0mx\u001b[0m \u001b[0;34m=\u001b[0m \u001b[0mself\u001b[0m\u001b[0;34m.\u001b[0m\u001b[0mfc1\u001b[0m\u001b[0;34m(\u001b[0m\u001b[0mx\u001b[0m\u001b[0;34m)\u001b[0m\u001b[0;34m\u001b[0m\u001b[0;34m\u001b[0m\u001b[0m\n\u001b[0;32m---> 42\u001b[0;31m         \u001b[0mx\u001b[0m \u001b[0;34m=\u001b[0m \u001b[0;34m(\u001b[0m\u001b[0mself\u001b[0m\u001b[0;34m.\u001b[0m\u001b[0mfc1_bn\u001b[0m\u001b[0;34m(\u001b[0m\u001b[0mx\u001b[0m\u001b[0;34m)\u001b[0m\u001b[0;34m)\u001b[0m\u001b[0;34m\u001b[0m\u001b[0;34m\u001b[0m\u001b[0m\n\u001b[0m\u001b[1;32m     43\u001b[0m         \u001b[0mx\u001b[0m \u001b[0;34m=\u001b[0m \u001b[0mself\u001b[0m\u001b[0;34m.\u001b[0m\u001b[0mrelu\u001b[0m\u001b[0;34m(\u001b[0m\u001b[0mx\u001b[0m\u001b[0;34m)\u001b[0m\u001b[0;34m\u001b[0m\u001b[0;34m\u001b[0m\u001b[0m\n\u001b[1;32m     44\u001b[0m         \u001b[0mx\u001b[0m \u001b[0;34m=\u001b[0m \u001b[0mself\u001b[0m\u001b[0;34m.\u001b[0m\u001b[0mdropout\u001b[0m\u001b[0;34m(\u001b[0m\u001b[0mx\u001b[0m\u001b[0;34m)\u001b[0m\u001b[0;34m\u001b[0m\u001b[0;34m\u001b[0m\u001b[0m\n",
      "\u001b[0;32m/opt/anaconda3/envs/MasterThesis/lib/python3.7/site-packages/torch/nn/modules/module.py\u001b[0m in \u001b[0;36m_call_impl\u001b[0;34m(self, *input, **kwargs)\u001b[0m\n\u001b[1;32m   1108\u001b[0m         if not (self._backward_hooks or self._forward_hooks or self._forward_pre_hooks or _global_backward_hooks\n\u001b[1;32m   1109\u001b[0m                 or _global_forward_hooks or _global_forward_pre_hooks):\n\u001b[0;32m-> 1110\u001b[0;31m             \u001b[0;32mreturn\u001b[0m \u001b[0mforward_call\u001b[0m\u001b[0;34m(\u001b[0m\u001b[0;34m*\u001b[0m\u001b[0minput\u001b[0m\u001b[0;34m,\u001b[0m \u001b[0;34m**\u001b[0m\u001b[0mkwargs\u001b[0m\u001b[0;34m)\u001b[0m\u001b[0;34m\u001b[0m\u001b[0;34m\u001b[0m\u001b[0m\n\u001b[0m\u001b[1;32m   1111\u001b[0m         \u001b[0;31m# Do not call functions when jit is used\u001b[0m\u001b[0;34m\u001b[0m\u001b[0;34m\u001b[0m\u001b[0;34m\u001b[0m\u001b[0m\n\u001b[1;32m   1112\u001b[0m         \u001b[0mfull_backward_hooks\u001b[0m\u001b[0;34m,\u001b[0m \u001b[0mnon_full_backward_hooks\u001b[0m \u001b[0;34m=\u001b[0m \u001b[0;34m[\u001b[0m\u001b[0;34m]\u001b[0m\u001b[0;34m,\u001b[0m \u001b[0;34m[\u001b[0m\u001b[0;34m]\u001b[0m\u001b[0;34m\u001b[0m\u001b[0;34m\u001b[0m\u001b[0m\n",
      "\u001b[0;32m/opt/anaconda3/envs/MasterThesis/lib/python3.7/site-packages/torch/nn/modules/batchnorm.py\u001b[0m in \u001b[0;36mforward\u001b[0;34m(self, input)\u001b[0m\n\u001b[1;32m    177\u001b[0m             \u001b[0mbn_training\u001b[0m\u001b[0;34m,\u001b[0m\u001b[0;34m\u001b[0m\u001b[0;34m\u001b[0m\u001b[0m\n\u001b[1;32m    178\u001b[0m             \u001b[0mexponential_average_factor\u001b[0m\u001b[0;34m,\u001b[0m\u001b[0;34m\u001b[0m\u001b[0;34m\u001b[0m\u001b[0m\n\u001b[0;32m--> 179\u001b[0;31m             \u001b[0mself\u001b[0m\u001b[0;34m.\u001b[0m\u001b[0meps\u001b[0m\u001b[0;34m,\u001b[0m\u001b[0;34m\u001b[0m\u001b[0;34m\u001b[0m\u001b[0m\n\u001b[0m\u001b[1;32m    180\u001b[0m         )\n\u001b[1;32m    181\u001b[0m \u001b[0;34m\u001b[0m\u001b[0m\n",
      "\u001b[0;32m/opt/anaconda3/envs/MasterThesis/lib/python3.7/site-packages/torch/nn/functional.py\u001b[0m in \u001b[0;36mbatch_norm\u001b[0;34m(input, running_mean, running_var, weight, bias, training, momentum, eps)\u001b[0m\n\u001b[1;32m   2417\u001b[0m         )\n\u001b[1;32m   2418\u001b[0m     \u001b[0;32mif\u001b[0m \u001b[0mtraining\u001b[0m\u001b[0;34m:\u001b[0m\u001b[0;34m\u001b[0m\u001b[0;34m\u001b[0m\u001b[0m\n\u001b[0;32m-> 2419\u001b[0;31m         \u001b[0m_verify_batch_size\u001b[0m\u001b[0;34m(\u001b[0m\u001b[0minput\u001b[0m\u001b[0;34m.\u001b[0m\u001b[0msize\u001b[0m\u001b[0;34m(\u001b[0m\u001b[0;34m)\u001b[0m\u001b[0;34m)\u001b[0m\u001b[0;34m\u001b[0m\u001b[0;34m\u001b[0m\u001b[0m\n\u001b[0m\u001b[1;32m   2420\u001b[0m \u001b[0;34m\u001b[0m\u001b[0m\n\u001b[1;32m   2421\u001b[0m     return torch.batch_norm(\n",
      "\u001b[0;32m/opt/anaconda3/envs/MasterThesis/lib/python3.7/site-packages/torch/nn/functional.py\u001b[0m in \u001b[0;36m_verify_batch_size\u001b[0;34m(size)\u001b[0m\n\u001b[1;32m   2385\u001b[0m         \u001b[0msize_prods\u001b[0m \u001b[0;34m*=\u001b[0m \u001b[0msize\u001b[0m\u001b[0;34m[\u001b[0m\u001b[0mi\u001b[0m \u001b[0;34m+\u001b[0m \u001b[0;36m2\u001b[0m\u001b[0;34m]\u001b[0m\u001b[0;34m\u001b[0m\u001b[0;34m\u001b[0m\u001b[0m\n\u001b[1;32m   2386\u001b[0m     \u001b[0;32mif\u001b[0m \u001b[0msize_prods\u001b[0m \u001b[0;34m==\u001b[0m \u001b[0;36m1\u001b[0m\u001b[0;34m:\u001b[0m\u001b[0;34m\u001b[0m\u001b[0;34m\u001b[0m\u001b[0m\n\u001b[0;32m-> 2387\u001b[0;31m         \u001b[0;32mraise\u001b[0m \u001b[0mValueError\u001b[0m\u001b[0;34m(\u001b[0m\u001b[0;34m\"Expected more than 1 value per channel when training, got input size {}\"\u001b[0m\u001b[0;34m.\u001b[0m\u001b[0mformat\u001b[0m\u001b[0;34m(\u001b[0m\u001b[0msize\u001b[0m\u001b[0;34m)\u001b[0m\u001b[0;34m)\u001b[0m\u001b[0;34m\u001b[0m\u001b[0;34m\u001b[0m\u001b[0m\n\u001b[0m\u001b[1;32m   2388\u001b[0m \u001b[0;34m\u001b[0m\u001b[0m\n\u001b[1;32m   2389\u001b[0m \u001b[0;34m\u001b[0m\u001b[0m\n",
      "\u001b[0;31mValueError\u001b[0m: Expected more than 1 value per channel when training, got input size torch.Size([1, 300])"
     ]
    }
   ],
   "source": [
    "output = net(x)\n",
    "output"
   ]
  },
  {
   "cell_type": "markdown",
   "metadata": {},
   "source": [
    "# New Implementation"
   ]
  },
  {
   "cell_type": "code",
   "execution_count": 16,
   "metadata": {},
   "outputs": [],
   "source": [
    "def fwd_pass(X, y, train = True): # By default, we will not update weights\n",
    "\n",
    "    avgloss, avglosscount, newloss, acc, newacc = 0., 0., 0., 0., 0.\n",
    "\n",
    "    target_tmp = y\n",
    "\n",
    "    y = polars[y]\n",
    "    X = torch.autograd.Variable(X) # .cuda()\n",
    "    y = torch.autograd.Variable(y) # .cuda()\n",
    "\n",
    "    if train:\n",
    "        net.zero_grad()\n",
    "\n",
    "    outputs = net(X)\n",
    "    output_exp_map = pmath.expmap0(outputs, c=1)\n",
    "\n",
    "    loss = loss_function(output_exp_map, y)\n",
    "\n",
    "    # Backpropagation.\n",
    "    if train:\n",
    "        optimizer.zero_grad()\n",
    "        loss.backward()\n",
    "        optimizer.step()\n",
    "\n",
    "    avgloss += loss.item()\n",
    "    avglosscount += 1.\n",
    "    newloss = avgloss / avglosscount\n",
    "\n",
    "    output = predict(output_exp_map).float()\n",
    "    pred = output.max(1, keepdim=True)[1]\n",
    "    acc += pred.eq(target_tmp.view_as(pred)).sum().item()\n",
    "\n",
    "    trainlen = len(y) # len(trainset.dataset)\n",
    "    newacc = acc / float(trainlen)\n",
    "\n",
    "    return newacc, newloss"
   ]
  },
  {
   "cell_type": "code",
   "execution_count": 17,
   "metadata": {},
   "outputs": [],
   "source": [
    "def test_vals(size = 10):\n",
    "    counter = 0\n",
    "    acc_list = []\n",
    "    loss_list = []\n",
    "\n",
    "    with torch.no_grad():\n",
    "        for data in testset:\n",
    "            counter += 1\n",
    "            X, y = data\n",
    "            val_acc, val_loss = fwd_pass(X.view(-1,dims),y, train = False) #.to(device), y.to(device) for cloud computing\n",
    "            acc_list.append(val_acc)\n",
    "            loss_list.append(val_loss) # .item()\n",
    "            if counter == size:\n",
    "                break\n",
    "\n",
    "    return float(np.mean(acc_list)), float(np.mean(loss_list))"
   ]
  },
  {
   "cell_type": "code",
   "execution_count": 18,
   "metadata": {},
   "outputs": [
    {
     "name": "stdout",
     "output_type": "stream",
     "text": [
      "0\n",
      "1\n",
      "2\n"
     ]
    }
   ],
   "source": [
    "import time\n",
    "\n",
    "MODEL_NAME = f\"model-{int(time.time())}\"  # gives a dynamic model name, to just help with things getting messy over time. \n",
    "\n",
    "net = Net() # .to(device) # <- for cloud GPU\n",
    "# loss_function = nn.CrossEntropyLoss()\n",
    "\n",
    "choose_penalty = 'dim'\n",
    "mult = 0.1\n",
    "loss_function = PeBusePenalty(out_dims, penalty_option= choose_penalty, mult=mult) # .cuda()\n",
    "optimizer = optim.Adam(net.parameters(), lr=1e-3)\n",
    "\n",
    "\n",
    "def train(net):\n",
    "    BATCH_SIZE = trainset.batch_size\n",
    "    EPOCHS = 3\n",
    "\n",
    "    with open(f\"{MODEL_NAME}.log\", \"a\") as f:\n",
    "        for epoch in range(EPOCHS):\n",
    "            print(epoch)\n",
    "            c = 0\n",
    "            \n",
    "            for data in trainset:\n",
    "                c += BATCH_SIZE\n",
    "                X, y = data\n",
    "                batch_X = X\n",
    "                batch_y = y\n",
    "\n",
    "                batch_X, batch_y = batch_X, batch_y # batch_X.to(device), batch_y.to(device)\n",
    "\n",
    "                acc, loss = fwd_pass(batch_X, batch_y, train=True)\n",
    "\n",
    "                if c % 100 == 0:\n",
    "                    val_acc, val_loss = test_vals(10)\n",
    "                    f.write(f\"{MODEL_NAME},{round(time.time(),3)},{round(float(acc),2)},{round(float(loss),4)},{round(float(val_acc),2)},{round(float(val_loss),4)}\\n\")\n",
    "\n",
    "train(net)"
   ]
  },
  {
   "cell_type": "markdown",
   "metadata": {},
   "source": [
    "# Visualisation\n"
   ]
  },
  {
   "cell_type": "code",
   "execution_count": 19,
   "metadata": {},
   "outputs": [
    {
     "name": "stdout",
     "output_type": "stream",
     "text": [
      "300\n"
     ]
    },
    {
     "data": {
      "image/png": "[encoded data removed]",
      "text/plain": [
       "<Figure size 864x576 with 2 Axes>"
      ]
     },
     "metadata": {},
     "output_type": "display_data"
    }
   ],
   "source": [
    "%matplotlib inline \n",
    "\n",
    "import matplotlib.pyplot as plt\n",
    "from matplotlib import style\n",
    "\n",
    "# Multiple lines\n",
    "\n",
    "style.use('ggplot')\n",
    "# t = open('model.log', 'r').read().split('\\n')\n",
    "# model_name = t[0][0:16]\n",
    "# print(model_name)\n",
    "model_name = MODEL_NAME\n",
    "\n",
    "def create_acc_loss_graph(model_name):\n",
    "    contents = open(f'{MODEL_NAME}.log', 'r').read().split('\\n')\n",
    "\n",
    "    times= []\n",
    "    accuracies = []\n",
    "    losses = []\n",
    "    val_accs = []\n",
    "    val_losses = []\n",
    "\n",
    "    for c in contents:\n",
    "        if model_name in c:\n",
    "            name, timestamp, acc, loss, val_acc, val_loss = c.split(',')\n",
    "\n",
    "            times.append(float(timestamp))\n",
    "            accuracies.append(float(acc))\n",
    "            losses.append(float(loss))\n",
    "            val_accs.append(float(val_acc))\n",
    "            val_losses.append(float(val_loss))\n",
    "\n",
    "            \n",
    "    print(len(accuracies))\n",
    "    fig = plt.figure(figsize=(12,8))\n",
    "\n",
    "    ax1 = plt.subplot2grid((2,1), (0,0))\n",
    "    ax2 = plt.subplot2grid((2,1), (1,0), sharex = ax1)\n",
    "\n",
    "    ax1.plot(times, accuracies, label = 'acc')\n",
    "    ax1.plot(times, val_accs, label = 'val_acc')\n",
    "    ax1.legend(loc=2)\n",
    "\n",
    "    ax2.plot(times, losses, label = 'loss')\n",
    "    ax2.plot(times, val_losses, label = 'val_loss')\n",
    "    ax2.legend(loc=2)\n",
    "\n",
    "    plt.show()\n",
    "\n",
    "create_acc_loss_graph(model_name)"
   ]
  },
  {
   "cell_type": "markdown",
   "metadata": {},
   "source": [
    "# HBL First Steps"
   ]
  },
  {
   "cell_type": "code",
   "execution_count": 13,
   "metadata": {},
   "outputs": [
    {
     "data": {
      "text/plain": [
       "10"
      ]
     },
     "execution_count": 13,
     "metadata": {},
     "output_type": "execute_result"
    }
   ],
   "source": [
    "hpnfile = 'prototypes/prototypes-10d-10c.npy'\n",
    "int(hpnfile.split(\"/\")[-1].split(\"-\")[1][:-1]) # if -10d-1-c --> 10 from the d"
   ]
  },
  {
   "cell_type": "code",
   "execution_count": 29,
   "metadata": {},
   "outputs": [
    {
     "data": {
      "text/plain": [
       "'/Users/dj/Documents/GitHub/Master_Thesis/Code/SynDat_HBL/prototypes/prototypes-10d-10c.npy'"
      ]
     },
     "execution_count": 29,
     "metadata": {},
     "output_type": "execute_result"
    }
   ],
   "source": [
    "path = os.path.join(os.getcwd() + '/prototypes/prototypes-10d-10c.npy')\n",
    "path"
   ]
  },
  {
   "cell_type": "code",
   "execution_count": 33,
   "metadata": {},
   "outputs": [],
   "source": [
    "prot = np.load(path)"
   ]
  },
  {
   "cell_type": "code",
   "execution_count": 37,
   "metadata": {},
   "outputs": [
    {
     "data": {
      "text/plain": [
       "(10, 10)"
      ]
     },
     "execution_count": 37,
     "metadata": {},
     "output_type": "execute_result"
    }
   ],
   "source": [
    "np.shape(prot)"
   ]
  },
  {
   "cell_type": "code",
   "execution_count": 38,
   "metadata": {},
   "outputs": [
    {
     "data": {
      "text/plain": [
       "array([[-0.25219804,  0.05915433,  0.48179662,  0.11057346, -0.4234488 ,\n",
       "        -0.05803369, -0.27988303, -0.167969  , -0.2755929 ,  0.56865287],\n",
       "       [ 0.3219189 ,  0.5471376 , -0.47009853, -0.1778705 , -0.26697284,\n",
       "         0.09656938, -0.11069116,  0.17349954,  0.35583952,  0.30789837],\n",
       "       [-0.07103552, -0.06925097, -0.16505356,  0.07408659, -0.46795392,\n",
       "         0.01751843,  0.7879836 , -0.18669479, -0.17382841, -0.22836283],\n",
       "       [ 0.22758237, -0.7144217 ,  0.09083306,  0.07330392, -0.19414927,\n",
       "         0.3286394 , -0.1380258 ,  0.4126377 ,  0.29660642, -0.0344899 ],\n",
       "       [ 0.28917435,  0.37206653,  0.67150414, -0.25118038,  0.09350803,\n",
       "        -0.10691381,  0.04996324,  0.20202489,  0.02691147, -0.44690743],\n",
       "       [-0.45509917, -0.11466437,  0.06544304, -0.34064883,  0.3156396 ,\n",
       "         0.02156832,  0.09863309, -0.41908994,  0.606029  ,  0.08174947],\n",
       "       [-0.08859404,  0.08660177, -0.06701314,  0.7534423 ,  0.27503404,\n",
       "        -0.49810758,  0.06555112,  0.21451604,  0.19477655,  0.0218695 ],\n",
       "       [-0.19761284,  0.19994448, -0.09235124,  0.14436536,  0.4636089 ,\n",
       "         0.711076  ,  0.05067833,  0.1286305 , -0.3894675 ,  0.01548252],\n",
       "       [-0.33855736, -0.165569  , -0.37485462, -0.4276507 ,  0.02319649,\n",
       "        -0.40308505, -0.29724362,  0.28459284, -0.39425272, -0.21625692],\n",
       "       [ 0.6004214 , -0.19769529, -0.1455553 ,  0.05722374,  0.19346114,\n",
       "        -0.11033601, -0.2390155 , -0.6486492 , -0.21122266, -0.06212233]],\n",
       "      dtype=float32)"
      ]
     },
     "execution_count": 38,
     "metadata": {},
     "output_type": "execute_result"
    }
   ],
   "source": [
    "prot"
   ]
  },
  {
   "cell_type": "code",
   "execution_count": null,
   "metadata": {},
   "outputs": [],
   "source": []
  },
  {
   "cell_type": "code",
   "execution_count": 50,
   "metadata": {},
   "outputs": [
    {
     "name": "stdout",
     "output_type": "stream",
     "text": [
      "<class 'torch.Tensor'>\n",
      "<class 'torch.Tensor'>\n"
     ]
    }
   ],
   "source": [
    "for data in trainset:\n",
    "    x , y = data\n",
    "    print(type(x))\n",
    "    print(type(y))\n",
    "    break"
   ]
  },
  {
   "cell_type": "code",
   "execution_count": 105,
   "metadata": {},
   "outputs": [
    {
     "name": "stdout",
     "output_type": "stream",
     "text": [
      "10\n",
      "acc tensor([[False],\n",
      "        [False],\n",
      "        [False],\n",
      "        [ True],\n",
      "        [False],\n",
      "        [ True],\n",
      "        [False],\n",
      "        [False],\n",
      "        [ True],\n",
      "        [ True]])\n",
      "0.4\n"
     ]
    }
   ],
   "source": [
    "for data in trainset:\n",
    "    avgloss, avglosscount, newloss, acc, newacc = 0., 0., 0., 0., 0.\n",
    "\n",
    "    X, y = data\n",
    "    print(len(y))\n",
    "\n",
    "    target_tmp = y\n",
    "\n",
    "    y = polars[y]\n",
    "    X = torch.autograd.Variable(X) # .cuda()\n",
    "    y = torch.autograd.Variable(y) # .cuda()\n",
    "\n",
    "    if train:\n",
    "        net.zero_grad()\n",
    "\n",
    "    outputs = net(X)\n",
    "    output_exp_map = pmath.expmap0(outputs, c=1)\n",
    "\n",
    "    loss = loss_function(output_exp_map, y)\n",
    "\n",
    "    # Backpropagation.\n",
    "    if train:\n",
    "        optimizer.zero_grad()\n",
    "        loss.backward()\n",
    "        optimizer.step()\n",
    "\n",
    "    avgloss += loss.item()\n",
    "    avglosscount += 1.\n",
    "    newloss = avgloss / avglosscount\n",
    "\n",
    "    output = predict(output_exp_map).float()\n",
    "    pred = output.max(1, keepdim=True)[1]\n",
    "    print('acc', pred.eq(target_tmp.view_as(pred)))\n",
    "\n",
    "    acc += pred.eq(target_tmp.view_as(pred)).sum().item()\n",
    "\n",
    "    trainlen = len(y) # len(trainset.dataset)\n",
    "    newacc = acc / float(trainlen)\n",
    "    print(newacc)\n",
    "    break\n"
   ]
  },
  {
   "cell_type": "code",
   "execution_count": 100,
   "metadata": {},
   "outputs": [
    {
     "data": {
      "text/plain": [
       "10000"
      ]
     },
     "execution_count": 100,
     "metadata": {},
     "output_type": "execute_result"
    }
   ],
   "source": [
    "len(trainset.dataset)"
   ]
  },
  {
   "cell_type": "code",
   "execution_count": null,
   "metadata": {},
   "outputs": [],
   "source": []
  },
  {
   "cell_type": "code",
   "execution_count": null,
   "metadata": {},
   "outputs": [],
   "source": []
  },
  {
   "cell_type": "code",
   "execution_count": null,
   "metadata": {},
   "outputs": [],
   "source": []
  }
 ],
 "metadata": {
  "interpreter": {
   "hash": "06b0d7cc3ff6be5802ae025fed16569565f330a28b5df50b09d05391387a3b66"
  },
  "kernelspec": {
   "display_name": "Python 3.7.13 ('MasterThesis')",
   "language": "python",
   "name": "python3"
  },
  "language_info": {
   "codemirror_mode": {
    "name": "ipython",
    "version": 3
   },
   "file_extension": ".py",
   "mimetype": "text/x-python",
   "name": "python",
   "nbconvert_exporter": "python",
   "pygments_lexer": "ipython3",
   "version": "3.7.13"
  },
  "orig_nbformat": 4
 },
 "nbformat": 4,
 "nbformat_minor": 2
}
