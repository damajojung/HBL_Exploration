{
 "cells": [
  {
   "cell_type": "markdown",
   "metadata": {},
   "source": [
    "# ImageNet"
   ]
  },
  {
   "cell_type": "code",
   "execution_count": 1,
   "metadata": {},
   "outputs": [],
   "source": [
    "import numpy as np\n",
    "import argparse\n",
    "import math\n",
    "import os\n",
    "import torch\n",
    "import torch.optim as optim\n",
    "import torch.utils.data as data\n",
    "from torchvision import datasets, transforms\n",
    "import pickle\n",
    "# import lasagne\n",
    "import matplotlib.pyplot as plt"
   ]
  },
  {
   "cell_type": "code",
   "execution_count": null,
   "metadata": {},
   "outputs": [],
   "source": []
  },
  {
   "cell_type": "code",
   "execution_count": 2,
   "metadata": {},
   "outputs": [],
   "source": [
    "# Functions provided by the website (https://patrykchrabaszcz.github.io/Imagenet32/)\n",
    "\n",
    "def unpickle(file):\n",
    "    with open(file, 'rb') as fo:\n",
    "        dict = pickle.load(fo)\n",
    "    return dict\n",
    "\n",
    "def load_databatch(data_folder, idx, img_size=32):\n",
    "    data_file = os.path.join(data_folder, 'train_data_batch_')\n",
    "\n",
    "    d = unpickle(data_file + str(idx))\n",
    "    x = d['data']\n",
    "    y = d['labels']\n",
    "    mean_image = d['mean']\n",
    "\n",
    "    x = x/np.float32(255)\n",
    "    mean_image = mean_image/np.float32(255)\n",
    "\n",
    "    # Labels are indexed from 1, shift it so that indexes start at 0\n",
    "    y = [i-1 for i in y]\n",
    "    data_size = x.shape[0]\n",
    "\n",
    "    x -= mean_image\n",
    "\n",
    "    img_size2 = img_size * img_size\n",
    "\n",
    "    x = np.dstack((x[:, :img_size2], x[:, img_size2:2*img_size2], x[:, 2*img_size2:]))\n",
    "    x = x.reshape((x.shape[0], img_size, img_size, 3)).transpose(0, 3, 1, 2)\n",
    "\n",
    "    # create mirrored images\n",
    "    X_train = x[0:data_size, :, :, :]\n",
    "    Y_train = y[0:data_size]\n",
    "    X_train_flip = X_train[:, :, :, ::-1]\n",
    "    Y_train_flip = Y_train\n",
    "    X_train = np.concatenate((X_train, X_train_flip), axis=0)\n",
    "    Y_train = np.concatenate((Y_train, Y_train_flip), axis=0)\n",
    "\n",
    "    return dict(\n",
    "        X_train=(X_train), # lasagne.utils.floatX(X_train),\n",
    "        Y_train=Y_train.astype('int32'),\n",
    "        mean=mean_image)"
   ]
  },
  {
   "cell_type": "code",
   "execution_count": 3,
   "metadata": {},
   "outputs": [],
   "source": [
    "d = unpickle('/Users/dj/Desktop/MT_Desktop/ImageNet/ImageNet64/Imagenet64_train/train_data_batch_1')\n",
    "x = d['data']\n",
    "y = d['labels']\n",
    "mean_image = d['mean']"
   ]
  },
  {
   "cell_type": "code",
   "execution_count": 21,
   "metadata": {},
   "outputs": [
    {
     "ename": "TypeError",
     "evalue": "object of type 'numpy.float64' has no len()",
     "output_type": "error",
     "traceback": [
      "\u001b[0;31m---------------------------------------------------------------------------\u001b[0m",
      "\u001b[0;31mTypeError\u001b[0m                                 Traceback (most recent call last)",
      "\u001b[0;32m/var/folders/9r/pl8035cn4cjb59msrdwcrvhr0000gn/T/ipykernel_2151/1104462402.py\u001b[0m in \u001b[0;36m<module>\u001b[0;34m\u001b[0m\n\u001b[0;32m----> 1\u001b[0;31m \u001b[0mlen\u001b[0m\u001b[0;34m(\u001b[0m\u001b[0mmean_image\u001b[0m\u001b[0;34m[\u001b[0m\u001b[0;36m0\u001b[0m\u001b[0;34m]\u001b[0m\u001b[0;34m)\u001b[0m\u001b[0;34m\u001b[0m\u001b[0;34m\u001b[0m\u001b[0m\n\u001b[0m",
      "\u001b[0;31mTypeError\u001b[0m: object of type 'numpy.float64' has no len()"
     ]
    }
   ],
   "source": []
  },
  {
   "cell_type": "code",
   "execution_count": 15,
   "metadata": {},
   "outputs": [],
   "source": [
    "dat_batch = load_databatch(data_folder = '/Users/dj/Desktop/MT_Desktop/ImageNet/ImageNet64/Imagenet64_train/', idx = 1, img_size=64)"
   ]
  },
  {
   "cell_type": "code",
   "execution_count": 19,
   "metadata": {},
   "outputs": [
    {
     "name": "stderr",
     "output_type": "stream",
     "text": [
      "Clipping input data to the valid range for imshow with RGB data ([0..1] for floats or [0..255] for integers).\n"
     ]
    },
    {
     "name": "stdout",
     "output_type": "stream",
     "text": [
      "152\n"
     ]
    },
    {
     "data": {
      "text/plain": [
       "<matplotlib.image.AxesImage at 0x7fb58af57450>"
      ]
     },
     "execution_count": 19,
     "metadata": {},
     "output_type": "execute_result"
    },
    {
     "data": {
      "image/png": "[encoded data removed]",
      "text/plain": [
       "<Figure size 432x288 with 1 Axes>"
      ]
     },
     "metadata": {
      "needs_background": "light"
     },
     "output_type": "display_data"
    }
   ],
   "source": [
    "s = 3\n",
    "image = torch.tensor(dat_batch['X_train'][s]) #34\n",
    "print(dat_batch['Y_train'][s])\n",
    "plt.imshow(image.permute(1, 2, 0)  )"
   ]
  },
  {
   "cell_type": "markdown",
   "metadata": {},
   "source": [
    "# Old 32 "
   ]
  },
  {
   "cell_type": "code",
   "execution_count": 5,
   "metadata": {},
   "outputs": [],
   "source": [
    "d = unpickle('/Users/dj/Desktop/MT_Desktop/ImageNet/Imagenet32_train/train_data_batch_1')\n",
    "x = d['data']\n",
    "y = d['labels']\n",
    "mean_image = d['mean']"
   ]
  },
  {
   "cell_type": "code",
   "execution_count": 6,
   "metadata": {},
   "outputs": [
    {
     "data": {
      "text/plain": [
       "114.44612658042962"
      ]
     },
     "execution_count": 6,
     "metadata": {},
     "output_type": "execute_result"
    }
   ],
   "source": [
    "np.mean(mean_image)"
   ]
  },
  {
   "cell_type": "code",
   "execution_count": 7,
   "metadata": {},
   "outputs": [
    {
     "data": {
      "text/plain": [
       "211.87434895833334"
      ]
     },
     "execution_count": 7,
     "metadata": {},
     "output_type": "execute_result"
    }
   ],
   "source": [
    "np.mean(d['data'][100])"
   ]
  },
  {
   "cell_type": "code",
   "execution_count": 8,
   "metadata": {},
   "outputs": [
    {
     "name": "stdout",
     "output_type": "stream",
     "text": [
      "128116\n",
      "128116\n",
      "3072\n"
     ]
    }
   ],
   "source": [
    "print(len(x))\n",
    "print(len(y))\n",
    "print(len(mean_image))"
   ]
  },
  {
   "cell_type": "code",
   "execution_count": 18,
   "metadata": {},
   "outputs": [],
   "source": [
    "dat_batch = load_databatch(data_folder = '/Users/dj/Desktop/MT_Desktop/ImageNet/Imagenet32_train', idx = 1, img_size=32)"
   ]
  },
  {
   "cell_type": "code",
   "execution_count": 14,
   "metadata": {},
   "outputs": [
    {
     "data": {
      "text/plain": [
       "array([0.46780166, 0.4746362 , 0.48062865, ..., 0.39663089, 0.39366051,\n",
       "       0.3904075 ])"
      ]
     },
     "execution_count": 14,
     "metadata": {},
     "output_type": "execute_result"
    }
   ],
   "source": [
    "dat_batch['mean']"
   ]
  },
  {
   "cell_type": "code",
   "execution_count": 15,
   "metadata": {},
   "outputs": [
    {
     "data": {
      "text/plain": [
       "3072"
      ]
     },
     "execution_count": 15,
     "metadata": {},
     "output_type": "execute_result"
    }
   ],
   "source": [
    "len(dat_batch['mean'])"
   ]
  },
  {
   "cell_type": "code",
   "execution_count": 16,
   "metadata": {},
   "outputs": [
    {
     "data": {
      "text/plain": [
       "256232"
      ]
     },
     "execution_count": 16,
     "metadata": {},
     "output_type": "execute_result"
    }
   ],
   "source": [
    "len(dat_batch['X_train'])"
   ]
  },
  {
   "cell_type": "code",
   "execution_count": 14,
   "metadata": {},
   "outputs": [
    {
     "ename": "KeyError",
     "evalue": "'labels'",
     "output_type": "error",
     "traceback": [
      "\u001b[0;31m---------------------------------------------------------------------------\u001b[0m",
      "\u001b[0;31mKeyError\u001b[0m                                  Traceback (most recent call last)",
      "\u001b[0;32m/var/folders/9r/pl8035cn4cjb59msrdwcrvhr0000gn/T/ipykernel_8433/573857071.py\u001b[0m in \u001b[0;36m<module>\u001b[0;34m\u001b[0m\n\u001b[0;32m----> 1\u001b[0;31m \u001b[0mlen\u001b[0m\u001b[0;34m(\u001b[0m\u001b[0mdat_batch\u001b[0m\u001b[0;34m[\u001b[0m\u001b[0;34m'labels'\u001b[0m\u001b[0;34m]\u001b[0m\u001b[0;34m)\u001b[0m\u001b[0;34m\u001b[0m\u001b[0;34m\u001b[0m\u001b[0m\n\u001b[0m",
      "\u001b[0;31mKeyError\u001b[0m: 'labels'"
     ]
    }
   ],
   "source": [
    "len(dat_batch['labels'])"
   ]
  },
  {
   "cell_type": "code",
   "execution_count": 5,
   "metadata": {},
   "outputs": [
    {
     "data": {
      "text/plain": [
       "array([[[[-0.42074284, -0.39620483, -0.31592277, ..., -0.3317078 ,\n",
       "          -0.33771577, -0.33118692],\n",
       "         [-0.3774318 , -0.39882377, -0.39234605, ..., -0.31791124,\n",
       "          -0.3677572 , -0.41314355],\n",
       "         [-0.39967147, -0.4163355 , -0.40497085, ..., -0.2836042 ,\n",
       "          -0.30671477, -0.35296118],\n",
       "         ...,\n",
       "         [ 0.08698887,  0.11102305,  0.080972  , ...,  0.14018975,\n",
       "           0.18207209,  0.09511359],\n",
       "         [ 0.0582254 ,  0.08126317,  0.04230279, ..., -0.04015752,\n",
       "           0.0301529 ,  0.12508848],\n",
       "         [ 0.09302691,  0.09918849,  0.01607752, ...,  0.07514559,\n",
       "           0.02095833, -0.02420355]],\n",
       "\n",
       "        [[-0.3824169 , -0.37321457, -0.3199217 , ..., -0.42597866,\n",
       "          -0.4246185 , -0.41054654],\n",
       "         [-0.35401133, -0.37508577, -0.37980354, ..., -0.33684847,\n",
       "          -0.37936866, -0.41324323],\n",
       "         [-0.37140912, -0.3758745 , -0.37165403, ..., -0.29354712,\n",
       "          -0.31732866, -0.35610023],\n",
       "         ...,\n",
       "         [ 0.01213311, -0.02943532, -0.05437452, ..., -0.26180062,\n",
       "          -0.24457529, -0.29345515],\n",
       "         [ 0.02620196, -0.00075307, -0.07795309, ..., -0.34437782,\n",
       "          -0.31421557, -0.27154565],\n",
       "         [ 0.06845265,  0.06373173, -0.03425327, ..., -0.29646015,\n",
       "          -0.32795635, -0.26044273]],\n",
       "\n",
       "        [[-0.4065136 , -0.3960307 , -0.3340051 , ..., -0.40500453,\n",
       "          -0.4045292 , -0.39562815],\n",
       "         [-0.36840922, -0.39180616, -0.39552963, ..., -0.29015565,\n",
       "          -0.33755204, -0.38473427],\n",
       "         [-0.3999537 , -0.41054818, -0.40133715, ..., -0.23333074,\n",
       "          -0.25814518, -0.30645886],\n",
       "         ...,\n",
       "         [-0.0012555 , -0.11937083, -0.13557188, ..., -0.09259671,\n",
       "          -0.0645708 , -0.13503218],\n",
       "         [ 0.05521762, -0.03667823, -0.14445347, ..., -0.20346332,\n",
       "          -0.15845443, -0.10989179],\n",
       "         [ 0.10396305,  0.09273842, -0.01622507, ..., -0.14172891,\n",
       "          -0.18581738, -0.14727025]]],\n",
       "\n",
       "\n",
       "       [[[-0.4638801 , -0.47071463, -0.48062864, ..., -0.257198  ,\n",
       "          -0.24359813, -0.12334377],\n",
       "         [-0.4676279 , -0.47725514, -0.47862056, ..., -0.34928378,\n",
       "          -0.35991406, -0.35432   ],\n",
       "         [-0.46633816, -0.4790806 , -0.47948065, ..., -0.3698787 ,\n",
       "          -0.28710693, -0.3764906 ],\n",
       "         ...,\n",
       "         [-0.22673665, -0.21054558, -0.22098881, ..., -0.29118282,\n",
       "          -0.30028087, -0.06567074],\n",
       "         [-0.22412758, -0.20501135, -0.22044234, ..., -0.08329477,\n",
       "          -0.26396474, -0.03569585],\n",
       "         [-0.22069861, -0.2027723 , -0.2192166 , ...,  0.06730245,\n",
       "           0.00527206, -0.09479178]],\n",
       "\n",
       "        [[-0.46476984, -0.47125378, -0.480706  , ..., -0.30441004,\n",
       "          -0.29520676, -0.18309553],\n",
       "         [-0.4677368 , -0.47704655, -0.47784275, ..., -0.37606415,\n",
       "          -0.3872118 , -0.37402755],\n",
       "         [-0.46944836, -0.4778353 , -0.47753638, ..., -0.40335104,\n",
       "          -0.37223062, -0.40708062],\n",
       "         ...,\n",
       "         [-0.28198454, -0.27649415, -0.2818255 , ..., -0.18336923,\n",
       "          -0.17790861, -0.07384729],\n",
       "         [-0.28360197, -0.2713413 , -0.2779531 , ..., -0.2463386 ,\n",
       "          -0.17696066, -0.07546721],\n",
       "         [-0.280567  , -0.26960164, -0.28523368, ..., -0.29253858,\n",
       "          -0.25736812, -0.19377606]],\n",
       "\n",
       "        [[-0.43396458, -0.43916795, -0.4477306 , ..., -0.38931826,\n",
       "          -0.3809998 , -0.3132752 ],\n",
       "         [-0.43899745, -0.44278654, -0.44258845, ..., -0.42741054,\n",
       "          -0.4277481 , -0.4200284 ],\n",
       "         [-0.4352478 , -0.44192073, -0.44055283, ..., -0.42940918,\n",
       "          -0.41108638, -0.4280275 ],\n",
       "         ...,\n",
       "         [-0.37380454, -0.3742728 , -0.36694443, ..., -0.30043986,\n",
       "          -0.28417864, -0.20562042],\n",
       "         [-0.37223336, -0.36609   , -0.3679829 , ..., -0.34071824,\n",
       "          -0.31531718, -0.23146042],\n",
       "         [-0.3666252 , -0.3660851 , -0.36916625, ..., -0.3809446 ,\n",
       "          -0.3583664 , -0.29628986]]],\n",
       "\n",
       "\n",
       "       [[[-0.35799775, -0.40796953, -0.4100404 , ...,  0.09574321,\n",
       "           0.40738225, -0.12726533],\n",
       "         [-0.37351024, -0.38705906, -0.41587546, ...,  0.02718683,\n",
       "           0.2596938 , -0.31118274],\n",
       "         [-0.38006362, -0.38496295, -0.41673556, ..., -0.0600748 ,\n",
       "          -0.09887163, -0.31766707],\n",
       "         ...,\n",
       "         [ 0.2438516 ,  0.5071015 , -0.10334174, ..., -0.3186338 ,\n",
       "          -0.32381028, -0.2970433 ],\n",
       "         [ 0.25038224,  0.42243963,  0.29720473, ..., -0.3303536 ,\n",
       "          -0.32278827, -0.31412724],\n",
       "         [ 0.26165435,  0.27958062,  0.1454893 , ..., -0.32093287,\n",
       "          -0.31629658, -0.3183212 ]],\n",
       "\n",
       "        [[-0.41378945, -0.4438028 , -0.44933346, ..., -0.02990024,\n",
       "           0.07342073, -0.18309553],\n",
       "         [-0.41675642, -0.42606616, -0.4464702 , ..., -0.09763279,\n",
       "           0.0520039 , -0.19755696],\n",
       "         [-0.4223895 , -0.4268549 , -0.44616383, ..., -0.1680569 ,\n",
       "          -0.15654434, -0.18747276],\n",
       "         ...,\n",
       "         [ 0.08664294,  0.19801567, -0.25045297, ..., -0.36768296,\n",
       "          -0.37790862, -0.36796495],\n",
       "         [ 0.1124765 ,  0.15218812,  0.18479203, ..., -0.37967193,\n",
       "          -0.37696066, -0.37350643],\n",
       "         [ 0.17041343,  0.19706506, -0.00288073, ..., -0.37489152,\n",
       "          -0.36717203, -0.38201135]],\n",
       "\n",
       "        [[-0.39867046, -0.41563854, -0.42027962, ..., -0.15402412,\n",
       "          -0.0555096 , -0.17602028],\n",
       "         [-0.39978176, -0.40357086, -0.41905904, ..., -0.19995956,\n",
       "          -0.05912066, -0.14551857],\n",
       "         [-0.3999537 , -0.40270504, -0.41310185, ..., -0.24509545,\n",
       "          -0.18363538, -0.12998828],\n",
       "         ...,\n",
       "         [ 0.02227391,  0.12376644, -0.25321895, ..., -0.33573398,\n",
       "          -0.33515903, -0.33111063],\n",
       "         [ 0.07090389,  0.12802768,  0.1614289 , ..., -0.34071824,\n",
       "          -0.33492503, -0.32557806],\n",
       "         [ 0.14317876,  0.17509139, -0.05544075, ..., -0.34172893,\n",
       "          -0.33091542, -0.3394271 ]]],\n",
       "\n",
       "\n",
       "       ...,\n",
       "\n",
       "\n",
       "       [[[-0.44883397, -0.45928442, -0.46111956, ..., -0.4610208 ,\n",
       "          -0.45894992, -0.4521154 ],\n",
       "         [-0.45235923, -0.46187484, -0.46300927, ..., -0.46685585,\n",
       "          -0.46156886, -0.4519416 ],\n",
       "         [-0.45492196, -0.45965594, -0.4600748 , ..., -0.46379438,\n",
       "          -0.45947275, -0.45457345],\n",
       "         ...,\n",
       "         [-0.39900407, -0.39832008, -0.39706516, ..., -0.4092241 ,\n",
       "          -0.41054562, -0.41497195],\n",
       "         [-0.39648017, -0.38553336, -0.37741244, ..., -0.39299136,\n",
       "          -0.3854035 , -0.38099033],\n",
       "         [-0.41243884, -0.40257108, -0.38367796, ..., -0.37607935,\n",
       "          -0.36355662, -0.32658094]],\n",
       "\n",
       "        [[-0.44976223, -0.45599106, -0.46127278, ..., -0.46109816,\n",
       "          -0.45948908, -0.45300514],\n",
       "         [-0.45245892, -0.45780006, -0.4623387 , ..., -0.46607804,\n",
       "          -0.46136028, -0.45205054],\n",
       "         [-0.45021787, -0.45458356, -0.458253  , ..., -0.4618501 ,\n",
       "          -0.45822746, -0.45376205],\n",
       "         ...,\n",
       "         [-0.38365123, -0.37790862, -0.3755261 , ..., -0.3837863 ,\n",
       "          -0.38629806, -0.39178845],\n",
       "         [-0.377428  , -0.36519596, -0.35614252, ..., -0.37207073,\n",
       "          -0.36938053, -0.3659549 ],\n",
       "         [-0.39377606, -0.38285834, -0.3631268 , ..., -0.3675866 ,\n",
       "          -0.348033  , -0.3040964 ]],\n",
       "\n",
       "        [[-0.41915756, -0.42805862, -0.42853394, ..., -0.42812276,\n",
       "          -0.42740324, -0.42219988],\n",
       "         [-0.4200284 , -0.42382655, -0.42741054, ..., -0.43082374,\n",
       "          -0.42710027, -0.4193896 ],\n",
       "         [-0.42018437, -0.41892952, -0.42156604, ..., -0.42486656,\n",
       "          -0.4223129 , -0.41956154],\n",
       "         ...,\n",
       "         [-0.33111063, -0.3273159 , -0.3200477 , ..., -0.33165032,\n",
       "          -0.3350571 , -0.34635353],\n",
       "         [-0.32949963, -0.30747405, -0.29758096, ..., -0.32092407,\n",
       "          -0.31903118, -0.32517454],\n",
       "         [-0.34727025, -0.334837  , -0.31035638, ..., -0.326029  ,\n",
       "          -0.3072616 , -0.24897812]]],\n",
       "\n",
       "\n",
       "       [[[-0.00961828, -0.13771577,  0.01339024, ..., -0.28455022,\n",
       "          -0.28640088, -0.36584088],\n",
       "         [ 0.06528787, -0.01089446,  0.07032409, ..., -0.37665978,\n",
       "          -0.3400002 , -0.36958867],\n",
       "         [-0.05884353, -0.02044027, -0.12281989, ..., -0.385363  ,\n",
       "          -0.34574726, -0.36829892],\n",
       "         ...,\n",
       "         [-0.19900407, -0.19439851, -0.19314359, ..., -0.11902802,\n",
       "          -0.17525147, -0.17967781],\n",
       "         [-0.19255859, -0.1933765 , -0.1930987 , ..., -0.09495213,\n",
       "          -0.1736388 , -0.20059815],\n",
       "         [-0.09087021, -0.04570833,  0.00063576, ..., -0.14862835,\n",
       "          -0.10865466, -0.17363977]],\n",
       "\n",
       "        [[ 0.02082602, -0.11089302,  0.03284489, ..., -0.24149033,\n",
       "          -0.21243024, -0.30006397],\n",
       "         [ 0.10048228,  0.02847449,  0.1062888 , ..., -0.31313688,\n",
       "          -0.25351712, -0.3030309 ],\n",
       "         [-0.01492375,  0.01600467, -0.07393927, ..., -0.3206736 ,\n",
       "          -0.26999214, -0.29297775],\n",
       "         ...,\n",
       "         [-0.17580807, -0.17006548, -0.17160453, ..., -0.07790393,\n",
       "          -0.06472944, -0.04276885],\n",
       "         [-0.16958484, -0.16911753, -0.16398565, ..., -0.09756093,\n",
       "          -0.10663542, -0.06007254],\n",
       "         [-0.06828586, -0.02207401,  0.03687318, ..., -0.13621405,\n",
       "          -0.09313104, -0.06095914]],\n",
       "\n",
       "        [[ 0.11025424, -0.02413705,  0.09695629, ..., -0.0947894 ,\n",
       "           0.03142028, -0.03788614],\n",
       "         [ 0.14859909,  0.10950682,  0.1451385 , ..., -0.06219628,\n",
       "           0.05917428, -0.03899745],\n",
       "         [ 0.0739333 ,  0.00852147, -0.15489936, ..., -0.05231753,\n",
       "           0.03651064, -0.01171839],\n",
       "         ...,\n",
       "         [-0.14287531, -0.1390806 , -0.13573396, ..., -0.1591013 ,\n",
       "          -0.23309632, -0.23262805],\n",
       "         [-0.1334212 , -0.13884658, -0.13287507, ..., -0.11700248,\n",
       "          -0.20530568, -0.23497845],\n",
       "         [-0.03354474,  0.01418263,  0.08964362, ..., -0.13779369,\n",
       "          -0.13079098, -0.20584087]]],\n",
       "\n",
       "\n",
       "       [[[-0.29197124, -0.3102648 , -0.3434725 , ..., -0.26886395,\n",
       "          -0.26679304, -0.27172324],\n",
       "         [-0.31118274, -0.32069838, -0.3335975 , ..., -0.26685587,\n",
       "          -0.2811767 , -0.24802005],\n",
       "         [-0.33335334, -0.33416575, -0.3463493 , ..., -0.29124537,\n",
       "          -0.25162962, -0.26633814],\n",
       "         ...,\n",
       "         [-0.19116093, -0.20616321, -0.21275143, ..., -0.3700084 ,\n",
       "          -0.37917304, -0.35614842],\n",
       "         [-0.16118604, -0.06396475, -0.05192223, ..., -0.4008345 ,\n",
       "          -0.39324665, -0.34177464],\n",
       "         [-0.31439963, -0.21825735, -0.1405407 , ..., -0.38784406,\n",
       "          -0.3674782 , -0.34226725]],\n",
       "\n",
       "        [[-0.36740926, -0.3775597 , -0.40637082, ..., -0.33952954,\n",
       "          -0.33007732, -0.33535808],\n",
       "         [-0.3818707 , -0.39113337, -0.39959356, ..., -0.33274472,\n",
       "          -0.35155633, -0.31087404],\n",
       "         [-0.39531592, -0.39576003, -0.41511574, ..., -0.35988933,\n",
       "          -0.31705096, -0.33219343],\n",
       "         ...,\n",
       "         [-0.36796495, -0.37790862, -0.3755261 , ..., -0.395551  ,\n",
       "          -0.3941412 , -0.38786688],\n",
       "         [-0.27154565, -0.16911753, -0.16398565, ..., -0.41128644,\n",
       "          -0.3968315 , -0.38164118],\n",
       "         [-0.3624035 , -0.32403478, -0.29253858, ..., -0.39895916,\n",
       "          -0.39117026, -0.3786062 ]],\n",
       "\n",
       "        [[-0.41915756, -0.4202155 , -0.42853394, ..., -0.42027962,\n",
       "          -0.41563854, -0.4182783 ],\n",
       "         [-0.4200284 , -0.42382655, -0.42348897, ..., -0.41513747,\n",
       "          -0.41925713, -0.41546804],\n",
       "         [-0.4162628 , -0.41892952, -0.42940918, ..., -0.420945  ,\n",
       "          -0.4066266 , -0.4117184 ],\n",
       "         ...,\n",
       "         [-0.38209102, -0.38221785, -0.38671437, ..., -0.37870914,\n",
       "          -0.37819436, -0.38164768],\n",
       "         [-0.2589114 , -0.15453286, -0.16032606, ..., -0.3797476 ,\n",
       "          -0.3778547 , -0.3800765 ],\n",
       "         [-0.32374084, -0.31522915, -0.29074854, ..., -0.38093096,\n",
       "          -0.37784982, -0.3783899 ]]]], dtype=float32)"
      ]
     },
     "execution_count": 5,
     "metadata": {},
     "output_type": "execute_result"
    }
   ],
   "source": [
    "dat_batch['X_train']"
   ]
  },
  {
   "cell_type": "code",
   "execution_count": 6,
   "metadata": {},
   "outputs": [],
   "source": [
    "d = load_databatch(data_folder = '/Users/dj/Desktop/MT_Desktop/ImageNet/Imagenet32_train', idx = 1, img_size=32)"
   ]
  },
  {
   "cell_type": "code",
   "execution_count": 7,
   "metadata": {},
   "outputs": [
    {
     "data": {
      "text/plain": [
       "dict"
      ]
     },
     "execution_count": 7,
     "metadata": {},
     "output_type": "execute_result"
    }
   ],
   "source": [
    "type(d)"
   ]
  },
  {
   "cell_type": "code",
   "execution_count": 9,
   "metadata": {},
   "outputs": [],
   "source": [
    "data_file = os.path.join('/Users/dj/Desktop/MT_Desktop/ImageNet/Imagenet32_train', 'train_data_batch_')\n",
    "\n",
    "img_size = 32\n",
    "\n",
    "d = unpickle(data_file + str(1))\n",
    "x = d['data']\n",
    "y = d['labels']\n",
    "mean_image = d['mean']\n",
    "\n",
    "x = x/np.float32(255)\n",
    "mean_image = mean_image/np.float32(255)\n",
    "\n",
    "# Labels are indexed from 1, shift it so that indexes start at 0\n",
    "y = [i-1 for i in y]\n",
    "data_size = x.shape[0]\n",
    "\n",
    "x -= mean_image\n",
    "\n",
    "img_size2 = img_size * img_size\n",
    "\n",
    "x = np.dstack((x[:, :img_size2], x[:, img_size2:2*img_size2], x[:, 2*img_size2:]))\n",
    "x = x.reshape((x.shape[0], img_size, img_size, 3)).transpose(0, 3, 1, 2)"
   ]
  },
  {
   "cell_type": "code",
   "execution_count": 10,
   "metadata": {},
   "outputs": [
    {
     "data": {
      "text/plain": [
       "(128116, 3, 32, 32)"
      ]
     },
     "execution_count": 10,
     "metadata": {},
     "output_type": "execute_result"
    }
   ],
   "source": [
    "x.shape"
   ]
  },
  {
   "cell_type": "code",
   "execution_count": 11,
   "metadata": {},
   "outputs": [
    {
     "data": {
      "text/plain": [
       "(3, 32, 32)"
      ]
     },
     "execution_count": 11,
     "metadata": {},
     "output_type": "execute_result"
    }
   ],
   "source": [
    "x[0].shape"
   ]
  },
  {
   "cell_type": "code",
   "execution_count": 18,
   "metadata": {},
   "outputs": [
    {
     "name": "stderr",
     "output_type": "stream",
     "text": [
      "Clipping input data to the valid range for imshow with RGB data ([0..1] for floats or [0..255] for integers).\n"
     ]
    },
    {
     "name": "stdout",
     "output_type": "stream",
     "text": [
      "152\n"
     ]
    },
    {
     "data": {
      "text/plain": [
       "<matplotlib.image.AxesImage at 0x7fb5686f8e50>"
      ]
     },
     "execution_count": 18,
     "metadata": {},
     "output_type": "execute_result"
    },
    {
     "data": {
      "image/png": "[encoded data removed]",
      "text/plain": [
       "<Figure size 432x288 with 1 Axes>"
      ]
     },
     "metadata": {
      "needs_background": "light"
     },
     "output_type": "display_data"
    }
   ],
   "source": [
    "s = 3\n",
    "image = torch.tensor(dat_batch['X_train'][s]) #34\n",
    "print(dat_batch['Y_train'][s])\n",
    "plt.imshow(image.permute(1, 2, 0))"
   ]
  },
  {
   "cell_type": "code",
   "execution_count": 13,
   "metadata": {},
   "outputs": [
    {
     "data": {
      "text/plain": [
       "numpy.ndarray"
      ]
     },
     "execution_count": 13,
     "metadata": {},
     "output_type": "execute_result"
    }
   ],
   "source": [
    "type(x)"
   ]
  },
  {
   "cell_type": "code",
   "execution_count": null,
   "metadata": {},
   "outputs": [],
   "source": []
  },
  {
   "cell_type": "markdown",
   "metadata": {},
   "source": [
    "# New Approach"
   ]
  },
  {
   "cell_type": "code",
   "execution_count": 1,
   "metadata": {},
   "outputs": [],
   "source": [
    "import torchvision\n",
    "from torchvision import datasets, models, transforms"
   ]
  },
  {
   "cell_type": "code",
   "execution_count": 2,
   "metadata": {},
   "outputs": [
    {
     "ename": "RuntimeError",
     "evalue": "The archive ILSVRC2012_devkit_t12.tar.gz is not present in the root directory or is corrupted. You need to download it externally and place it in /Users/dj/Desktop/MT_Desktop/ImageNet/.",
     "output_type": "error",
     "traceback": [
      "\u001b[0;31m---------------------------------------------------------------------------\u001b[0m",
      "\u001b[0;31mRuntimeError\u001b[0m                              Traceback (most recent call last)",
      "\u001b[0;32m/var/folders/9r/pl8035cn4cjb59msrdwcrvhr0000gn/T/ipykernel_10698/1189588033.py\u001b[0m in \u001b[0;36m<module>\u001b[0;34m\u001b[0m\n\u001b[0;32m----> 1\u001b[0;31m \u001b[0mimagenet_data\u001b[0m \u001b[0;34m=\u001b[0m \u001b[0mtorchvision\u001b[0m\u001b[0;34m.\u001b[0m\u001b[0mdatasets\u001b[0m\u001b[0;34m.\u001b[0m\u001b[0mImageNet\u001b[0m\u001b[0;34m(\u001b[0m\u001b[0;34m'/Users/dj/Desktop/MT_Desktop/ImageNet/'\u001b[0m\u001b[0;34m)\u001b[0m\u001b[0;34m\u001b[0m\u001b[0;34m\u001b[0m\u001b[0m\n\u001b[0m",
      "\u001b[0;32m/opt/anaconda3/envs/MasterThesis/lib/python3.7/site-packages/torchvision/datasets/imagenet.py\u001b[0m in \u001b[0;36m__init__\u001b[0;34m(self, root, split, **kwargs)\u001b[0m\n\u001b[1;32m     44\u001b[0m         \u001b[0mself\u001b[0m\u001b[0;34m.\u001b[0m\u001b[0msplit\u001b[0m \u001b[0;34m=\u001b[0m \u001b[0mverify_str_arg\u001b[0m\u001b[0;34m(\u001b[0m\u001b[0msplit\u001b[0m\u001b[0;34m,\u001b[0m \u001b[0;34m\"split\"\u001b[0m\u001b[0;34m,\u001b[0m \u001b[0;34m(\u001b[0m\u001b[0;34m\"train\"\u001b[0m\u001b[0;34m,\u001b[0m \u001b[0;34m\"val\"\u001b[0m\u001b[0;34m)\u001b[0m\u001b[0;34m)\u001b[0m\u001b[0;34m\u001b[0m\u001b[0;34m\u001b[0m\u001b[0m\n\u001b[1;32m     45\u001b[0m \u001b[0;34m\u001b[0m\u001b[0m\n\u001b[0;32m---> 46\u001b[0;31m         \u001b[0mself\u001b[0m\u001b[0;34m.\u001b[0m\u001b[0mparse_archives\u001b[0m\u001b[0;34m(\u001b[0m\u001b[0;34m)\u001b[0m\u001b[0;34m\u001b[0m\u001b[0;34m\u001b[0m\u001b[0m\n\u001b[0m\u001b[1;32m     47\u001b[0m         \u001b[0mwnid_to_classes\u001b[0m \u001b[0;34m=\u001b[0m \u001b[0mload_meta_file\u001b[0m\u001b[0;34m(\u001b[0m\u001b[0mself\u001b[0m\u001b[0;34m.\u001b[0m\u001b[0mroot\u001b[0m\u001b[0;34m)\u001b[0m\u001b[0;34m[\u001b[0m\u001b[0;36m0\u001b[0m\u001b[0;34m]\u001b[0m\u001b[0;34m\u001b[0m\u001b[0;34m\u001b[0m\u001b[0m\n\u001b[1;32m     48\u001b[0m \u001b[0;34m\u001b[0m\u001b[0m\n",
      "\u001b[0;32m/opt/anaconda3/envs/MasterThesis/lib/python3.7/site-packages/torchvision/datasets/imagenet.py\u001b[0m in \u001b[0;36mparse_archives\u001b[0;34m(self)\u001b[0m\n\u001b[1;32m     57\u001b[0m     \u001b[0;32mdef\u001b[0m \u001b[0mparse_archives\u001b[0m\u001b[0;34m(\u001b[0m\u001b[0mself\u001b[0m\u001b[0;34m)\u001b[0m \u001b[0;34m->\u001b[0m \u001b[0;32mNone\u001b[0m\u001b[0;34m:\u001b[0m\u001b[0;34m\u001b[0m\u001b[0;34m\u001b[0m\u001b[0m\n\u001b[1;32m     58\u001b[0m         \u001b[0;32mif\u001b[0m \u001b[0;32mnot\u001b[0m \u001b[0mcheck_integrity\u001b[0m\u001b[0;34m(\u001b[0m\u001b[0mos\u001b[0m\u001b[0;34m.\u001b[0m\u001b[0mpath\u001b[0m\u001b[0;34m.\u001b[0m\u001b[0mjoin\u001b[0m\u001b[0;34m(\u001b[0m\u001b[0mself\u001b[0m\u001b[0;34m.\u001b[0m\u001b[0mroot\u001b[0m\u001b[0;34m,\u001b[0m \u001b[0mMETA_FILE\u001b[0m\u001b[0;34m)\u001b[0m\u001b[0;34m)\u001b[0m\u001b[0;34m:\u001b[0m\u001b[0;34m\u001b[0m\u001b[0;34m\u001b[0m\u001b[0m\n\u001b[0;32m---> 59\u001b[0;31m             \u001b[0mparse_devkit_archive\u001b[0m\u001b[0;34m(\u001b[0m\u001b[0mself\u001b[0m\u001b[0;34m.\u001b[0m\u001b[0mroot\u001b[0m\u001b[0;34m)\u001b[0m\u001b[0;34m\u001b[0m\u001b[0;34m\u001b[0m\u001b[0m\n\u001b[0m\u001b[1;32m     60\u001b[0m \u001b[0;34m\u001b[0m\u001b[0m\n\u001b[1;32m     61\u001b[0m         \u001b[0;32mif\u001b[0m \u001b[0;32mnot\u001b[0m \u001b[0mos\u001b[0m\u001b[0;34m.\u001b[0m\u001b[0mpath\u001b[0m\u001b[0;34m.\u001b[0m\u001b[0misdir\u001b[0m\u001b[0;34m(\u001b[0m\u001b[0mself\u001b[0m\u001b[0;34m.\u001b[0m\u001b[0msplit_folder\u001b[0m\u001b[0;34m)\u001b[0m\u001b[0;34m:\u001b[0m\u001b[0;34m\u001b[0m\u001b[0;34m\u001b[0m\u001b[0m\n",
      "\u001b[0;32m/opt/anaconda3/envs/MasterThesis/lib/python3.7/site-packages/torchvision/datasets/imagenet.py\u001b[0m in \u001b[0;36mparse_devkit_archive\u001b[0;34m(root, file)\u001b[0m\n\u001b[1;32m    138\u001b[0m     \u001b[0mmd5\u001b[0m \u001b[0;34m=\u001b[0m \u001b[0marchive_meta\u001b[0m\u001b[0;34m[\u001b[0m\u001b[0;36m1\u001b[0m\u001b[0;34m]\u001b[0m\u001b[0;34m\u001b[0m\u001b[0;34m\u001b[0m\u001b[0m\n\u001b[1;32m    139\u001b[0m \u001b[0;34m\u001b[0m\u001b[0m\n\u001b[0;32m--> 140\u001b[0;31m     \u001b[0m_verify_archive\u001b[0m\u001b[0;34m(\u001b[0m\u001b[0mroot\u001b[0m\u001b[0;34m,\u001b[0m \u001b[0mfile\u001b[0m\u001b[0;34m,\u001b[0m \u001b[0mmd5\u001b[0m\u001b[0;34m)\u001b[0m\u001b[0;34m\u001b[0m\u001b[0;34m\u001b[0m\u001b[0m\n\u001b[0m\u001b[1;32m    141\u001b[0m \u001b[0;34m\u001b[0m\u001b[0m\n\u001b[1;32m    142\u001b[0m     \u001b[0;32mwith\u001b[0m \u001b[0mget_tmp_dir\u001b[0m\u001b[0;34m(\u001b[0m\u001b[0;34m)\u001b[0m \u001b[0;32mas\u001b[0m \u001b[0mtmp_dir\u001b[0m\u001b[0;34m:\u001b[0m\u001b[0;34m\u001b[0m\u001b[0;34m\u001b[0m\u001b[0m\n",
      "\u001b[0;32m/opt/anaconda3/envs/MasterThesis/lib/python3.7/site-packages/torchvision/datasets/imagenet.py\u001b[0m in \u001b[0;36m_verify_archive\u001b[0;34m(root, file, md5)\u001b[0m\n\u001b[1;32m     94\u001b[0m             \u001b[0;34m\"You need to download it externally and place it in {}.\"\u001b[0m\u001b[0;34m\u001b[0m\u001b[0;34m\u001b[0m\u001b[0m\n\u001b[1;32m     95\u001b[0m         )\n\u001b[0;32m---> 96\u001b[0;31m         \u001b[0;32mraise\u001b[0m \u001b[0mRuntimeError\u001b[0m\u001b[0;34m(\u001b[0m\u001b[0mmsg\u001b[0m\u001b[0;34m.\u001b[0m\u001b[0mformat\u001b[0m\u001b[0;34m(\u001b[0m\u001b[0mfile\u001b[0m\u001b[0;34m,\u001b[0m \u001b[0mroot\u001b[0m\u001b[0;34m)\u001b[0m\u001b[0;34m)\u001b[0m\u001b[0;34m\u001b[0m\u001b[0;34m\u001b[0m\u001b[0m\n\u001b[0m\u001b[1;32m     97\u001b[0m \u001b[0;34m\u001b[0m\u001b[0m\n\u001b[1;32m     98\u001b[0m \u001b[0;34m\u001b[0m\u001b[0m\n",
      "\u001b[0;31mRuntimeError\u001b[0m: The archive ILSVRC2012_devkit_t12.tar.gz is not present in the root directory or is corrupted. You need to download it externally and place it in /Users/dj/Desktop/MT_Desktop/ImageNet/."
     ]
    }
   ],
   "source": [
    "imagenet_data = torchvision.datasets.ImageNet('/Users/dj/Desktop/MT_Desktop/ImageNet/')"
   ]
  },
  {
   "cell_type": "code",
   "execution_count": null,
   "metadata": {},
   "outputs": [],
   "source": [
    "\n",
    "\n"
   ]
  },
  {
   "cell_type": "code",
   "execution_count": null,
   "metadata": {},
   "outputs": [],
   "source": []
  },
  {
   "cell_type": "code",
   "execution_count": null,
   "metadata": {},
   "outputs": [],
   "source": []
  },
  {
   "cell_type": "code",
   "execution_count": null,
   "metadata": {},
   "outputs": [],
   "source": []
  }
 ],
 "metadata": {
  "interpreter": {
   "hash": "06b0d7cc3ff6be5802ae025fed16569565f330a28b5df50b09d05391387a3b66"
  },
  "kernelspec": {
   "display_name": "Python 3.7.13 ('MasterThesis')",
   "language": "python",
   "name": "python3"
  },
  "language_info": {
   "codemirror_mode": {
    "name": "ipython",
    "version": 3
   },
   "file_extension": ".py",
   "mimetype": "text/x-python",
   "name": "python",
   "nbconvert_exporter": "python",
   "pygments_lexer": "ipython3",
   "version": "3.7.13"
  },
  "orig_nbformat": 4
 },
 "nbformat": 4,
 "nbformat_minor": 2
}
