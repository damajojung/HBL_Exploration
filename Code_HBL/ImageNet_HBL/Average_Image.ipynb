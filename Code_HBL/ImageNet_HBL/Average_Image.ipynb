{
 "cells": [
  {
   "cell_type": "markdown",
   "metadata": {},
   "source": [
    "# Playground ImageNet"
   ]
  },
  {
   "cell_type": "code",
   "execution_count": 1,
   "metadata": {},
   "outputs": [],
   "source": [
    "import argparse\n",
    "import numpy as np\n",
    "from PIL import Image\n",
    "import pickle\n",
    "from utils import *\n",
    "import os\n",
    "import matplotlib as mpl\n",
    "mpl.use('Agg')\n",
    "from PIL import Image\n",
    "\n",
    "import matplotlib.pyplot as plt\n",
    "from matplotlib.pyplot import figure\n",
    "%matplotlib inline\n",
    "\n",
    "import numpy as np\n",
    "import argparse\n",
    "import math\n",
    "import os\n",
    "import torch\n",
    "import torch.optim as optim\n",
    "import torch.utils.data as data\n",
    "import torch.nn as nn\n",
    "import torch.nn.functional as F\n",
    "import torchvision\n",
    "from torchvision import datasets, transforms\n",
    "import torch.optim as optim\n",
    "from tqdm import tqdm"
   ]
  },
  {
   "cell_type": "code",
   "execution_count": 2,
   "metadata": {},
   "outputs": [],
   "source": [
    "\n",
    "# def unpickle(file):\n",
    "#     with open(file, 'rb') as fo:\n",
    "#         dict = pickle.load(fo)\n",
    "#     return dict\n",
    "\n",
    "# def load_databatch(data_folder, idx, img_size=32):\n",
    "#     data_file = os.path.join(data_folder, 'train_data_batch_')\n",
    "\n",
    "#     d = unpickle(data_file + str(idx))\n",
    "#     x = d['data']\n",
    "#     y = d['labels']\n",
    "#     mean_image = d['mean']\n",
    "\n",
    "#     x = x/np.float32(255)\n",
    "#     mean_image = mean_image/np.float32(255)\n",
    "\n",
    "#     # Labels are indexed from 1, shift it so that indexes start at 0\n",
    "#     y = [i-1 for i in y]\n",
    "#     data_size = x.shape[0]\n",
    "\n",
    "#     x -= mean_image\n",
    "\n",
    "#     img_size2 = img_size * img_size\n",
    "#     print(img_size2)\n",
    "\n",
    "#     x = np.dstack((x[:, :img_size2], x[:, img_size2:2*img_size2], x[:, 2*img_size2:]))\n",
    "#     x = x.reshape((x.shape[0], img_size, img_size, 3)).transpose(0, 3, 1, 2)\n",
    "\n",
    "#     # create mirrored images\n",
    "#     X_train = x[0:data_size, :, :, :]\n",
    "#     Y_train = y[0:data_size]\n",
    "#     X_train_flip = X_train[:, :, :, ::-1]\n",
    "#     Y_train_flip = Y_train\n",
    "#     X_train = np.concatenate((X_train, X_train_flip), axis=0)\n",
    "#     Y_train = np.concatenate((Y_train, Y_train_flip), axis=0)\n",
    "\n",
    "#     return dict(\n",
    "#         X_train=(X_train), # lasagne.utils.floatX(X_train),\n",
    "#         Y_train=Y_train.astype('int32'),\n",
    "#         mean=mean_image)\n",
    "\n",
    "# def load_data(input_file):\n",
    "\n",
    "#     d = unpickle(input_file)\n",
    "#     x = d['data']\n",
    "#     y = d['labels']\n",
    "    \n",
    "#     mean_image = d['mean']\n",
    "\n",
    "#     print(x.shape, 'x')\n",
    "#     print(len(y), 'y')\n",
    "#     print(mean_image.shape, 'mean')\n",
    "\n",
    "#     x = x/np.float32(255)\n",
    "#     mean_image = mean_image/np.float32(255)\n",
    "\n",
    "#     # Labels are indexed from 1, shift it so that indexes start at 0\n",
    "#     y = [i-1 for i in y]\n",
    "\n",
    "#     x -= mean_image\n",
    "\n",
    "#     x = np.dstack((x[:, :1024], x[:, 1024:2048], x[:, 2048:]))\n",
    "#     x = x.reshape((x.shape[0], 32, 32, 3))\n",
    "\n",
    "#     return x, y\n",
    "\n",
    "# def load_data_test(input_file):\n",
    "\n",
    "#     d = unpickle(input_file)\n",
    "#     x = d['data']\n",
    "#     y = d['labels']\n",
    "\n",
    "#     # mean_image = []\n",
    "#     # for i in x:\n",
    "#     #     mean_image.append(np.mean(i))\n",
    "#     # mean_image = np.array(mean_image)\n",
    "\n",
    "#     # print(x.shape, 'x')\n",
    "#     # print(len(y), 'y')\n",
    "#     # print(mean_image.shape, 'mean')\n",
    "    \n",
    "#     x = x/np.float32(255)\n",
    "#     # mean_image = mean_image/np.float32(255)\n",
    "\n",
    "#     # Labels are indexed from 1, shift it so that indexes start at 0\n",
    "#     y = [i-1 for i in y]\n",
    "\n",
    "#     # x -= mean_image\n",
    "\n",
    "#     x = np.dstack((x[:, :1024], x[:, 1024:2048], x[:, 2048:]))\n",
    "#     x = x.reshape((x.shape[0], 32, 32, 3))\n",
    "\n",
    "#     return x, y\n",
    "\n",
    "# def create_tuples(x,y):\n",
    "\n",
    "#     samps = []\n",
    "\n",
    "#     for i in tqdm(np.arange(0,len(x),1)):\n",
    "#         t = torch.Tensor(x[i]).view(3,32,32)\n",
    "#         tup = (t, int(y[i]))\n",
    "#         samps.append(tup)\n",
    "#     return samps\n",
    "\n"
   ]
  },
  {
   "cell_type": "code",
   "execution_count": 3,
   "metadata": {},
   "outputs": [],
   "source": [
    "# ### THIS IS HOW IT HAS BEEN - 19.05.2022 - NOW WORKING ON IMAGENET64\n",
    "\n",
    "# def unpickle(file):\n",
    "#     with open(file, 'rb') as fo:\n",
    "#         dict = pickle.load(fo)\n",
    "#     return dict\n",
    "\n",
    "# def create_tuples(x,y):\n",
    "#     samps = []\n",
    "\n",
    "#     for i in np.arange(0,len(x),1):\n",
    "#         t = torch.Tensor(x[i]).view(3,32,32)\n",
    "#         tup = (t, int(y[i]))\n",
    "#         samps.append(tup)\n",
    "#     return samps\n",
    "    \n",
    "\n",
    "\n",
    "# def load_data_train(input_file):\n",
    "\n",
    "#     d = unpickle(input_file)\n",
    "#     x = d['data']\n",
    "#     y = d['labels']\n",
    "#     mean_image = d['mean']\n",
    "\n",
    "#     x = np.divide(x,np.float32(255))\n",
    "#     mean_image = mean_image/np.float32(255)\n",
    "\n",
    "#     # Labels are indexed from 1, shift it so that indexes start at 0\n",
    "#     y = [i-1 for i in y]\n",
    "\n",
    "#     x -= mean_image\n",
    "\n",
    "#     x = np.dstack((x[:, :1024], x[:, 1024:2048], x[:, 2048:]))\n",
    "#     x = x.reshape((x.shape[0], 32, 32, 3))\n",
    "\n",
    "#     return x, y\n",
    "\n",
    "# def load_data_test(input_file):\n",
    "\n",
    "#     d = unpickle(input_file)\n",
    "#     x = d['data']\n",
    "#     y = d['labels']\n",
    "\n",
    "#     x = np.divide(x,np.float32(255))\n",
    "\n",
    "#     # Labels are indexed from 1, shift it so that indexes start at 0\n",
    "#     y = [i-1 for i in y]\n",
    "\n",
    "#     x = np.dstack((x[:, :1024], x[:, 1024:2048], x[:, 2048:]))\n",
    "#     x = x.reshape((x.shape[0], 32, 32, 3))\n",
    "\n",
    "#     return x, y\n",
    "\n",
    "# def get_train_dat(p):\n",
    "\n",
    "#     path = p\n",
    "#     counter = 0\n",
    "\n",
    "#     for i in os.listdir(path):\n",
    "#         counter += 1\n",
    "#         total_path = path + i\n",
    "\n",
    "#         x,y = load_data_train(total_path)\n",
    "\n",
    "#         if counter == 1:\n",
    "#             x_train, y_train = x, y\n",
    "#         else:\n",
    "#             x_train = np.append(x_train, x, axis = 0)\n",
    "#             y_train = y_train + y\n",
    "#     return x_train, y_train\n",
    "\n",
    "# def get_test_dat(p):\n",
    "\n",
    "#     transform=transforms.Compose([\n",
    "#         transforms.ToTensor(),\n",
    "#         transforms.Normalize(\n",
    "#             mean = [0.4656, 0.4361, 0.4225],\n",
    "#             std = [0.2732, 0.2491, 0.2550])\n",
    "#         ]\n",
    "#     )\n",
    "    \n",
    "#     x_test, y_test = load_data_test(p)\n",
    "#     x_test = np.array([transform(i) for i in x_test])\n",
    "#     return x_test, y_test\n",
    "\n",
    "# def create_imnet_train_test(path_train, path_test):\n",
    "#     x_train, y_train = get_train_dat(path_train)\n",
    "#     dat_train = create_tuples(x_train, y_train)\n",
    "#     trainset = torch.utils.data.DataLoader(dat_train, batch_size = batch_size, shuffle = False)\n",
    "\n",
    "#     x_test,y_test = get_test_dat(path_test)\n",
    "#     dat_test = create_tuples(x_test, y_test)\n",
    "#     testset = torch.utils.data.DataLoader(dat_test, batch_size = batch_size, shuffle = False)\n",
    "\n",
    "#     return trainset, testset"
   ]
  },
  {
   "cell_type": "code",
   "execution_count": 1,
   "metadata": {},
   "outputs": [],
   "source": [
    "import argparse\n",
    "import numpy as np\n",
    "from PIL import Image\n",
    "import pickle\n",
    "from utils import *\n",
    "import os\n",
    "import matplotlib as mpl\n",
    "mpl.use('Agg')\n",
    "from PIL import Image\n",
    "\n",
    "import matplotlib.pyplot as plt\n",
    "from matplotlib.pyplot import figure\n",
    "%matplotlib inline\n",
    "\n",
    "import numpy as np\n",
    "import argparse\n",
    "import math\n",
    "import os\n",
    "import torch\n",
    "import torch.optim as optim\n",
    "import torch.utils.data as data\n",
    "import torch.nn as nn\n",
    "import torch.nn.functional as F\n",
    "import torchvision\n",
    "from torchvision import datasets, transforms\n",
    "import torch.optim as optim\n",
    "from tqdm import tqdm"
   ]
  },
  {
   "cell_type": "code",
   "execution_count": 2,
   "metadata": {},
   "outputs": [],
   "source": [
    "###  NOW  IMAGENET64\n",
    "\n",
    "def unpickle(file):\n",
    "    with open(file, 'rb') as fo:\n",
    "        dict = pickle.load(fo)\n",
    "    return dict\n",
    "\n",
    "def create_tuples(x,y, im_size):\n",
    "    samps = []\n",
    "\n",
    "    for i in np.arange(0,len(x),1):\n",
    "        t = torch.Tensor(x[i]).view(3,im_size,im_size)\n",
    "        tup = (t, int(y[i]))\n",
    "        samps.append(tup)\n",
    "    return samps\n",
    "\n",
    "def create_tuples_test(x,y, im_size):\n",
    "    samps = []\n",
    "\n",
    "    for i in np.arange(0,len(x),1):\n",
    "        t = torch.Tensor(x[i]).view(3,224,224)\n",
    "        tup = (t, int(y[i]))\n",
    "        samps.append(tup)\n",
    "    return samps\n",
    "\n",
    "\n",
    "def load_data_train(input_file, im_size):\n",
    "\n",
    "    d = unpickle(input_file)\n",
    "    x = d['data']\n",
    "    y = d['labels']\n",
    "    mean_image = d['mean']\n",
    "    print('load_data_train', (x).shape)\n",
    "\n",
    "    x = np.divide(x,np.float32(255))\n",
    "    mean_image = mean_image/np.float32(255)\n",
    "\n",
    "    # Labels are indexed from 1, shift it so that indexes start at 0\n",
    "    y = [i-1 for i in y]\n",
    "\n",
    "    x -= mean_image\n",
    "\n",
    "    img_size = im_size\n",
    "    img_size2 = img_size * img_size\n",
    "  \n",
    "    x = np.dstack((x[:, :img_size2], x[:, img_size2:2*img_size2], x[:, 2*img_size2:])) # x has shape (128116, 1024, 3)\n",
    "    # test = Image.fromarray(np.uint8((test)*255))\n",
    "    x = x.reshape((x.shape[0], img_size, img_size, 3)) #.transpose(0, 3, 1, 2) # np.ndarray with shape (128116, 3, 32, 32) or (128116, 32, 32, 3)\n",
    "\n",
    "    return x, y\n",
    "\n",
    "def load_data_test(input_file, im_size):\n",
    "\n",
    "    d = unpickle(input_file)\n",
    "    x = d['data']\n",
    "    y = d['labels']\n",
    "    print('load_data_test', (x).shape)\n",
    "\n",
    "    x = np.divide(x,np.float32(255))\n",
    "\n",
    "    # Labels are indexed from 1, shift it so that indexes start at 0\n",
    "    y = [i-1 for i in y]\n",
    "\n",
    "    img_size = im_size\n",
    "    img_size2 = img_size * img_size\n",
    "\n",
    "    x = np.dstack((x[:, :img_size2], x[:, img_size2:2*img_size2], x[:, 2*img_size2:]))\n",
    "    x = x.reshape((x.shape[0], img_size, img_size, 3)) #.transpose(0, 3, 1, 2)  # shape (50000, 32, 32, 3)\n",
    "\n",
    "    return x, y\n",
    "\n",
    "def get_train_dat(p, im_size):\n",
    "\n",
    "    path = p\n",
    "    counter = 0\n",
    "\n",
    "    transform =transforms.Compose([\n",
    "            transforms.Resize([224, 224])\n",
    "            ]            \n",
    "        )\n",
    "\n",
    "    for i in os.listdir(path):\n",
    "        counter += 1\n",
    "        print(counter)\n",
    "        total_path = path + i\n",
    "\n",
    "        x,y = load_data_train(total_path, im_size)\n",
    "\n",
    "        if counter == 1:\n",
    "            x_train, y_train = x, y\n",
    "        else:\n",
    "            x_train = np.append(x_train, x, axis = 0)\n",
    "            y_train = y_train + y\n",
    "    \n",
    "    # x_train = x_train[:100]\n",
    "    # x_train = np.array([transform(Image.fromarray(np.uint8((i)*255))) for i in x_train])\n",
    "    print('type x_train:', type(x_train))\n",
    "    print('x_train shape:', x_train.shape)\n",
    "        \n",
    "    return x_train, y_train # x_train np.array with shape 128116, 3, 32, 32)\n",
    "\n",
    "def get_test_dat(p, im_size):\n",
    "    if im_size == 32:\n",
    "        transform=transforms.Compose([\n",
    "            transforms.ToTensor(),\n",
    "            transforms.Resize([224, 224]),\n",
    "            transforms.Normalize(\n",
    "                mean = [0.485, 0.456, 0.406],\n",
    "                std = [0.229, 0.224, 0.225]) \n",
    "            ]\n",
    "        )\n",
    "\n",
    "    if im_size == 64:\n",
    "        transform=transforms.Compose([\n",
    "            transforms.ToTensor(),\n",
    "            transforms.Normalize(\n",
    "                mean = [0.485, 0.456, 0.406],\n",
    "                std = [0.229, 0.224, 0.225]) \n",
    "            ]\n",
    "        )\n",
    "    \n",
    "    x_test, y_test = load_data_test(p, im_size) # x_test is np.ndarry with shape (50000, 32, 32, 3)\n",
    "    print('x_test type', type(x_test))\n",
    "    print('x_test shape:', x_test.shape)\n",
    "    x_test = np.array([transform(i) for i in x_test])\n",
    "    return x_test, y_test\n",
    "\n",
    "def create_imnet_train_test(path_train, path_test, batch_size, im_size):\n",
    "    x_train, y_train = get_train_dat(path_train, im_size)\n",
    "    dat_train = create_tuples(x_train, y_train, im_size)\n",
    "    trainset = torch.utils.data.DataLoader(dat_train, batch_size = batch_size, shuffle = False)\n",
    "\n",
    "    x_test,y_test = get_test_dat(path_test, im_size)\n",
    "    dat_test = create_tuples_test(x_test, y_test, im_size)\n",
    "    testset = torch.utils.data.DataLoader(dat_test, batch_size = batch_size, shuffle = False)\n",
    "\n",
    "    return trainset, testset"
   ]
  },
  {
   "cell_type": "markdown",
   "metadata": {},
   "source": [
    "# 32 "
   ]
  },
  {
   "cell_type": "code",
   "execution_count": 3,
   "metadata": {},
   "outputs": [
    {
     "name": "stdout",
     "output_type": "stream",
     "text": [
      "1\n",
      "load_data_train (128116, 3072)\n",
      "type x_train: <class 'numpy.ndarray'>\n",
      "x_train shape: (128116, 32, 32, 3)\n",
      "load_data_test (50000, 3072)\n",
      "x_test type <class 'numpy.ndarray'>\n",
      "x_test shape: (50000, 32, 32, 3)\n"
     ]
    },
    {
     "name": "stderr",
     "output_type": "stream",
     "text": [
      "/opt/anaconda3/envs/MasterThesis/lib/python3.7/site-packages/ipykernel_launcher.py:125: FutureWarning: The input object of type 'Tensor' is an array-like implementing one of the corresponding protocols (`__array__`, `__array_interface__` or `__array_struct__`); but not a sequence (or 0-D). In the future, this object will be coerced as if it was first converted using `np.array(obj)`. To retain the old behaviour, you have to either modify the type 'Tensor', or assign to an empty array created with `np.empty(correct_shape, dtype=object)`.\n",
      "/opt/anaconda3/envs/MasterThesis/lib/python3.7/site-packages/ipykernel_launcher.py:125: VisibleDeprecationWarning: Creating an ndarray from ragged nested sequences (which is a list-or-tuple of lists-or-tuples-or ndarrays with different lengths or shapes) is deprecated. If you meant to do this, you must specify 'dtype=object' when creating the ndarray.\n"
     ]
    }
   ],
   "source": [
    "path_train = '/Users/dj/Desktop/MT_Desktop/ImageNet/Imagenet32_train/playground/'\n",
    "path_test = '/Users/dj/Desktop/MT_Desktop/ImageNet/val_data'\n",
    "\n",
    "trainset, testset = create_imnet_train_test(path_train= path_train,\n",
    "                                             path_test=path_test,\n",
    "                                                 batch_size = 128,\n",
    "                                                  im_size = 32) # im_size_rescaled = 224"
   ]
  },
  {
   "cell_type": "code",
   "execution_count": 4,
   "metadata": {},
   "outputs": [
    {
     "data": {
      "text/plain": [
       "torch.utils.data.dataloader.DataLoader"
      ]
     },
     "execution_count": 4,
     "metadata": {},
     "output_type": "execute_result"
    }
   ],
   "source": [
    "type(trainset)"
   ]
  },
  {
   "cell_type": "code",
   "execution_count": null,
   "metadata": {},
   "outputs": [],
   "source": []
  },
  {
   "cell_type": "code",
   "execution_count": 13,
   "metadata": {},
   "outputs": [
    {
     "name": "stderr",
     "output_type": "stream",
     "text": [
      "Clipping input data to the valid range for imshow with RGB data ([0..1] for floats or [0..255] for integers).\n"
     ]
    },
    {
     "name": "stdout",
     "output_type": "stream",
     "text": [
      "<class 'torch.Tensor'>\n",
      "tensor(-0.0337)\n",
      "torch.Size([3, 32, 32])\n",
      "101\n"
     ]
    },
    {
     "data": {
      "image/png": "[encoded data removed]",
      "text/plain": [
       "<Figure size 432x288 with 1 Axes>"
      ]
     },
     "metadata": {
      "needs_background": "light"
     },
     "output_type": "display_data"
    }
   ],
   "source": [
    "for idx, data in enumerate(trainset.dataset):\n",
    "    x,y = data\n",
    "    if idx == 200:\n",
    "        print(type(x))\n",
    "        print(torch.mean(x))\n",
    "        print(x.shape)\n",
    "        print(y)\n",
    "        plt.imshow(x.permute(1, 2, 0))\n",
    "        break"
   ]
  },
  {
   "cell_type": "code",
   "execution_count": 12,
   "metadata": {},
   "outputs": [
    {
     "name": "stderr",
     "output_type": "stream",
     "text": [
      "Clipping input data to the valid range for imshow with RGB data ([0..1] for floats or [0..255] for integers).\n"
     ]
    },
    {
     "name": "stdout",
     "output_type": "stream",
     "text": [
      "tensor(-0.0844)\n",
      "torch.Size([3, 224, 224])\n",
      "992\n",
      "<class 'tuple'>\n"
     ]
    },
    {
     "data": {
      "image/png": "[encoded data removed]",
      "text/plain": [
       "<Figure size 432x288 with 1 Axes>"
      ]
     },
     "metadata": {
      "needs_background": "light"
     },
     "output_type": "display_data"
    }
   ],
   "source": [
    "transform_train =transforms.Compose([\n",
    "            transforms.Resize([224, 224])\n",
    "            ]            \n",
    "        )\n",
    "\n",
    "for idx, data in enumerate(trainset.dataset):\n",
    "    x,y = data\n",
    "    if idx == 0:\n",
    "        x = transform_train(x)\n",
    "        print(torch.mean(x))\n",
    "        print(x.shape)\n",
    "        print(y)\n",
    "        plt.imshow(x.permute(1, 2, 0))\n",
    "        print(type(trainset.dataset[idx]))"
   ]
  },
  {
   "cell_type": "code",
   "execution_count": 10,
   "metadata": {},
   "outputs": [
    {
     "name": "stderr",
     "output_type": "stream",
     "text": [
      "Clipping input data to the valid range for imshow with RGB data ([0..1] for floats or [0..255] for integers).\n"
     ]
    },
    {
     "name": "stdout",
     "output_type": "stream",
     "text": [
      "tensor(0.0384)\n",
      "torch.Size([3, 32, 32])\n",
      "56\n"
     ]
    },
    {
     "data": {
      "image/png": "[encoded data removed]",
      "text/plain": [
       "<Figure size 432x288 with 1 Axes>"
      ]
     },
     "metadata": {
      "needs_background": "light"
     },
     "output_type": "display_data"
    }
   ],
   "source": [
    "for idx, data in enumerate(trainset.dataset):\n",
    "    x,y = data\n",
    "    if idx == 6:\n",
    "        print(torch.mean(x))\n",
    "        print(x.shape)\n",
    "        print(y)\n",
    "        plt.imshow(x.permute(1, 2, 0))\n",
    "        break"
   ]
  },
  {
   "cell_type": "code",
   "execution_count": 9,
   "metadata": {},
   "outputs": [
    {
     "name": "stderr",
     "output_type": "stream",
     "text": [
      "Clipping input data to the valid range for imshow with RGB data ([0..1] for floats or [0..255] for integers).\n"
     ]
    },
    {
     "name": "stdout",
     "output_type": "stream",
     "text": [
      "tensor(-0.0451)\n",
      "torch.Size([3, 224, 224])\n",
      "662\n"
     ]
    },
    {
     "data": {
      "image/png": "[encoded data removed]",
      "text/plain": [
       "<Figure size 432x288 with 1 Axes>"
      ]
     },
     "metadata": {
      "needs_background": "light"
     },
     "output_type": "display_data"
    }
   ],
   "source": [
    "for idx, data in enumerate(testset.dataset):\n",
    "    x,y = data\n",
    "    if idx == 6:\n",
    "        print(torch.mean(x))\n",
    "        print(x.shape)\n",
    "        print(y)\n",
    "        plt.imshow(x.permute(1, 2, 0))\n",
    "        break"
   ]
  },
  {
   "cell_type": "code",
   "execution_count": 30,
   "metadata": {},
   "outputs": [],
   "source": [
    "transform_test =transforms.Compose([\n",
    "            transforms.Resize([224, 224])\n",
    "            ]            \n",
    "        )"
   ]
  },
  {
   "cell_type": "code",
   "execution_count": 8,
   "metadata": {},
   "outputs": [
    {
     "ename": "NameError",
     "evalue": "name 'testset' is not defined",
     "output_type": "error",
     "traceback": [
      "\u001b[0;31m---------------------------------------------------------------------------\u001b[0m",
      "\u001b[0;31mNameError\u001b[0m                                 Traceback (most recent call last)",
      "\u001b[0;32m/var/folders/9r/pl8035cn4cjb59msrdwcrvhr0000gn/T/ipykernel_6754/3221847992.py\u001b[0m in \u001b[0;36m<module>\u001b[0;34m\u001b[0m\n\u001b[0;32m----> 1\u001b[0;31m \u001b[0;32mfor\u001b[0m \u001b[0midx\u001b[0m\u001b[0;34m,\u001b[0m \u001b[0mdata\u001b[0m \u001b[0;32min\u001b[0m \u001b[0menumerate\u001b[0m\u001b[0;34m(\u001b[0m\u001b[0mtestset\u001b[0m\u001b[0;34m.\u001b[0m\u001b[0mdataset\u001b[0m\u001b[0;34m)\u001b[0m\u001b[0;34m:\u001b[0m\u001b[0;34m\u001b[0m\u001b[0;34m\u001b[0m\u001b[0m\n\u001b[0m\u001b[1;32m      2\u001b[0m     \u001b[0mx\u001b[0m\u001b[0;34m,\u001b[0m\u001b[0my\u001b[0m \u001b[0;34m=\u001b[0m \u001b[0mdata\u001b[0m\u001b[0;34m\u001b[0m\u001b[0;34m\u001b[0m\u001b[0m\n\u001b[1;32m      3\u001b[0m     \u001b[0;32mif\u001b[0m \u001b[0midx\u001b[0m \u001b[0;34m==\u001b[0m \u001b[0;36m6\u001b[0m\u001b[0;34m:\u001b[0m\u001b[0;34m\u001b[0m\u001b[0;34m\u001b[0m\u001b[0m\n\u001b[1;32m      4\u001b[0m         \u001b[0mx\u001b[0m \u001b[0;34m=\u001b[0m \u001b[0mtransform_test\u001b[0m\u001b[0;34m(\u001b[0m\u001b[0mx\u001b[0m\u001b[0;34m)\u001b[0m\u001b[0;34m\u001b[0m\u001b[0;34m\u001b[0m\u001b[0m\n\u001b[1;32m      5\u001b[0m         \u001b[0mprint\u001b[0m\u001b[0;34m(\u001b[0m\u001b[0mx\u001b[0m\u001b[0;34m.\u001b[0m\u001b[0mshape\u001b[0m\u001b[0;34m)\u001b[0m\u001b[0;34m\u001b[0m\u001b[0;34m\u001b[0m\u001b[0m\n",
      "\u001b[0;31mNameError\u001b[0m: name 'testset' is not defined"
     ]
    }
   ],
   "source": [
    "for idx, data in enumerate(testset.dataset):\n",
    "    x,y = data\n",
    "    if idx == 6:\n",
    "        x = transform_test(x)\n",
    "        print(x.shape)\n",
    "        print(y)\n",
    "        plt.imshow(x.permute(1, 2, 0))\n",
    "        break"
   ]
  },
  {
   "cell_type": "code",
   "execution_count": 34,
   "metadata": {},
   "outputs": [],
   "source": [
    "t = np.array([[ 0.4616,  0.4861,  0.4841,  0.4879,  0.5093,  0.5120],\n",
    "         [ 0.4618,  0.4875,  0.4861,  0.4821,  0.5068,  0.5084],\n",
    "         [ 0.4552,  0.4778,  0.4813,   0.4850,  0.5050,  0.5059],\n",
    "         [ 0.1262,  0.0679, -0.0563,  0.5088,  0.5232,  0.4990],\n",
    "         [ 0.1602, -0.0050,  0.2031,    0.5089,  0.5243,  0.4976],\n",
    "         [ 0.1911,  0.1188,  0.4278,  0.5104,  0.5151,  0.5052]])"
   ]
  },
  {
   "cell_type": "code",
   "execution_count": 40,
   "metadata": {},
   "outputs": [],
   "source": [
    "from PIL import Image\n",
    "from matplotlib import cm\n",
    "im = Image.fromarray(np.uint8(t*255))"
   ]
  },
  {
   "cell_type": "code",
   "execution_count": 41,
   "metadata": {},
   "outputs": [
    {
     "data": {
      "text/plain": [
       "PIL.Image.Image"
      ]
     },
     "execution_count": 41,
     "metadata": {},
     "output_type": "execute_result"
    }
   ],
   "source": [
    "type(im)"
   ]
  },
  {
   "cell_type": "code",
   "execution_count": 42,
   "metadata": {},
   "outputs": [
    {
     "data": {
      "image/png": "[encoded data removed]",
      "text/plain": [
       "<PIL.Image.Image image mode=L size=224x224 at 0x7FC1252B0890>"
      ]
     },
     "execution_count": 42,
     "metadata": {},
     "output_type": "execute_result"
    }
   ],
   "source": [
    "transform_test(im)"
   ]
  },
  {
   "cell_type": "markdown",
   "metadata": {},
   "source": [
    "# 64"
   ]
  },
  {
   "cell_type": "code",
   "execution_count": 29,
   "metadata": {},
   "outputs": [
    {
     "name": "stdout",
     "output_type": "stream",
     "text": [
      "1\n",
      "2\n"
     ]
    },
    {
     "ename": "",
     "evalue": "",
     "output_type": "error",
     "traceback": [
      "\u001b[1;31mThe Kernel crashed while executing code in the the current cell or a previous cell. Please review the code in the cell(s) to identify a possible cause of the failure. Click <a href='https://aka.ms/vscodeJupyterKernelCrash'>here</a> for more info. View Jupyter <a href='command:jupyter.viewOutput'>log</a> for further details."
     ]
    },
    {
     "ename": "",
     "evalue": "",
     "output_type": "error",
     "traceback": [
      "\u001b[1;31mCanceled future for execute_request message before replies were done"
     ]
    }
   ],
   "source": [
    "path_train = '/Users/dj/Desktop/MT_Desktop/ImageNet/ImageNet64/Imagenet64_train/'\n",
    "path_test = '/Users/dj/Desktop/MT_Desktop/ImageNet/ImageNet64/val_data'\n",
    "\n",
    "trainset, testset = create_imnet_train_test(path_train= path_train,\n",
    "                                             path_test=path_test,\n",
    "                                                 batch_size = 128,\n",
    "                                                  im_size = 64)"
   ]
  },
  {
   "cell_type": "code",
   "execution_count": 7,
   "metadata": {},
   "outputs": [],
   "source": [
    "# path = '/Users/dj/Desktop/MT_Desktop/ImageNet/Imagenet32_train/'\n",
    "\n",
    "# load_databatch(path, 1, img_size=32)"
   ]
  },
  {
   "cell_type": "code",
   "execution_count": 8,
   "metadata": {},
   "outputs": [],
   "source": [
    "path = '/Users/dj/Desktop/MT_Desktop/ImageNet/Imagenet32_train/train_data_batch_1'"
   ]
  },
  {
   "cell_type": "code",
   "execution_count": 9,
   "metadata": {},
   "outputs": [],
   "source": [
    "x,y = load_data_train(path)"
   ]
  },
  {
   "cell_type": "code",
   "execution_count": 10,
   "metadata": {},
   "outputs": [
    {
     "data": {
      "text/plain": [
       "-0.0005127891"
      ]
     },
     "execution_count": 10,
     "metadata": {},
     "output_type": "execute_result"
    }
   ],
   "source": [
    "np.mean(x)"
   ]
  },
  {
   "cell_type": "code",
   "execution_count": 11,
   "metadata": {},
   "outputs": [],
   "source": [
    "# a_set = set(y)\n",
    "# number_of_unique_values = len(a_set)\n",
    "# print(number_of_unique_values)"
   ]
  },
  {
   "cell_type": "markdown",
   "metadata": {},
   "source": [
    "# Gettin TEST data"
   ]
  },
  {
   "cell_type": "code",
   "execution_count": 8,
   "metadata": {},
   "outputs": [
    {
     "name": "stdout",
     "output_type": "stream",
     "text": [
      "<class 'numpy.ndarray'>\n",
      "<class 'list'>\n",
      "<class 'list'>\n"
     ]
    }
   ],
   "source": [
    "x_test,y_test = load_data_test('/Users/dj/Desktop/MT_Desktop/ImageNet/val_data', im_size = 32)\n",
    "print(type(x_test))\n",
    "print(type(y_test))\n",
    "dat_test = create_tuples(x_test, y_test, im_size = 32)\n",
    "print(type(dat_test))"
   ]
  },
  {
   "cell_type": "code",
   "execution_count": 9,
   "metadata": {},
   "outputs": [
    {
     "name": "stdout",
     "output_type": "stream",
     "text": [
      "(3, 32, 32)\n",
      "371\n"
     ]
    }
   ],
   "source": [
    "print((x_test[0].shape))\n",
    "print((y_test[0]))"
   ]
  },
  {
   "cell_type": "code",
   "execution_count": 17,
   "metadata": {},
   "outputs": [
    {
     "name": "stdout",
     "output_type": "stream",
     "text": [
      "662\n"
     ]
    },
    {
     "data": {
      "text/plain": [
       "<matplotlib.image.AxesImage at 0x7fbb10f2b490>"
      ]
     },
     "execution_count": 17,
     "metadata": {},
     "output_type": "execute_result"
    },
    {
     "data": {
      "image/png": "[encoded data removed]",
      "text/plain": [
       "<Figure size 432x288 with 1 Axes>"
      ]
     },
     "metadata": {
      "needs_background": "light"
     },
     "output_type": "display_data"
    }
   ],
   "source": [
    "s = 6\n",
    "image = torch.tensor(x_test[s]) #34\n",
    "print(y_test[s])\n",
    "plt.imshow(image.permute(1, 2, 0))"
   ]
  },
  {
   "cell_type": "markdown",
   "metadata": {},
   "source": [
    "# Average Calculations - 32"
   ]
  },
  {
   "cell_type": "code",
   "execution_count": 24,
   "metadata": {},
   "outputs": [
    {
     "name": "stdout",
     "output_type": "stream",
     "text": [
      "mean and std: \n",
      " tensor([0.4656, 0.4361, 0.4225]) tensor([0.2732, 0.2491, 0.2550])\n"
     ]
    }
   ],
   "source": [
    "from torch.utils.data import DataLoader\n",
    "\n",
    "image_data_loader = DataLoader(\n",
    "  dat_test, \n",
    "  # batch size is whole datset\n",
    "  batch_size=len(dat_test), \n",
    "  shuffle=False, \n",
    "  num_workers=0)\n",
    "\n",
    "def mean_std(loader):\n",
    "  images, labels = next(iter(loader))\n",
    "  # shape of images = [b,c,w,h]\n",
    "  mean, std = images.mean([0,2,3]), images.std([0,2,3])\n",
    "  return mean, std\n",
    "\n",
    "mean1, std1 = mean_std(image_data_loader)\n",
    "print(\"mean and std: \\n\", mean1, std1)"
   ]
  },
  {
   "cell_type": "code",
   "execution_count": 14,
   "metadata": {},
   "outputs": [
    {
     "name": "stdout",
     "output_type": "stream",
     "text": [
      "mean and std: \n",
      " tensor([0.4656, 0.4361, 0.4225]) tensor([0.2732, 0.2491, 0.2550])\n"
     ]
    }
   ],
   "source": [
    "# Approach for BATCHES\n",
    "import torch\n",
    "from torch.utils.data import DataLoader\n",
    "\n",
    "batch_size = 100\n",
    "\n",
    "loader = DataLoader(\n",
    "  dat_test, \n",
    "  batch_size = batch_size, \n",
    "  num_workers=1)\n",
    "\n",
    "def batch_mean_and_sd(loader):\n",
    "    \n",
    "    cnt = 0\n",
    "    fst_moment = torch.empty(3)\n",
    "    snd_moment = torch.empty(3)\n",
    "\n",
    "    for images, _ in loader:\n",
    "        b, c, h, w = images.shape\n",
    "        nb_pixels = b * h * w\n",
    "        sum_ = torch.sum(images, dim=[0, 2, 3])\n",
    "        sum_of_square = torch.sum(images ** 2,\n",
    "                                  dim=[0, 2, 3])\n",
    "        fst_moment = (cnt * fst_moment + sum_) / (cnt + nb_pixels)\n",
    "        snd_moment = (cnt * snd_moment + sum_of_square) / (cnt + nb_pixels)\n",
    "        cnt += nb_pixels\n",
    "\n",
    "    mean, std = fst_moment, torch.sqrt(snd_moment - fst_moment ** 2)        \n",
    "    return mean,std\n",
    "  \n",
    "mean2, std2 = batch_mean_and_sd(loader)\n",
    "print(\"mean and std: \\n\", mean2, std2)"
   ]
  },
  {
   "cell_type": "code",
   "execution_count": 17,
   "metadata": {},
   "outputs": [],
   "source": [
    "transform=transforms.Compose([\n",
    "    transforms.ToTensor(),\n",
    "\ttransforms.Normalize(\n",
    "        mean = mean1,\n",
    "        std = std1)\n",
    "    ]\n",
    ")"
   ]
  },
  {
   "cell_type": "code",
   "execution_count": 18,
   "metadata": {},
   "outputs": [
    {
     "data": {
      "text/plain": [
       "tensor(-0.0016)"
      ]
     },
     "execution_count": 18,
     "metadata": {},
     "output_type": "execute_result"
    }
   ],
   "source": [
    "torch.mean(transform(x_test[10]))"
   ]
  },
  {
   "cell_type": "code",
   "execution_count": 19,
   "metadata": {},
   "outputs": [],
   "source": [
    "means= []\n",
    "for i in np.arange(0,len(x_test),1):\n",
    "    means.append(torch.mean(transform(x_test[i])))"
   ]
  },
  {
   "cell_type": "code",
   "execution_count": 20,
   "metadata": {},
   "outputs": [
    {
     "data": {
      "text/plain": [
       "-0.00021054603"
      ]
     },
     "execution_count": 20,
     "metadata": {},
     "output_type": "execute_result"
    }
   ],
   "source": [
    "np.mean(means)"
   ]
  },
  {
   "cell_type": "markdown",
   "metadata": {},
   "source": [
    "# Average Calculations - 64"
   ]
  },
  {
   "cell_type": "code",
   "execution_count": 25,
   "metadata": {},
   "outputs": [
    {
     "name": "stdout",
     "output_type": "stream",
     "text": [
      "<class 'numpy.ndarray'>\n",
      "<class 'list'>\n",
      "<class 'list'>\n"
     ]
    }
   ],
   "source": [
    "x_test,y_test = load_data_test('/Users/dj/Desktop/MT_Desktop/ImageNet/ImageNet64/val_data', im_size = 64)\n",
    "print(type(x_test))\n",
    "print(type(y_test))\n",
    "dat_test = create_tuples(x_test, y_test, im_size = 64)\n",
    "print(type(dat_test))"
   ]
  },
  {
   "cell_type": "code",
   "execution_count": 26,
   "metadata": {},
   "outputs": [
    {
     "name": "stdout",
     "output_type": "stream",
     "text": [
      "mean and std: \n",
      " tensor([0.4660, 0.4363, 0.4231]) tensor([0.2806, 0.2582, 0.2627])\n"
     ]
    }
   ],
   "source": [
    "from torch.utils.data import DataLoader\n",
    "\n",
    "image_data_loader = DataLoader(\n",
    "  dat_test, \n",
    "  # batch size is whole datset\n",
    "  batch_size=len(dat_test), \n",
    "  shuffle=False, \n",
    "  num_workers=0)\n",
    "\n",
    "def mean_std(loader):\n",
    "  images, labels = next(iter(loader))\n",
    "  # shape of images = [b,c,w,h]\n",
    "  mean, std = images.mean([0,2,3]), images.std([0,2,3])\n",
    "  return mean, std\n",
    "\n",
    "mean1, std1 = mean_std(image_data_loader)\n",
    "print(\"mean and std: \\n\", mean1, std1)"
   ]
  },
  {
   "cell_type": "code",
   "execution_count": null,
   "metadata": {},
   "outputs": [],
   "source": []
  },
  {
   "cell_type": "code",
   "execution_count": null,
   "metadata": {},
   "outputs": [],
   "source": []
  },
  {
   "cell_type": "code",
   "execution_count": 62,
   "metadata": {},
   "outputs": [
    {
     "name": "stdout",
     "output_type": "stream",
     "text": [
      "torch.Size([3, 32, 32])\n",
      "371\n"
     ]
    }
   ],
   "source": [
    "for images, _ in dat_test:\n",
    "    print(images.shape)\n",
    "    print(_)\n",
    "    break"
   ]
  },
  {
   "cell_type": "code",
   "execution_count": 63,
   "metadata": {},
   "outputs": [
    {
     "name": "stdout",
     "output_type": "stream",
     "text": [
      "64\n",
      "3\n",
      "32\n",
      "32\n"
     ]
    },
    {
     "name": "stderr",
     "output_type": "stream",
     "text": [
      "[W ParallelNative.cpp:229] Warning: Cannot set number of intraop threads after parallel work has started or after set_num_threads call when using native parallel backend (function set_num_threads)\n"
     ]
    }
   ],
   "source": [
    "for images, _ in loader:\n",
    "    b, c, h, w = images.shape\n",
    "    print(b)\n",
    "    print(c)\n",
    "    print(h)\n",
    "    print(w)\n",
    "    break"
   ]
  },
  {
   "cell_type": "code",
   "execution_count": null,
   "metadata": {},
   "outputs": [],
   "source": []
  },
  {
   "cell_type": "code",
   "execution_count": 4,
   "metadata": {},
   "outputs": [
    {
     "name": "stderr",
     "output_type": "stream",
     "text": [
      "/opt/anaconda3/envs/MasterThesis/lib/python3.7/site-packages/ipykernel_launcher.py:82: FutureWarning: The input object of type 'Tensor' is an array-like implementing one of the corresponding protocols (`__array__`, `__array_interface__` or `__array_struct__`); but not a sequence (or 0-D). In the future, this object will be coerced as if it was first converted using `np.array(obj)`. To retain the old behaviour, you have to either modify the type 'Tensor', or assign to an empty array created with `np.empty(correct_shape, dtype=object)`.\n",
      "/opt/anaconda3/envs/MasterThesis/lib/python3.7/site-packages/ipykernel_launcher.py:82: VisibleDeprecationWarning: Creating an ndarray from ragged nested sequences (which is a list-or-tuple of lists-or-tuples-or ndarrays with different lengths or shapes) is deprecated. If you meant to do this, you must specify 'dtype=object' when creating the ndarray.\n"
     ]
    }
   ],
   "source": [
    "# Create both datasets\n",
    "batch_size = 100\n",
    "train = '/Users/dj/Desktop/MT_Desktop/ImageNet/Imagenet32_train/'\n",
    "test = '/Users/dj/Desktop/MT_Desktop/ImageNet/val_data'\n",
    "trainset, testset = create_imnet_train_test(path_train= train, path_test=test)"
   ]
  },
  {
   "cell_type": "code",
   "execution_count": 11,
   "metadata": {},
   "outputs": [
    {
     "name": "stdout",
     "output_type": "stream",
     "text": [
      "mean and std: \n",
      " tensor([0.4578, 0.4381, 0.4403]) tensor([0.2750, 0.2450, 0.2628])\n"
     ]
    }
   ],
   "source": [
    "from torch.utils.data import DataLoader\n",
    "\n",
    "def mean_std(loader):\n",
    "  images, labels = next(iter(loader))\n",
    "  # shape of images = [b,c,w,h]\n",
    "  mean, std = images.mean([0,2,3]), images.std([0,2,3])\n",
    "  return mean, std\n",
    "\n",
    "mean1, std1 = mean_std(testset)\n",
    "print(\"mean and std: \\n\", mean1, std1)"
   ]
  },
  {
   "cell_type": "code",
   "execution_count": 8,
   "metadata": {},
   "outputs": [
    {
     "name": "stdout",
     "output_type": "stream",
     "text": [
      "tensor([[[[-0.1683,  0.0900,  0.1331,  ..., -0.1253, -0.1109, -0.1396],\n",
      "          [-0.2832,  0.0326,  0.0900,  ..., -0.0966, -0.0966, -0.0679],\n",
      "          [-0.4985, -0.1396,  0.0183,  ..., -0.0248, -0.0104, -0.0104],\n",
      "          ...,\n",
      "          [-0.8430, -0.8143, -0.8143,  ..., -0.8861, -0.8430, -0.8430],\n",
      "          [-0.8861, -0.9004, -0.8861,  ..., -1.0009, -1.0152, -1.0583],\n",
      "          [-1.1731, -1.1157, -1.0583,  ..., -1.0296, -1.0440, -1.0152]],\n",
      "\n",
      "         [[-0.3653, -0.1449, -0.0977,  ..., -0.1607, -0.1449, -0.1449],\n",
      "          [-0.4598, -0.1764, -0.0819,  ..., -0.1607, -0.1449, -0.1292],\n",
      "          [-0.6487, -0.3181, -0.1764,  ..., -0.1134, -0.0977, -0.0819],\n",
      "          ...,\n",
      "          [-1.0423, -1.0265, -1.0108,  ..., -0.9950, -0.9636, -0.9478],\n",
      "          [-1.0738, -1.1052, -1.0738,  ..., -1.0895, -1.1210, -1.1525],\n",
      "          [-1.1367, -1.1840, -1.1840,  ..., -1.1052, -1.1210, -1.1052]],\n",
      "\n",
      "         [[-0.7649, -0.5496, -0.5035,  ..., -0.3804, -0.3343, -0.3343],\n",
      "          [-0.8110, -0.5496, -0.4881,  ..., -0.4112, -0.3651, -0.3497],\n",
      "          [-0.9341, -0.6572, -0.5342,  ..., -0.4266, -0.4112, -0.3958],\n",
      "          ...,\n",
      "          [-1.2724, -1.2570, -1.2570,  ..., -1.1801, -1.1647, -1.1494],\n",
      "          [-1.2878, -1.2724, -1.2724,  ..., -1.2109, -1.2263, -1.2416],\n",
      "          [-1.1186, -1.2109, -1.2878,  ..., -1.2263, -1.2263, -1.2109]]],\n",
      "\n",
      "\n",
      "        [[[ 0.1762,  0.5063,  0.4919,  ...,  0.6355,  0.5637,  0.4489],\n",
      "          [ 0.1474,  0.6068,  0.6211,  ...,  0.6068,  0.5207,  0.4345],\n",
      "          [ 0.2049,  0.8077,  0.7934,  ...,  0.5350,  0.4919,  0.5781],\n",
      "          ...,\n",
      "          [-0.3119, -0.5559, -0.6995,  ..., -0.5416, -0.6133, -0.6277],\n",
      "          [-0.4124, -0.6564, -0.7999,  ..., -0.7282, -0.6133, -0.7569],\n",
      "          [-0.5416, -0.7856, -0.8717,  ..., -0.8143, -0.7999, -0.7856]],\n",
      "\n",
      "         [[-0.3968, -0.0662, -0.0819,  ...,  0.2487,  0.1857,  0.0597],\n",
      "          [-0.4283, -0.0032,  0.0125,  ...,  0.2172,  0.1385,  0.0440],\n",
      "          [-0.3811,  0.1699,  0.1699,  ...,  0.1385,  0.1070,  0.2014],\n",
      "          ...,\n",
      "          [-0.7746, -0.9636, -1.0738,  ..., -0.8534, -0.9321, -0.9163],\n",
      "          [-0.8534, -1.0423, -1.1210,  ..., -0.9793, -0.9006, -1.0108],\n",
      "          [-0.9478, -1.0895, -1.1682,  ..., -1.0423, -1.0423, -1.0423]],\n",
      "\n",
      "         [[-1.3339, -1.3032, -1.2724,  ..., -0.9648, -0.9802, -1.0571],\n",
      "          [-1.3800, -1.3185, -1.2878,  ..., -1.0571, -1.1032, -1.1186],\n",
      "          [-1.3647, -1.2109, -1.1340,  ..., -1.1494, -1.1186, -1.0725],\n",
      "          ...,\n",
      "          [-1.4262, -1.3954, -1.4108,  ..., -1.3339, -1.3493, -1.3493],\n",
      "          [-1.4108, -1.4108, -1.4108,  ..., -1.3647, -1.3493, -1.3800],\n",
      "          [-1.4108, -1.3954, -1.3954,  ..., -1.3800, -1.3647, -1.3493]]],\n",
      "\n",
      "\n",
      "        [[[-0.9004, -0.8286, -0.6420,  ..., -1.2593, -1.2593, -1.3310],\n",
      "          [-0.8573, -0.7856, -0.5990,  ..., -1.3597, -1.3167, -1.3597],\n",
      "          [-0.8143, -0.7282, -0.5559,  ..., -1.4172, -1.3310, -1.2880],\n",
      "          ...,\n",
      "          [-1.2018, -1.1301, -1.1157,  ..., -1.0870, -0.9865, -1.0727],\n",
      "          [-1.2162, -1.1731, -1.1157,  ..., -1.1157, -1.0870, -1.1444],\n",
      "          [-1.2593, -1.1875, -1.1444,  ..., -1.0870, -1.0009, -1.2018]],\n",
      "\n",
      "         [[-1.1052, -1.0580, -0.9321,  ..., -1.4044, -1.3729, -1.4044],\n",
      "          [-1.0738, -1.0108, -0.8848,  ..., -1.4516, -1.4044, -1.4358],\n",
      "          [-1.0265, -0.9636, -0.8534,  ..., -1.4673, -1.4044, -1.3729],\n",
      "          ...,\n",
      "          [-1.3414, -1.2942, -1.2627,  ..., -1.2154, -1.0895, -1.1525],\n",
      "          [-1.3571, -1.3256, -1.2784,  ..., -1.2469, -1.1840, -1.2154],\n",
      "          [-1.3729, -1.3256, -1.2784,  ..., -1.2154, -1.0738, -1.2784]],\n",
      "\n",
      "         [[-1.2570, -1.2263, -1.2263,  ..., -1.4262, -1.4108, -1.4416],\n",
      "          [-1.2416, -1.2263, -1.2109,  ..., -1.4416, -1.4416, -1.4569],\n",
      "          [-1.2263, -1.2109, -1.1955,  ..., -1.4416, -1.4262, -1.4262],\n",
      "          ...,\n",
      "          [-1.3954, -1.3647, -1.3339,  ..., -1.2416, -1.1032, -1.1494],\n",
      "          [-1.3954, -1.3800, -1.3493,  ..., -1.2724, -1.1955, -1.1955],\n",
      "          [-1.4262, -1.3954, -1.3493,  ..., -1.2416, -1.0879, -1.2570]]],\n",
      "\n",
      "\n",
      "        ...,\n",
      "\n",
      "\n",
      "        [[[ 1.5254,  1.5111,  1.4967,  ..., -0.2114, -0.1540, -0.2688],\n",
      "          [ 1.5111,  1.4824,  1.5111,  ..., -0.0535,  0.0613,  0.0326],\n",
      "          [ 1.5254,  1.4824,  1.5111,  ..., -1.1731, -1.1588, -1.0440],\n",
      "          ...,\n",
      "          [ 1.2384,  1.2671,  1.2527,  ..., -0.6564, -0.7999, -0.9291],\n",
      "          [ 0.9943,  0.9082,  1.0661,  ..., -0.7425, -0.6420, -0.8717],\n",
      "          [ 1.0231,  1.1092,  1.2097,  ..., -0.8717, -0.7138, -0.7999]],\n",
      "\n",
      "         [[ 1.7127,  1.6970,  1.6813,  ..., -0.0977, -0.0190, -0.1607],\n",
      "          [ 1.6970,  1.6655,  1.6970,  ...,  0.0283,  0.1699,  0.1542],\n",
      "          [ 1.6813,  1.6655,  1.6813,  ..., -1.1840, -1.1525, -1.0423],\n",
      "          ...,\n",
      "          [ 1.3664,  1.4136,  1.3349,  ..., -0.3024, -0.4440, -0.6330],\n",
      "          [ 1.0830,  1.0201,  1.2090,  ..., -0.4283, -0.2709, -0.5228],\n",
      "          [ 1.1145,  1.2562,  1.2562,  ..., -0.5700, -0.3653, -0.4283]],\n",
      "\n",
      "         [[ 0.7730,  0.7422,  0.7422,  ..., -0.0882, -0.0267, -0.1651],\n",
      "          [ 0.7730,  0.7115,  0.7576,  ..., -0.0729,  0.0502,  0.0348],\n",
      "          [ 0.7422,  0.6961,  0.7576,  ..., -1.1494, -1.1186, -1.0263],\n",
      "          ...,\n",
      "          [ 0.9268,  1.0344,  0.9268,  ...,  0.4500,  0.3731,  0.2347],\n",
      "          [ 0.8037,  0.7115,  0.8960,  ...,  0.3270,  0.4808,  0.3270],\n",
      "          [ 0.7576,  0.9421,  0.8806,  ...,  0.1578,  0.4193,  0.3885]]],\n",
      "\n",
      "\n",
      "        [[[ 1.2958,  1.2814,  1.4967,  ..., -0.0535, -0.9148, -0.8861],\n",
      "          [ 1.4824,  1.3532,  1.5542,  ..., -0.6995, -0.5416, -0.7282],\n",
      "          [ 1.5685,  1.4824,  1.5542,  ..., -0.9291, -0.8573, -0.6995],\n",
      "          ...,\n",
      "          [ 0.7790,  0.7934,  0.8652,  ...,  0.4345, -0.4554, -0.9148],\n",
      "          [ 0.7647,  0.9226,  0.6498,  ..., -1.1301, -1.0152, -1.0152],\n",
      "          [ 0.8939,  0.8364,  0.5781,  ..., -1.2018, -1.1014, -1.0727]],\n",
      "\n",
      "         [[ 1.1932,  1.1460,  1.3821,  ..., -0.3181, -1.2154, -1.1840],\n",
      "          [ 1.3979,  1.2405,  1.4766,  ..., -1.0265, -0.9163, -1.0738],\n",
      "          [ 1.4923,  1.3821,  1.4609,  ..., -1.2154, -1.1682, -1.0423],\n",
      "          ...,\n",
      "          [ 0.5005,  0.5320,  0.6265,  ...,  0.0755, -0.9321, -1.4358],\n",
      "          [ 0.4691,  0.6580,  0.3746,  ..., -1.5303, -1.5146, -1.5146],\n",
      "          [ 0.6107,  0.5635,  0.2959,  ..., -1.5775, -1.5460, -1.5303]],\n",
      "\n",
      "         [[-0.4266, -0.5496, -0.2728,  ..., -1.0417, -1.4877, -1.4262],\n",
      "          [-0.1805, -0.4727, -0.0729,  ..., -1.5338, -1.5646, -1.5185],\n",
      "          [ 0.0502, -0.1651, -0.1190,  ..., -1.5031, -1.5031, -1.5492],\n",
      "          ...,\n",
      "          [-0.6111, -0.6572, -0.5496,  ..., -0.7188, -1.2724, -1.5800],\n",
      "          [-0.6419, -0.5650, -0.7188,  ..., -1.5953, -1.5953, -1.5953],\n",
      "          [-0.5957, -0.5650, -0.7803,  ..., -1.6107, -1.6107, -1.6107]]],\n",
      "\n",
      "\n",
      "        [[[-0.8430, -1.3454, -1.5463,  ...,  1.8269,  1.8987,  1.8556],\n",
      "          [-0.8717, -1.4746, -1.6325,  ...,  1.8269,  1.8556,  1.8700],\n",
      "          [-0.9578, -1.5751, -1.6899,  ...,  1.8269,  1.7551,  1.9130],\n",
      "          ...,\n",
      "          [ 0.6929,  0.2766, -0.5990,  ..., -0.3406, -1.3597, -0.2401],\n",
      "          [ 0.4202,  0.2049, -0.4267,  ...,  0.0326, -1.4602, -1.3167],\n",
      "          [ 0.4345,  0.3053, -0.5703,  ...,  0.5207, -1.3310, -1.4315]],\n",
      "\n",
      "         [[-0.7904, -1.3571, -1.5775,  ...,  2.1221,  2.2008,  2.1535],\n",
      "          [-0.8061, -1.4988, -1.6720,  ...,  2.1221,  2.1535,  2.1693],\n",
      "          [-0.9006, -1.6090, -1.7350,  ...,  2.1221,  2.0748,  2.2165],\n",
      "          ...,\n",
      "          [ 0.9728,  0.5005, -0.4755,  ..., -0.2551, -1.3729, -0.1292],\n",
      "          [ 0.6580,  0.4218, -0.2709,  ...,  0.1542, -1.4673, -1.3256],\n",
      "          [ 0.6895,  0.5320, -0.4440,  ...,  0.7052, -1.3256, -1.4516]],\n",
      "\n",
      "         [[-0.5650, -1.1340, -1.3800,  ...,  2.1724,  2.2339,  2.2032],\n",
      "          [-0.4727, -1.2724, -1.5031,  ...,  2.1878,  2.2032,  2.2186],\n",
      "          [-0.5188, -1.4108, -1.6261,  ...,  2.2032,  2.1571,  2.2493],\n",
      "          ...,\n",
      "          [ 1.3881,  1.0037,  0.0040,  ..., -0.1036, -1.1494,  0.0502],\n",
      "          [ 1.1421,  0.9268,  0.2193,  ...,  0.3116, -1.2263, -1.0417],\n",
      "          [ 1.1574,  1.0344,  0.0502,  ...,  0.8806, -1.0417, -1.2109]]]])\n"
     ]
    }
   ],
   "source": [
    "for data in testset:\n",
    "    x,y = data\n",
    "    print(x)\n",
    "    break"
   ]
  },
  {
   "cell_type": "code",
   "execution_count": 8,
   "metadata": {},
   "outputs": [],
   "source": [
    "transform=transforms.Compose([\n",
    "    transforms.ToTensor(),\n",
    "\ttransforms.Normalize(\n",
    "        mean = [0.4656, 0.4361, 0.4225],\n",
    "        std = [0.2732, 0.2491, 0.2550])\n",
    "    ]\n",
    ")"
   ]
  },
  {
   "cell_type": "code",
   "execution_count": 14,
   "metadata": {},
   "outputs": [
    {
     "name": "stderr",
     "output_type": "stream",
     "text": [
      "/opt/anaconda3/envs/MasterThesis/lib/python3.7/site-packages/ipykernel_launcher.py:1: FutureWarning: The input object of type 'Tensor' is an array-like implementing one of the corresponding protocols (`__array__`, `__array_interface__` or `__array_struct__`); but not a sequence (or 0-D). In the future, this object will be coerced as if it was first converted using `np.array(obj)`. To retain the old behaviour, you have to either modify the type 'Tensor', or assign to an empty array created with `np.empty(correct_shape, dtype=object)`.\n",
      "  \"\"\"Entry point for launching an IPython kernel.\n",
      "/opt/anaconda3/envs/MasterThesis/lib/python3.7/site-packages/ipykernel_launcher.py:1: VisibleDeprecationWarning: Creating an ndarray from ragged nested sequences (which is a list-or-tuple of lists-or-tuples-or ndarrays with different lengths or shapes) is deprecated. If you meant to do this, you must specify 'dtype=object' when creating the ndarray.\n",
      "  \"\"\"Entry point for launching an IPython kernel.\n"
     ]
    }
   ],
   "source": [
    "test = np.array([transform(i) for i in x_test])"
   ]
  },
  {
   "cell_type": "code",
   "execution_count": 16,
   "metadata": {},
   "outputs": [
    {
     "data": {
      "text/plain": [
       "tensor([[[-0.1683,  0.0900,  0.1331,  ..., -0.1253, -0.1109, -0.1396],\n",
       "         [-0.2832,  0.0326,  0.0900,  ..., -0.0966, -0.0966, -0.0679],\n",
       "         [-0.4985, -0.1396,  0.0183,  ..., -0.0248, -0.0104, -0.0104],\n",
       "         ...,\n",
       "         [-0.8430, -0.8143, -0.8143,  ..., -0.8861, -0.8430, -0.8430],\n",
       "         [-0.8861, -0.9004, -0.8861,  ..., -1.0009, -1.0152, -1.0583],\n",
       "         [-1.1731, -1.1157, -1.0583,  ..., -1.0296, -1.0440, -1.0152]],\n",
       "\n",
       "        [[-0.3653, -0.1449, -0.0977,  ..., -0.1607, -0.1449, -0.1449],\n",
       "         [-0.4598, -0.1764, -0.0819,  ..., -0.1607, -0.1449, -0.1292],\n",
       "         [-0.6487, -0.3181, -0.1764,  ..., -0.1134, -0.0977, -0.0819],\n",
       "         ...,\n",
       "         [-1.0423, -1.0265, -1.0108,  ..., -0.9950, -0.9636, -0.9478],\n",
       "         [-1.0738, -1.1052, -1.0738,  ..., -1.0895, -1.1210, -1.1525],\n",
       "         [-1.1367, -1.1840, -1.1840,  ..., -1.1052, -1.1210, -1.1052]],\n",
       "\n",
       "        [[-0.7649, -0.5496, -0.5035,  ..., -0.3804, -0.3343, -0.3343],\n",
       "         [-0.8110, -0.5496, -0.4881,  ..., -0.4112, -0.3651, -0.3497],\n",
       "         [-0.9341, -0.6572, -0.5342,  ..., -0.4266, -0.4112, -0.3958],\n",
       "         ...,\n",
       "         [-1.2724, -1.2570, -1.2570,  ..., -1.1801, -1.1647, -1.1494],\n",
       "         [-1.2878, -1.2724, -1.2724,  ..., -1.2109, -1.2263, -1.2416],\n",
       "         [-1.1186, -1.2109, -1.2878,  ..., -1.2263, -1.2263, -1.2109]]])"
      ]
     },
     "execution_count": 16,
     "metadata": {},
     "output_type": "execute_result"
    }
   ],
   "source": [
    "test[0]"
   ]
  },
  {
   "cell_type": "code",
   "execution_count": 17,
   "metadata": {},
   "outputs": [
    {
     "data": {
      "text/plain": [
       "tensor([[[-0.1683,  0.0900,  0.1331,  ..., -0.1253, -0.1109, -0.1396],\n",
       "         [-0.2832,  0.0326,  0.0900,  ..., -0.0966, -0.0966, -0.0679],\n",
       "         [-0.4985, -0.1396,  0.0183,  ..., -0.0248, -0.0104, -0.0104],\n",
       "         ...,\n",
       "         [-0.8430, -0.8143, -0.8143,  ..., -0.8861, -0.8430, -0.8430],\n",
       "         [-0.8861, -0.9004, -0.8861,  ..., -1.0009, -1.0152, -1.0583],\n",
       "         [-1.1731, -1.1157, -1.0583,  ..., -1.0296, -1.0440, -1.0152]],\n",
       "\n",
       "        [[-0.3653, -0.1449, -0.0977,  ..., -0.1607, -0.1449, -0.1449],\n",
       "         [-0.4598, -0.1764, -0.0819,  ..., -0.1607, -0.1449, -0.1292],\n",
       "         [-0.6487, -0.3181, -0.1764,  ..., -0.1134, -0.0977, -0.0819],\n",
       "         ...,\n",
       "         [-1.0423, -1.0265, -1.0108,  ..., -0.9950, -0.9636, -0.9478],\n",
       "         [-1.0738, -1.1052, -1.0738,  ..., -1.0895, -1.1210, -1.1525],\n",
       "         [-1.1367, -1.1840, -1.1840,  ..., -1.1052, -1.1210, -1.1052]],\n",
       "\n",
       "        [[-0.7649, -0.5496, -0.5035,  ..., -0.3804, -0.3343, -0.3343],\n",
       "         [-0.8110, -0.5496, -0.4881,  ..., -0.4112, -0.3651, -0.3497],\n",
       "         [-0.9341, -0.6572, -0.5342,  ..., -0.4266, -0.4112, -0.3958],\n",
       "         ...,\n",
       "         [-1.2724, -1.2570, -1.2570,  ..., -1.1801, -1.1647, -1.1494],\n",
       "         [-1.2878, -1.2724, -1.2724,  ..., -1.2109, -1.2263, -1.2416],\n",
       "         [-1.1186, -1.2109, -1.2878,  ..., -1.2263, -1.2263, -1.2109]]])"
      ]
     },
     "execution_count": 17,
     "metadata": {},
     "output_type": "execute_result"
    }
   ],
   "source": [
    "transform(x_test[0])"
   ]
  },
  {
   "cell_type": "code",
   "execution_count": null,
   "metadata": {},
   "outputs": [],
   "source": [
    "    # # Normalization.\n",
    "    # mrgb = [0.4656, 0.4361, 0.4225]\n",
    "    # srgb = [0.2732, 0.2491, 0.2550]\n",
    "    # normalize = transforms.Normalize(mean=mrgb, std=srgb)\n",
    "\n",
    "    # # Train loader.\n",
    "    # train_data = datasets.ImageFolder(basedir + \"train/\", transform=transforms.Compose(\n",
    "    #     [transforms.RandomResizedCrop(224), transforms.RandomHorizontalFlip(), transforms.ToTensor(), normalize]))\n",
    "\n",
    "    # trainloader = torch.utils.data.DataLoader(train_data, batch_size=batch_size, shuffle=True, **kwargs)\n",
    "\n",
    "    # # Test loader.\n",
    "    # test_data = datasets.ImageFolder(basedir + \"test/\", transform=transforms.Compose(\n",
    "    #     [transforms.RandomResizedCrop(224), transforms.ToTensor(), normalize]))\n",
    "\n",
    "    # testloader = torch.utils.data.DataLoader(test_data, batch_size=batch_size, shuffle=False, **kwargs)"
   ]
  }
 ],
 "metadata": {
  "interpreter": {
   "hash": "06b0d7cc3ff6be5802ae025fed16569565f330a28b5df50b09d05391387a3b66"
  },
  "kernelspec": {
   "display_name": "Python 3.7.13 ('MasterThesis')",
   "language": "python",
   "name": "python3"
  },
  "language_info": {
   "codemirror_mode": {
    "name": "ipython",
    "version": 3
   },
   "file_extension": ".py",
   "mimetype": "text/x-python",
   "name": "python",
   "nbconvert_exporter": "python",
   "pygments_lexer": "ipython3",
   "version": "3.7.13"
  },
  "orig_nbformat": 4
 },
 "nbformat": 4,
 "nbformat_minor": 2
}
